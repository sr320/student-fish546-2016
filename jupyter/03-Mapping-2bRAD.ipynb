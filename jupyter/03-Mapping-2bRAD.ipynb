{
 "cells": [
  {
   "cell_type": "markdown",
   "metadata": {},
   "source": [
    "# Mapping 2bRAD with Bowtie"
   ]
  },
  {
   "cell_type": "markdown",
   "metadata": {},
   "source": [
    "\n",
    "| Sample  | Weight (grams in shell)| Length (mm) | Raw 2bRAD reads |\n",
    "|---------|------------------------|-------------|-----------------|\n",
    "| hc1_2B  | 2.2                    |  17.41      | 1521\n",
    "| hc1_4B  | 1.9                    |  20.43           | 2294290\n",
    "| hc2_15B | 2.2                    |  25.33      | 2498\n",
    "| hc2_17  | 1.1                    |  19.38      | (seq 4x)best = 2964986\n",
    "| hc3_1   | 2.2                    |  26.79        | 1863108\n",
    "| hc3_5   | 1.9                    |  19.5       | 1915\n",
    "| hc3_7   | 1.4                    | 18.43            | 2438612\n",
    "| hc3_10  | 1.2                    |  19.80           | 4091281\n",
    "| hc3_11  | 2.1                    |   20.54          | 2901608\n",
    "| ss2_9B  | 1.5                    | 17.2        | 749\n",
    "| ss2_14B | 2.2                    | 21.02       | 29745\n",
    "| ss2_18B | 5.3                    | 35.76       | 3016\n",
    "| ss3_3B  | 2.1                    | 22.71       | 2076769\n",
    "| ss3_14B | 2.4                    | 24.71       | 2661152\n",
    "| ss3_15B | 2.6                    | 26.78       | 2816364\n",
    "| ss3_16B | 4.2                    | 39.57       | 2070520\n",
    "| ss3_20  | 2.3                    | 26.96       | 1656456\n",
    "| ss5_18  | 5.4                    | 27.34       | 2358172\n"
   ]
  },
  {
   "cell_type": "code",
   "execution_count": 1,
   "metadata": {
    "collapsed": false
   },
   "outputs": [
    {
     "data": {
      "text/plain": [
       "u'/Users/sr320/git-repos/student-fish546-2016/jupyter'"
      ]
     },
     "execution_count": 1,
     "metadata": {},
     "output_type": "execute_result"
    }
   ],
   "source": [
    "pwd"
   ]
  },
  {
   "cell_type": "code",
   "execution_count": 5,
   "metadata": {
    "collapsed": false
   },
   "outputs": [
    {
     "name": "stdout",
     "output_type": "stream",
     "text": [
      "1914464 reads; of these:\r\n",
      "  1914464 (100.00%) were unpaired; of these:\r\n",
      "    1910198 (99.78%) aligned 0 times\r\n",
      "    3432 (0.18%) aligned exactly 1 time\r\n",
      "    834 (0.04%) aligned >1 times\r\n",
      "0.22% overall alignment rate\r\n"
     ]
    }
   ],
   "source": [
    "!/Applications/bioinfo/bowtie2-2.2.4/bowtie2 \\\n",
    "-x ../data/Ostrea_lurida-Scaff-10k-bowtie-index \\\n",
    "-U /Volumes/web/nightingales/O_lurida/2bRAD_Dec2015/HC1-1_TTAGGC-TCATG_L001_R1_001.fastq.gz \\\n",
    "-p 6 \\\n",
    "--very-fast \\\n",
    "-S /Volumes/caviar/wd/2016-11-12/HC1-1.sam\n",
    "!samtools view -bS /Volumes/caviar/wd/2016-11-12/HC1-1.sam \\\n",
    "| samtools sort -o /Volumes/caviar/wd/2016-11-12/HC1-1.bam\n",
    "!samtools index /Volumes/caviar/wd/2016-11-12/HC1-1.bam\n"
   ]
  },
  {
   "cell_type": "code",
   "execution_count": 11,
   "metadata": {
    "collapsed": false
   },
   "outputs": [
    {
     "name": "stdout",
     "output_type": "stream",
     "text": [
      "/Users/sr320/git-repos/student-fish546-2016/jupyter\n"
     ]
    }
   ],
   "source": [
    "cd /Users/sr320/git-repos/student-fish546-2016/jupyter"
   ]
  },
  {
   "cell_type": "code",
   "execution_count": 12,
   "metadata": {
    "collapsed": false
   },
   "outputs": [
    {
     "name": "stdout",
     "output_type": "stream",
     "text": [
      "1521 reads; of these:\r\n",
      "  1521 (100.00%) were unpaired; of these:\r\n",
      "    1516 (99.67%) aligned 0 times\r\n",
      "    5 (0.33%) aligned exactly 1 time\r\n",
      "    0 (0.00%) aligned >1 times\r\n",
      "0.33% overall alignment rate\r\n"
     ]
    }
   ],
   "source": [
    "!/Applications/bioinfo/bowtie2-2.2.4/bowtie2 \\\n",
    "-x ../data/Ostrea_lurida-Scaff-10k-bowtie-index \\\n",
    "-U /Volumes/web/nightingales/O_lurida/2bRAD_Dec2015/HC1-2_CAGATC-CGCTATG_L001_R1_001.fastq.gz \\\n",
    "-p 8 \\\n",
    "--very-fast \\\n",
    "-S /Volumes/caviar/wd/2016-11-12/HC1-2.sam\n",
    "!samtools view -bS /Volumes/caviar/wd/2016-11-12/HC1-2.sam \\\n",
    "| samtools sort -o /Volumes/caviar/wd/2016-11-12/HC1-2.bam\n",
    "!samtools index /Volumes/caviar/wd/2016-11-12/HC1-2.bam"
   ]
  },
  {
   "cell_type": "code",
   "execution_count": 13,
   "metadata": {
    "collapsed": false
   },
   "outputs": [
    {
     "name": "stdout",
     "output_type": "stream",
     "text": [
      "2294290 reads; of these:\r\n",
      "  2294290 (100.00%) were unpaired; of these:\r\n",
      "    2288709 (99.76%) aligned 0 times\r\n",
      "    4265 (0.19%) aligned exactly 1 time\r\n",
      "    1316 (0.06%) aligned >1 times\r\n",
      "0.24% overall alignment rate\r\n"
     ]
    }
   ],
   "source": [
    "!/Applications/bioinfo/bowtie2-2.2.4/bowtie2 \\\n",
    "-x ../data/Ostrea_lurida-Scaff-10k-bowtie-index \\\n",
    "-U /Volumes/web/nightingales/O_lurida/2bRAD_Dec2015/HC1-4_GGCTAC-TCATG_L001_R1_001.fastq.gz \\\n",
    "-p 8 \\\n",
    "--very-fast \\\n",
    "-S /Volumes/caviar/wd/2016-11-12/HC1-4.sam\n",
    "!samtools view -bS /Volumes/caviar/wd/2016-11-12/HC1-4.sam \\\n",
    "| samtools sort -o /Volumes/caviar/wd/2016-11-12/HC1-4.bam\n",
    "!samtools index /Volumes/caviar/wd/2016-11-12/HC1-4.bam"
   ]
  },
  {
   "cell_type": "code",
   "execution_count": 14,
   "metadata": {
    "collapsed": false
   },
   "outputs": [
    {
     "name": "stdout",
     "output_type": "stream",
     "text": [
      "2498 reads; of these:\r\n",
      "  2498 (100.00%) were unpaired; of these:\r\n",
      "    2492 (99.76%) aligned 0 times\r\n",
      "    5 (0.20%) aligned exactly 1 time\r\n",
      "    1 (0.04%) aligned >1 times\r\n",
      "0.24% overall alignment rate\r\n"
     ]
    }
   ],
   "source": [
    "!/Applications/bioinfo/bowtie2-2.2.4/bowtie2 \\\n",
    "-x ../data/Ostrea_lurida-Scaff-10k-bowtie-index \\\n",
    "-U /Volumes/web/nightingales/O_lurida/2bRAD_Dec2015/HC2-15_CGATGT-CGCTATG_L001_R1_001.fastq.gz \\\n",
    "-p 8 \\\n",
    "--very-fast \\\n",
    "-S /Volumes/caviar/wd/2016-11-12/HC2-15.sam\n",
    "!samtools view -bS /Volumes/caviar/wd/2016-11-12/HC2-15.sam \\\n",
    "| samtools sort -o /Volumes/caviar/wd/2016-11-12/HC2-15.bam\n",
    "!samtools index /Volumes/caviar/wd/2016-11-12/HC2-15.bam"
   ]
  },
  {
   "cell_type": "code",
   "execution_count": 15,
   "metadata": {
    "collapsed": false
   },
   "outputs": [
    {
     "name": "stdout",
     "output_type": "stream",
     "text": [
      "2964986 reads; of these:\r\n",
      "  2964986 (100.00%) were unpaired; of these:\r\n",
      "    2953231 (99.60%) aligned 0 times\r\n",
      "    6972 (0.24%) aligned exactly 1 time\r\n",
      "    4783 (0.16%) aligned >1 times\r\n",
      "0.40% overall alignment rate\r\n"
     ]
    }
   ],
   "source": [
    "!/Applications/bioinfo/bowtie2-2.2.4/bowtie2 \\\n",
    "-x ../data/Ostrea_lurida-Scaff-10k-bowtie-index \\\n",
    "-U /Volumes/web/nightingales/O_lurida/2bRAD_Dec2015/HC2-17B_TTAGGC-ATGAGCAC_L002_R1_001.fastq.gz \\\n",
    "-p 8 \\\n",
    "--very-fast \\\n",
    "-S /Volumes/caviar/wd/2016-11-12/HC2-17B.sam\n",
    "!samtools view -bS /Volumes/caviar/wd/2016-11-12/HC2-17B.sam \\\n",
    "| samtools sort -o /Volumes/caviar/wd/2016-11-12/HC2-17B.bam\n",
    "!samtools index /Volumes/caviar/wd/2016-11-12/HC2-17B.bam"
   ]
  },
  {
   "cell_type": "code",
   "execution_count": 16,
   "metadata": {
    "collapsed": false
   },
   "outputs": [
    {
     "name": "stdout",
     "output_type": "stream",
     "text": [
      "1863108 reads; of these:\r\n",
      "  1863108 (100.00%) were unpaired; of these:\r\n",
      "    1857869 (99.72%) aligned 0 times\r\n",
      "    3692 (0.20%) aligned exactly 1 time\r\n",
      "    1547 (0.08%) aligned >1 times\r\n",
      "0.28% overall alignment rate\r\n"
     ]
    }
   ],
   "source": [
    "!/Applications/bioinfo/bowtie2-2.2.4/bowtie2 \\\n",
    "-x ../data/Ostrea_lurida-Scaff-10k-bowtie-index \\\n",
    "-U /Volumes/web/nightingales/O_lurida/2bRAD_Dec2015/HC3-1_TTAGGC-ATGCAT_L001_R1_001.fastq.gz \\\n",
    "-p 8 \\\n",
    "--very-fast \\\n",
    "-S /Volumes/caviar/wd/2016-11-12/HC3-1.sam\n",
    "!samtools view -bS /Volumes/caviar/wd/2016-11-12/HC3-1.sam \\\n",
    "| samtools sort -o /Volumes/caviar/wd/2016-11-12/HC3-1.bam\n",
    "!samtools index /Volumes/caviar/wd/2016-11-12/HC3-1.bam"
   ]
  },
  {
   "cell_type": "code",
   "execution_count": 17,
   "metadata": {
    "collapsed": false
   },
   "outputs": [
    {
     "name": "stdout",
     "output_type": "stream",
     "text": [
      "1915 reads; of these:\r\n",
      "  1915 (100.00%) were unpaired; of these:\r\n",
      "    1909 (99.69%) aligned 0 times\r\n",
      "    4 (0.21%) aligned exactly 1 time\r\n",
      "    2 (0.10%) aligned >1 times\r\n",
      "0.31% overall alignment rate\r\n"
     ]
    }
   ],
   "source": [
    "!/Applications/bioinfo/bowtie2-2.2.4/bowtie2 \\\n",
    "-x ../data/Ostrea_lurida-Scaff-10k-bowtie-index \\\n",
    "-U /Volumes/web/nightingales/O_lurida/2bRAD_Dec2015/HC3-5_TAGCTT-CGCTATG_L001_R1_001.fastq.gz \\\n",
    "-p 8 \\\n",
    "--very-fast \\\n",
    "-S /Volumes/caviar/wd/2016-11-12/HC3-5.sam\n",
    "!samtools view -bS /Volumes/caviar/wd/2016-11-12/HC3-5.sam \\\n",
    "| samtools sort -o /Volumes/caviar/wd/2016-11-12/HC3-5.bam\n",
    "!samtools index /Volumes/caviar/wd/2016-11-12/HC3-5.bam"
   ]
  },
  {
   "cell_type": "code",
   "execution_count": 18,
   "metadata": {
    "collapsed": false
   },
   "outputs": [
    {
     "name": "stdout",
     "output_type": "stream",
     "text": [
      "2438612 reads; of these:\r\n",
      "  2438612 (100.00%) were unpaired; of these:\r\n",
      "    2431323 (99.70%) aligned 0 times\r\n",
      "    5047 (0.21%) aligned exactly 1 time\r\n",
      "    2242 (0.09%) aligned >1 times\r\n",
      "0.30% overall alignment rate\r\n"
     ]
    }
   ],
   "source": [
    "!/Applications/bioinfo/bowtie2-2.2.4/bowtie2 \\\n",
    "-x ../data/Ostrea_lurida-Scaff-10k-bowtie-index \\\n",
    "-U /Volumes/web/nightingales/O_lurida/2bRAD_Dec2015/HC3-7_ACTTGA-TCAGCAC_L001_R1_001.fastq.gz \\\n",
    "-p 8 \\\n",
    "--very-fast \\\n",
    "-S /Volumes/caviar/wd/2016-11-12/HC3-7.sam\n",
    "!samtools view -bS /Volumes/caviar/wd/2016-11-12/HC3-7.sam \\\n",
    "| samtools sort -o /Volumes/caviar/wd/2016-11-12/HC3-7.bam\n",
    "!samtools index /Volumes/caviar/wd/2016-11-12/HC3-7.bam"
   ]
  },
  {
   "cell_type": "code",
   "execution_count": 20,
   "metadata": {
    "collapsed": false
   },
   "outputs": [
    {
     "name": "stdout",
     "output_type": "stream",
     "text": [
      "4091281 reads; of these:\n",
      "  4091281 (100.00%) were unpaired; of these:\n",
      "    4080550 (99.74%) aligned 0 times\n",
      "    7474 (0.18%) aligned exactly 1 time\n",
      "    3257 (0.08%) aligned >1 times\n",
      "0.26% overall alignment rate\n",
      "[bam_sort_core] merging from 2 files...\n"
     ]
    }
   ],
   "source": [
    "!/Applications/bioinfo/bowtie2-2.2.4/bowtie2 \\\n",
    "-x ../data/Ostrea_lurida-Scaff-10k-bowtie-index \\\n",
    "-U /Volumes/web/nightingales/O_lurida/2bRAD_Dec2015/HC3-10_GGCTAC-ATGCAT_L001_R1_001.fastq.gz \\\n",
    "-p 8 \\\n",
    "--very-fast \\\n",
    "-S /Volumes/caviar/wd/2016-11-12/HC3-10.sam\n",
    "!samtools view -bS /Volumes/caviar/wd/2016-11-12/HC3-10.sam \\\n",
    "| samtools sort -o /Volumes/caviar/wd/2016-11-12/HC3-10.bam\n",
    "!samtools index /Volumes/caviar/wd/2016-11-12/HC3-10.bam"
   ]
  },
  {
   "cell_type": "code",
   "execution_count": 21,
   "metadata": {
    "collapsed": false
   },
   "outputs": [
    {
     "name": "stdout",
     "output_type": "stream",
     "text": [
      "2901608 reads; of these:\r\n",
      "  2901608 (100.00%) were unpaired; of these:\r\n",
      "    2894358 (99.75%) aligned 0 times\r\n",
      "    5116 (0.18%) aligned exactly 1 time\r\n",
      "    2134 (0.07%) aligned >1 times\r\n",
      "0.25% overall alignment rate\r\n"
     ]
    }
   ],
   "source": [
    "!/Applications/bioinfo/bowtie2-2.2.4/bowtie2 \\\n",
    "-x ../data/Ostrea_lurida-Scaff-10k-bowtie-index \\\n",
    "-U /Volumes/web/nightingales/O_lurida/2bRAD_Dec2015/HC3-11_TTAGGC-ATGAGCAC_L001_R1_001.fastq.gz \\\n",
    "-p 8 \\\n",
    "--very-fast \\\n",
    "-S /Volumes/caviar/wd/2016-11-12/HC3-11.sam\n",
    "!samtools view -bS /Volumes/caviar/wd/2016-11-12/HC3-11.sam \\\n",
    "| samtools sort -o /Volumes/caviar/wd/2016-11-12/HC3-11.bam\n",
    "!samtools index /Volumes/caviar/wd/2016-11-12/HC3-11.bam"
   ]
  },
  {
   "cell_type": "code",
   "execution_count": 23,
   "metadata": {
    "collapsed": false
   },
   "outputs": [
    {
     "name": "stdout",
     "output_type": "stream",
     "text": [
      "2901608 reads; of these:\r\n",
      "  2901608 (100.00%) were unpaired; of these:\r\n",
      "    1872442 (64.53%) aligned 0 times\r\n",
      "    527038 (18.16%) aligned exactly 1 time\r\n",
      "    502128 (17.31%) aligned >1 times\r\n",
      "35.47% overall alignment rate\r\n"
     ]
    }
   ],
   "source": [
    "!/Applications/bioinfo/bowtie2-2.2.4/bowtie2 \\\n",
    "-x ../data/Ostrea_lurida-Scaff-10k-bowtie-index \\\n",
    "-U /Volumes/web/nightingales/O_lurida/2bRAD_Dec2015/HC3-11_TTAGGC-ATGAGCAC_L001_R1_001.fastq.gz \\\n",
    "-p 8 \\\n",
    "--very-sensitive-local \\\n",
    "-S /Volumes/caviar/wd/2016-11-12/HC3-11.sam\n",
    "!samtools view -bS /Volumes/caviar/wd/2016-11-12/HC3-11.sam \\\n",
    "| samtools sort -o /Volumes/caviar/wd/2016-11-12/HC3-11.bam\n",
    "!samtools index /Volumes/caviar/wd/2016-11-12/HC3-11.bam"
   ]
  },
  {
   "cell_type": "code",
   "execution_count": 25,
   "metadata": {
    "collapsed": false
   },
   "outputs": [
    {
     "name": "stdout",
     "output_type": "stream",
     "text": [
      "/Volumes/web/nightingales/O_lurida/2bRAD_Dec2015\n"
     ]
    }
   ],
   "source": [
    "cd /Volumes/web/nightingales/O_lurida/2bRAD_Dec2015"
   ]
  },
  {
   "cell_type": "code",
   "execution_count": null,
   "metadata": {
    "collapsed": false,
    "scrolled": true
   },
   "outputs": [],
   "source": [
    "%%bash\n",
    "for f in HC*\n",
    "do\n",
    "/Applications/bioinfo/bowtie2-2.2.4/bowtie2 \\\n",
    "-x /Users/sr320/git-repos/student-fish546-2016/data/Ostrea_lurida-Scaff-10k-bowtie-index \\\n",
    "-U $f \\\n",
    "-p 8 \\\n",
    "--very-sensitive-local  \\\n",
    "-S /Volumes/caviar/wd/2016-11-12b/$(basename \"${f}\" _R1_001.fastq.gz).sam\n",
    "samtools view -bS /Volumes/caviar/wd/2016-11-12b/$(basename \"${f}\" _R1_001.fastq.gz).sam \\\n",
    "| samtools sort -o /Volumes/caviar/wd/2016-11-12b/$(basename \"${f}\" _R1_001.fastq.gz).bam\n",
    "samtools index /Volumes/caviar/wd/2016-11-12b/$(basename \"${f}\" _R1_001.fastq.gz).bam\n",
    "2> /Volumes/caviar/wd/2016-11-12b/$(basename \"${f}\" _R1_001.fastq.gz).err\n",
    "done"
   ]
  },
  {
   "cell_type": "code",
   "execution_count": null,
   "metadata": {
    "collapsed": true
   },
   "outputs": [],
   "source": []
  }
 ],
 "metadata": {
  "kernelspec": {
   "display_name": "Python 2",
   "language": "python",
   "name": "python2"
  },
  "language_info": {
   "codemirror_mode": {
    "name": "ipython",
    "version": 2
   },
   "file_extension": ".py",
   "mimetype": "text/x-python",
   "name": "python",
   "nbconvert_exporter": "python",
   "pygments_lexer": "ipython2",
   "version": "2.7.12"
  }
 },
 "nbformat": 4,
 "nbformat_minor": 0
}
