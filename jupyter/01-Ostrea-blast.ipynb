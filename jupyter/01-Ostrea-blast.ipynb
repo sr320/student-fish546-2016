{
 "cells": [
  {
   "cell_type": "markdown",
   "metadata": {},
   "source": [
    "# Blasting Transcriptome against genome"
   ]
  },
  {
   "cell_type": "code",
   "execution_count": 1,
   "metadata": {
    "collapsed": false
   },
   "outputs": [
    {
     "data": {
      "text/plain": [
       "u'/Users/sr320/git-repos/student-fish546-2016/jupyter'"
      ]
     },
     "execution_count": 1,
     "metadata": {},
     "output_type": "execute_result"
    }
   ],
   "source": [
    "pwd"
   ]
  },
  {
   "cell_type": "code",
   "execution_count": 3,
   "metadata": {
    "collapsed": false
   },
   "outputs": [
    {
     "name": "stdout",
     "output_type": "stream",
     "text": [
      "/Users/sr320/git-repos/student-fish546-2016\n"
     ]
    }
   ],
   "source": [
    "cd ..\n"
   ]
  },
  {
   "cell_type": "code",
   "execution_count": 4,
   "metadata": {
    "collapsed": false
   },
   "outputs": [
    {
     "name": "stdout",
     "output_type": "stream",
     "text": [
      "/Users/sr320/git-repos/student-fish546-2016/data\n"
     ]
    }
   ],
   "source": [
    "cd data\n"
   ]
  },
  {
   "cell_type": "code",
   "execution_count": 5,
   "metadata": {
    "collapsed": false
   },
   "outputs": [
    {
     "name": "stdout",
     "output_type": "stream",
     "text": [
      "--2016-10-21 10:00:26--  http://owl.fish.washington.edu/halfshell/bu-data-genomic/tentacle/OlyO_v6_transcriptome.fa\n",
      "Resolving owl.fish.washington.edu (owl.fish.washington.edu)... 128.95.149.83\n",
      "Connecting to owl.fish.washington.edu (owl.fish.washington.edu)|128.95.149.83|:80... connected.\n",
      "HTTP request sent, awaiting response... 200 OK\n",
      "Length: 228039864 (217M) [text/plain]\n",
      "Saving to: ‘OlyO_v6_transcriptome.fa’\n",
      "\n",
      "OlyO_v6_transcripto 100%[===================>] 217.48M  57.6MB/s    in 5.3s    \n",
      "\n",
      "2016-10-21 10:00:36 (41.1 MB/s) - ‘OlyO_v6_transcriptome.fa’ saved [228039864/228039864]\n",
      "\n"
     ]
    }
   ],
   "source": [
    "!wget http://owl.fish.washington.edu/halfshell/bu-data-genomic/tentacle/OlyO_v6_transcriptome.fa"
   ]
  },
  {
   "cell_type": "code",
   "execution_count": 7,
   "metadata": {
    "collapsed": false
   },
   "outputs": [
    {
     "name": "stdout",
     "output_type": "stream",
     "text": [
      "\n",
      "\n",
      "Building a new DB, current time: 10/21/2016 10:01:10\n",
      "New DB name:   Ostrea_lurida-Scaff-30k\n",
      "New DB title:  Ostrea_lurida-Scaff-30k.fa\n",
      "Sequence type: Nucleotide\n",
      "Keep Linkouts: T\n",
      "Keep MBits: T\n",
      "Maximum file size: 1000000000B\n",
      "Adding sequences from FASTA; added 264 sequences in 0.167993 seconds.\n"
     ]
    }
   ],
   "source": [
    "!makeblastdb \\\n",
    "-in Ostrea_lurida-Scaff-30k.fa \\\n",
    "-dbtype nucl \\\n",
    "-out Ostrea_lurida-Scaff-30k"
   ]
  },
  {
   "cell_type": "code",
   "execution_count": 8,
   "metadata": {
    "collapsed": false
   },
   "outputs": [
    {
     "name": "stdout",
     "output_type": "stream",
     "text": [
      "Geoduck-transcriptome-v3.fa.zip   Panopea_generosa-Scaff-70k.nin\r\n",
      "OlyO_v6_transcriptome.fa          Panopea_generosa-Scaff-70k.nog\r\n",
      "Ostrea_lurida-Scaff-30k.fa        Panopea_generosa-Scaff-70k.nsd\r\n",
      "Ostrea_lurida-Scaff-30k.nhr       Panopea_generosa-Scaff-70k.nsi\r\n",
      "Ostrea_lurida-Scaff-30k.nin       Panopea_generosa-Scaff-70k.nsq\r\n",
      "Ostrea_lurida-Scaff-30k.nsq       Panopea_generosa.fa\r\n",
      "Ostrea_lurida-Scaff-40k.fa        Pg-70k-index.1.bt2\r\n",
      "Ostrea_lurida.fa                  Pg-70k-index.2.bt2\r\n",
      "Ostrea_lurida.scafSeq             Pg-70k-index.3.bt2\r\n",
      "Panopea_generosa-Scaff-10k.fa     Pg-70k-index.4.bt2\r\n",
      "Panopea_generosa-Scaff-70k.fa     Pg-70k-index.rev.1.bt2\r\n",
      "Panopea_generosa-Scaff-70k.fa.fai Pg-70k-index.rev.2.bt2\r\n",
      "Panopea_generosa-Scaff-70k.nhr    readme.md\r\n"
     ]
    }
   ],
   "source": [
    "!ls"
   ]
  },
  {
   "cell_type": "code",
   "execution_count": 9,
   "metadata": {
    "collapsed": false
   },
   "outputs": [
    {
     "name": "stdout",
     "output_type": "stream",
     "text": [
      "   18353 ../analyses/trans-v6-blastn-Scaff-30k-01.tab\n",
      "   37104 ../analyses/trans-v6-blastn-Scaff-30k-02.tab\n"
     ]
    }
   ],
   "source": [
    "!blastn \\\n",
    "-query OlyO_v6_transcriptome.fa \\\n",
    "-db Ostrea_lurida-Scaff-30k \\\n",
    "-task blastn \\\n",
    "-evalue 1e-40 \\\n",
    "-outfmt 6 \\\n",
    "-out ../analyses/trans-v6-blastn-Scaff-30k-01.tab \\\n",
    "-max_target_seqs 1 \\\n",
    "-num_threads 6\n",
    "!wc -l ../analyses/trans-v6-blastn-Scaff-30k-01.tab \n",
    "\n",
    "\n",
    "!blastn \\\n",
    "-query OlyO_v6_transcriptome.fa \\\n",
    "-db Ostrea_lurida-Scaff-30k \\\n",
    "-task blastn \\\n",
    "-evalue 1e-20 \\\n",
    "-outfmt 6 \\\n",
    "-out ../analyses/trans-v6-blastn-Scaff-30k-02.tab \\\n",
    "-max_target_seqs 1 \\\n",
    "-num_threads 6\n",
    "!wc -l ../analyses/trans-v6-blastn-Scaff-30k-02.tab \n",
    "\n"
   ]
  },
  {
   "cell_type": "code",
   "execution_count": 10,
   "metadata": {
    "collapsed": false
   },
   "outputs": [
    {
     "name": "stdout",
     "output_type": "stream",
     "text": [
      "TR2|c0_g1_i1\tscaffold70795\t87.33\t150\t17\t1\t210\t359\t47164\t47017\t2e-46\t  183\r\n",
      "TR2|c0_g1_i1\tscaffold70795\t86.00\t150\t18\t2\t210\t359\t46514\t46660\t1e-42\t  170\r\n",
      "TR5|c0_g1_i1\tscaffold25028\t85.25\t122\t18\t0\t8\t129\t6458\t6337\t1e-33\t  140\r\n",
      "TR7|c0_g1_i1\tscaffold86430\t89.33\t75\t8\t0\t237\t311\t12966\t12892\t2e-21\t  100\r\n",
      "TR16|c0_g1_i1\tscaffold3873\t77.05\t244\t42\t3\t18\t253\t29329\t29092\t1e-47\t  187\r\n",
      "TR28|c0_g1_i1\tscaffold52557\t82.35\t136\t13\t3\t139\t272\t16379\t16253\t7e-32\t  134\r\n",
      "TR43|c0_g1_i1\tscaffold40838\t71.75\t223\t50\t3\t18\t228\t2748\t2527\t2e-26\t  116\r\n",
      "TR66|c0_g1_i1\tscaffold12565\t83.53\t249\t32\t3\t7\t251\t38995\t39238\t2e-69\t  259\r\n",
      "TR66|c0_g2_i1\tscaffold12565\t82.99\t288\t40\t3\t1\t284\t38956\t39238\t1e-79\t  293\r\n",
      "TR74|c0_g1_i1\tscaffold26204\t80.33\t122\t22\t2\t13\t134\t27355\t27474\t6e-23\t  105\r\n"
     ]
    }
   ],
   "source": [
    "!head ../analyses/trans-v6-blastn-Scaff-30k-02.tab"
   ]
  },
  {
   "cell_type": "code",
   "execution_count": null,
   "metadata": {
    "collapsed": true
   },
   "outputs": [],
   "source": []
  }
 ],
 "metadata": {
  "kernelspec": {
   "display_name": "Python 2",
   "language": "python",
   "name": "python2"
  },
  "language_info": {
   "codemirror_mode": {
    "name": "ipython",
    "version": 2
   },
   "file_extension": ".py",
   "mimetype": "text/x-python",
   "name": "python",
   "nbconvert_exporter": "python",
   "pygments_lexer": "ipython2",
   "version": "2.7.12"
  }
 },
 "nbformat": 4,
 "nbformat_minor": 0
}
