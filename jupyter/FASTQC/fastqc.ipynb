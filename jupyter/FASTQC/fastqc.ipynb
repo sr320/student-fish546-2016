{
 "cells": [
  {
   "cell_type": "code",
   "execution_count": 7,
   "metadata": {
    "collapsed": false
   },
   "outputs": [
    {
     "name": "stdout",
     "output_type": "stream",
     "text": [
      "This is the source distribution of FastQC.  You need to get the compiled version if you want to run the program\r\n"
     ]
    }
   ],
   "source": [
    "!/Applications/FastQC/fastqc -help /Users/sr320/git-repos/nb-2016/S_salar/analyses/lncRNA_21065.fa"
   ]
  },
  {
   "cell_type": "code",
   "execution_count": 13,
   "metadata": {
    "collapsed": false
   },
   "outputs": [
    {
     "name": "stdout",
     "output_type": "stream",
     "text": [
      "[INFO   ]         multiqc : This is MultiQC v0.8\n",
      "[INFO   ]         multiqc : Template    : default\n",
      "[INFO   ]         multiqc : Searching '/Volumes/web/halfshell/'\n",
      "[WARNING]          fastqc : Couldn't read 'filtered_1000_GTGAAA_L004_R1_fastqc.zip' - Bad zip file\n",
      "[WARNING]          fastqc : Couldn't read 'filtered_106A_Male_Mix_TAGCTT_L004_R1_fastqc.zip' - Bad zip file\n",
      "[WARNING]          fastqc : Couldn't read 'filtered_108A_Female_Mix_GGCTAC_L004_R2_fastqc.zip' - Bad zip file\n",
      "[WARNING]          fastqc : Couldn't read 'filtered_108A_Male_Mix_AGTCAA_L004_R1_fastqc.zip' - Bad zip file\n",
      "[WARNING]          fastqc : Couldn't read 'filtered_2000_NoIndex_L007_R1_fastqc.zip' - Bad zip file\n",
      "[WARNING]          fastqc : Couldn't read 'filtered_400_NoIndex_L006_R1_fastqc.zip' - Bad zip file\n",
      "[WARNING]          fastqc : Couldn't read 'Geo_Pool_F_GGCTAC_L006_R2_001_fastqc.zip' - Bad zip file\n",
      "[WARNING]          fastqc : Couldn't read 'Geo_Pool_M_CTTGTA_L006_R2_001_val_2.fq_fastqc.zip' - Bad zip file\n",
      "[WARNING]          fastqc : Couldn't read 'R1_val_1.fq_fastqc.zip' - Bad zip file\n",
      "[WARNING]          fastqc : Couldn't read '20150521_trimmed_2212_lane2_1000ppm_CTTGTA_fastqc.zip' - Bad zip file\n",
      "[WARNING]          fastqc : Couldn't read '2112_Cv_LSU_fastqc.zip' - Bad zip file\n",
      "[WARNING]          fastqc : Couldn't read '2112_Cv_LSU_truseq-rm_fastqc.zip' - Bad zip file\n",
      "[WARNING]          fastqc : Couldn't read '2112_lane1_NoIndex_L001_R1_001_fastqc.zip' - Bad zip file\n",
      "[WARNING]          fastqc : Couldn't read 'filtered_106A_Female_Mix_GATCAG_L004_R2_fastqc.zip' - Bad zip file\n",
      "[WARNING]          fastqc : Couldn't read 'filtered_1600_GTGGCC_L004_R1_fastqc.zip' - Bad zip file\n",
      "[WARNING]          fastqc : Couldn't read 'Geo_Pool_F_GGCTAC_L006_R1_001_trimmed_fastqc.zip' - Bad zip file\n",
      "[WARNING]          fastqc : Couldn't read 'Geo_Pool_F_GGCTAC_L006_R1_001_val_1.fq_fastqc.zip' - Bad zip file\n",
      "[WARNING]          fastqc : Couldn't read 'R1_fastqc.zip' - Bad zip file\n",
      "[WARNING]          fastqc : Couldn't read 'R2_unpaired_2.fq_fastqc.zip' - Bad zip file\n",
      "[WARNING]          fastqc : Couldn't read 'R2_val_2.fq_fastqc.zip' - Bad zip file\n",
      "[WARNING]          fastqc : Couldn't read 'filtered_108A_Male_Mix_AGTCAA_L007_R1_fastqc.zip' - Bad zip file\n",
      "[WARNING]          fastqc : Couldn't read 'filtered_400_GTCCGC_L004_R1_fastqc.zip' - Bad zip file\n",
      "[WARNING]          fastqc : Couldn't read 'Geo_Pool_F_GGCTAC_L006_R1_001_fastqc.zip' - Bad zip file\n",
      "[WARNING]          fastqc : Couldn't read 'filtered_2200_GTTTCG_L004_R1_fastqc.zip' - Bad zip file\n",
      "[WARNING]          fastqc : Couldn't read 'filtered_106A_Male_Mix_TAGCTT_L004_R2_fastqc.zip' - Bad zip file\n",
      "[WARNING]          fastqc : Couldn't read 'Geo_Pool_F_GGCTAC_L006_R1_001_trimmed.fq_fastqc.zip' - Bad zip file\n",
      "[WARNING]          fastqc : Couldn't read 'filtered_106A_Female_Mix_GATCAG_L004_R1_fastqc.zip' - Bad zip file\n",
      "[WARNING]          fastqc : Couldn't read '20150521_trimmed_2212_lane2_400ppm_GCCAAT_fastqc.zip' - Bad zip file\n",
      "[WARNING]          fastqc : Couldn't read 'filtered_108A_Female_Mix_GGCTAC_L007_R1_fastqc.zip' - Bad zip file\n",
      "[WARNING]          fastqc : Couldn't read 'filtered_106A_Male_Mix_TAGCTT_L007_R1_fastqc.zip' - Bad zip file\n",
      "[WARNING]          fastqc : Couldn't read 'Geo_Pool_F_GGCTAC_L006_R2_001_val_2.fq_fastqc.zip' - Bad zip file\n",
      "[WARNING]          fastqc : Couldn't read 'Geo_Pool_M_CTTGTA_L006_R1_001_val_1.fq_fastqc.zip' - Bad zip file\n",
      "[WARNING]          fastqc : Couldn't read 'filtered_106A_Female_Mix_GATCAG_L007_R1_fastqc.zip' - Bad zip file\n",
      "[WARNING]          fastqc : Couldn't read 'filtered_108A_Female_Mix_GGCTAC_L004_R1_fastqc.zip' - Bad zip file\n",
      "[WARNING]          fastqc : Couldn't read 'filtered_108A_Male_Mix_AGTCAA_L004_R2_fastqc.zip' - Bad zip file\n",
      "[WARNING]          fastqc : Couldn't read 'Geo_Pool_F_GGCTAC_L006_R2_001_trimmed.fq_fastqc.zip' - Bad zip file\n",
      "[WARNING]          fastqc : Couldn't read 'Geo_Pool_M_CTTGTA_L006_R1_001_fastqc.zip' - Bad zip file\n",
      "[WARNING]          fastqc : Couldn't read 'Geo_Pool_M_CTTGTA_L006_R2_001_fastqc.zip' - Bad zip file\n",
      "[WARNING]          fastqc : Couldn't read 'R1_unpaired_1.fq_fastqc.zip' - Bad zip file\n",
      "[WARNING]          fastqc : Couldn't read 'Geo_Pool_F_GGCTAC_L006_R2_001_val_1_fastqc.zip' - Bad zip file\n",
      "[WARNING]          fastqc : Couldn't read 'C0_1_fastqc.zip' - Bad zip file\n",
      "[WARNING]          fastqc : Couldn't read 'C0_2_fastqc.zip' - Bad zip file\n",
      "[WARNING]          fastqc : Couldn't read 'D1_1_fastqc.zip' - Bad zip file\n",
      "[WARNING]          fastqc : Couldn't read 'D1_2_fastqc.zip' - Bad zip file\n",
      "[WARNING]          fastqc : Couldn't read 'D2_1_fastqc.zip' - Bad zip file\n",
      "[WARNING]          fastqc : Couldn't read 'D2_2_fastqc.zip' - Bad zip file\n",
      "[WARNING]          fastqc : Couldn't read 'D3_1_fastqc.zip' - Bad zip file\n",
      "[WARNING]          fastqc : Couldn't read 'D3_2_fastqc.zip' - Bad zip file\n",
      "[WARNING]          fastqc : Couldn't read 'D4_1_fastqc.zip' - Bad zip file\n",
      "[WARNING]          fastqc : Couldn't read 'D4_2_fastqc.zip' - Bad zip file\n",
      "[WARNING]          fastqc : Couldn't read 'D5_1_fastqc.zip' - Bad zip file\n",
      "[WARNING]          fastqc : Couldn't read 'D5_2_fastqc.zip' - Bad zip file\n",
      "[WARNING]          fastqc : Couldn't read 'OlyOv6_combined_R1_fastqc.zip' - Bad zip file\n",
      "[WARNING]          fastqc : Couldn't read 'OlyOv6_combined_R1_val_1_fastqc.zip' - Bad zip file\n",
      "[WARNING]          fastqc : Couldn't read 'OlyOv6_combined_R2_fastqc.zip' - Bad zip file\n",
      "[WARNING]          fastqc : Couldn't read 'OlyOv6_combined_R2_val_2_fastqc.zip' - Bad zip file\n",
      "[WARNING]         multiqc : No analysis results found. Cleaning up..\n",
      "[INFO   ]         multiqc : MultiQC complete\n"
     ]
    }
   ],
   "source": [
    "!multiqc /Volumes/web/halfshell/\n"
   ]
  },
  {
   "cell_type": "code",
   "execution_count": 11,
   "metadata": {
    "collapsed": false
   },
   "outputs": [
    {
     "name": "stdout",
     "output_type": "stream",
     "text": [
      "fastqc.ipynb\r\n"
     ]
    }
   ],
   "source": [
    "ls"
   ]
  },
  {
   "cell_type": "code",
   "execution_count": null,
   "metadata": {
    "collapsed": true
   },
   "outputs": [],
   "source": []
  }
 ],
 "metadata": {
  "kernelspec": {
   "display_name": "Python 2",
   "language": "python",
   "name": "python2"
  },
  "language_info": {
   "codemirror_mode": {
    "name": "ipython",
    "version": 2
   },
   "file_extension": ".py",
   "mimetype": "text/x-python",
   "name": "python",
   "nbconvert_exporter": "python",
   "pygments_lexer": "ipython2",
   "version": "2.7.11"
  }
 },
 "nbformat": 4,
 "nbformat_minor": 0
}
