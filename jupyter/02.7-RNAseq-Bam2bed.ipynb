{
 "cells": [
  {
   "cell_type": "code",
   "execution_count": 40,
   "metadata": {
    "collapsed": false
   },
   "outputs": [
    {
     "name": "stdout",
     "output_type": "stream",
     "text": [
      "/Volumes/caviar/wd/2016-11-11/bw-106A_Female_Mix_GATCAG_L004.bam\r\n",
      "/Volumes/caviar/wd/2016-11-11/bw-106A_Female_Mix_GATCAG_L004.bam.bai\r\n",
      "/Volumes/caviar/wd/2016-11-11/bw-106A_Female_Mix_GATCAG_L004.sam\r\n",
      "/Volumes/caviar/wd/2016-11-11/bw-106A_Male_Mix_TAGCTT_L004.bam\r\n",
      "/Volumes/caviar/wd/2016-11-11/bw-106A_Male_Mix_TAGCTT_L004.bam.bai\r\n",
      "/Volumes/caviar/wd/2016-11-11/bw-106A_Male_Mix_TAGCTT_L004.sam\r\n",
      "/Volumes/caviar/wd/2016-11-11/bw-108A_Female_Mix_GGCTAC_L004\r\n",
      "/Volumes/caviar/wd/2016-11-11/bw-108A_Female_Mix_GGCTAC_L004.bam\r\n",
      "/Volumes/caviar/wd/2016-11-11/bw-108A_Female_Mix_GGCTAC_L004.bam.bai\r\n",
      "/Volumes/caviar/wd/2016-11-11/bw-108A_Female_Mix_GGCTAC_L004.sam\r\n",
      "/Volumes/caviar/wd/2016-11-11/bw-108A_Male_Mix_AGTCAA_L004\r\n",
      "/Volumes/caviar/wd/2016-11-11/bw-108A_Male_Mix_AGTCAA_L004.bam\r\n",
      "/Volumes/caviar/wd/2016-11-11/bw-108A_Male_Mix_AGTCAA_L004.bam.bai\r\n",
      "/Volumes/caviar/wd/2016-11-11/bw-108A_Male_Mix_AGTCAA_L004.sam\r\n",
      "/Volumes/caviar/wd/2016-11-11/bw-Female_Mix_GATCAG_L004.sam\r\n",
      "/Volumes/caviar/wd/2016-11-11/bw-Female_Mix_GATCAG_L004.sorted.sam\r\n"
     ]
    }
   ],
   "source": [
    "!ls /Volumes/caviar/wd/2016-11-11/bw-*"
   ]
  },
  {
   "cell_type": "code",
   "execution_count": 38,
   "metadata": {
    "collapsed": false
   },
   "outputs": [
    {
     "name": "stdout",
     "output_type": "stream",
     "text": [
      "total 1294536\r\n",
      "-rw-r--r--  1 sr320  staff  205470945 Nov 14 06:56 106A_Male.bedgraph\r\n",
      "-rw-r--r--  1 sr320  staff  261177723 Nov 14 07:00 106A_Male.bedgraph.tdf\r\n",
      "-rw-r--r--  1 sr320  staff  196141117 Nov 14 07:20 108A_Male.bedgraph\r\n",
      "-rw-r--r--  1 sr320  staff        791 Nov 14 07:22 108A_Male.bedgraph.tdf\r\n"
     ]
    }
   ],
   "source": [
    "ls -l /Volumes/caviar/wd/2016-11-14/"
   ]
  },
  {
   "cell_type": "code",
   "execution_count": 23,
   "metadata": {
    "collapsed": false
   },
   "outputs": [],
   "source": [
    "%%bash\n",
    "bedtools genomecov \\\n",
    "-ibam /Volumes/caviar/wd/2016-11-11/bw-108A_Male_Mix_AGTCAA_L004.bam \\\n",
    "-bg | awk '$4 > 9' > /Volumes/caviar/wd/2016-11-14/108A_Male.bedgraph"
   ]
  },
  {
   "cell_type": "code",
   "execution_count": 42,
   "metadata": {
    "collapsed": true
   },
   "outputs": [],
   "source": [
    "%%bash\n",
    "bedtools genomecov \\\n",
    "-ibam /Volumes/caviar/wd/2016-11-11/bw-106A_Female_Mix_GATCAG_L004.bam \\\n",
    "-bg | awk '$4 > 9' > /Volumes/caviar/wd/2016-11-14/106A_Female.bedgraph"
   ]
  },
  {
   "cell_type": "code",
   "execution_count": 41,
   "metadata": {
    "collapsed": true
   },
   "outputs": [],
   "source": [
    "%%bash\n",
    "bedtools genomecov \\\n",
    "-ibam /Volumes/caviar/wd/2016-11-11/bw-108A_Female_Mix_GGCTAC_L004.bam \\\n",
    "-bg | awk '$4 > 9' > /Volumes/caviar/wd/2016-11-14/108A_Female.bedgraph"
   ]
  },
  {
   "cell_type": "code",
   "execution_count": 39,
   "metadata": {
    "collapsed": false
   },
   "outputs": [
    {
     "name": "stdout",
     "output_type": "stream",
     "text": [
      "ERROR [2016-11-14 07:23:30,417]  [IgvTools.java:264] [main]  Error in syntax. Enter igvtools help totdf for usage instructions.\r\n",
      "\r\n",
      "org.broad.igv.tools.PreprocessingException: Error in syntax. Enter igvtools help totdf for usage instructions.\r\n",
      "\r\n",
      "\tat org.broad.igv.tools.IgvTools.validateArgsLength(IgvTools.java:1144)\r\n",
      "\tat org.broad.igv.tools.IgvTools.run(IgvTools.java:346)\r\n",
      "\tat org.broad.igv.tools.IgvTools.main(IgvTools.java:259)\r\n",
      "Error in syntax. Enter igvtools help totdf for usage instructions.\r\n",
      "\r\n",
      "org.broad.igv.tools.PreprocessingException: Error in syntax. Enter igvtools help totdf for usage instructions.\r\n",
      "\r\n",
      "\tat org.broad.igv.tools.IgvTools.validateArgsLength(IgvTools.java:1144)\r\n",
      "\tat org.broad.igv.tools.IgvTools.run(IgvTools.java:346)\r\n",
      "\tat org.broad.igv.tools.IgvTools.main(IgvTools.java:259)\r\n"
     ]
    }
   ],
   "source": [
    "!/Applications/bioinfo/IGVTools/igvtools \\\n",
    "toTDF /Volumes/caviar/wd/2016-11-14/108A_Male.bedgraph "
   ]
  },
  {
   "cell_type": "code",
   "execution_count": null,
   "metadata": {
    "collapsed": true
   },
   "outputs": [],
   "source": []
  }
 ],
 "metadata": {
  "kernelspec": {
   "display_name": "Python 2",
   "language": "python",
   "name": "python2"
  },
  "language_info": {
   "codemirror_mode": {
    "name": "ipython",
    "version": 2
   },
   "file_extension": ".py",
   "mimetype": "text/x-python",
   "name": "python",
   "nbconvert_exporter": "python",
   "pygments_lexer": "ipython2",
   "version": "2.7.12"
  }
 },
 "nbformat": 4,
 "nbformat_minor": 0
}
