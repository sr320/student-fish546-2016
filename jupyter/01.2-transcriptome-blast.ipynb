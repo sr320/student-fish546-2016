{
 "cells": [
  {
   "cell_type": "markdown",
   "metadata": {},
   "source": [
    "# Using blastn to annotate a genome"
   ]
  },
  {
   "cell_type": "code",
   "execution_count": 1,
   "metadata": {
    "collapsed": false
   },
   "outputs": [
    {
     "name": "stdout",
     "output_type": "stream",
     "text": [
      ">comp100000_c0_seq1\r\n",
      "TGAATGTATGTTTGTGAACGTATGTATATGAATGTATGTATGTGAATGCATACCATCTGTATAAGTATAATCCGACCGGGAGATGTTTATTCACACAGTTTGGCATTATGACGTTTAACCTCTGAATTGGCGTCTCTTGCTACTGACCGCTTCACAGTGATGACCCATGTTGTCACTTCTAATCTATTTATGTATTGCTCTTTTATATTATACTATTAACGCTGTTAAAATACACTACCGCTAAACAAATAAGAGTTGTGGGTTTGAATCATTGGTGAGTGCAGGAACCTCAGCAGGTCATTAAGATTTACGTGTACGTCTATCCTAAACCTACATGTTTCAACTTTGTTGTTTTTCGGTTTCGTTCTCTGTACACAGCTCTTGAAACATACATAAAATACCATTTTATTAAAAAATATGTCTCTATTTAATGTTAAAACCTTTTTAAGAAAA\r\n",
      ">comp100001_c1_seq1\r\n",
      "GCTTTACCAGTTGTTACAAACATTTTAATAGTTATAGTTAATATACACAACATTTTAAATTAACTAGTGTCGAGAACTTGAGTCGGACATAGAGAATTAAATGTTTGTTGAACTTTAGCCAAGCACTTTTATTCTATTACTTTTTGAAGTATTTAATACCTTAAAATAATGGAATACTCCTGTAGAGTCCTTGAAGCCATCAACAATTTACCAACCTCCAAATAAAATATGAATATATTTTACATGATGAATTTACATAATGGATATATCATTGATATCTGCCAAGTTAACTTCACCTACCATTTTTAAGCTTACTTTGACCATGTTAGTTGGTATTGTGTATATAACGAGTGGGAGGACATTCATACCTGGCATTTGTTTGGTCAAACTGACACAAGATTTATGTTTATTTCAAACCTATATATAAAACAAGTCTCAATGAATATCTTCCTAGGCACAAGACAATGCTGATAAAATGTCTTGTTCAAGGACA\r\n",
      ">comp100001_c2_seq1\r\n",
      "AGTAACAAAAACAACCCAAACTCTACCATAATCAATTTATACAAAGTCTTGATTTTATCTTAATATCACAAATGAAATCAATTAGTATATATATTTGTATATATTTCAGAAATATAGAAAACAATTACCAGTTTTTAAGTGTAATTAAAACATCTAAATCACCCCCACAGCAATACAAAATACATTTTTATATAGAATACAAAAATTATTGGGATAAAAACAGTAAAAAATATTTGAATTCAGCAACAGCTACAATAGTTTCCTTCAAGGAGGTGAACATAACATCACAACAACAAAAATATGGTCAATTGTAAAATGAGATGTGTGATCTACGTAGGCTAGAAAAATGTTCAACAAAATATACAGCATGCACACAACATGAACATGTACAATGAGAGATGGAGAAGCGGTTAGTTAGGAGGTCTATAGGCTGTGGTAACCACTACAATGTAGATGGCAGCACATTTATCACACATCACGCTAGCATTTCAGCAAACCTTCAATGCTAAAAACCAACTATATCTACTTCAAAACAGCTTTACCAGTTGTTACAAACAT\r\n",
      ">comp100002_c0_seq1\r\n",
      "GGGACGTATTGACTCACTCAGCTGTGATTTCAACTCCTCTATCAACTCTTCCCGTTGTTGCAACTCTTTCGAAACTTTCTTTTCCAGACCACGAGGTCGACGGCCACGCAAACACTGAAAAGACACAGCCATGTAATCATGGAAACTTAACATTATACTCAATGTTGAAAAAGTATGTCAAAACATTTCCATACACGTATAGCCAAAT\r\n",
      ">comp100004_c1_seq1\r\n",
      "AAGTAAATAATGCTTGACCTTCACAGCAATATGATCGCATCTGATAAGTAATCAGCTACATAAGGTCAAATAAATTGGATTCTGTATTTGCTGTAACATGGATAAAAAACATTGGGAATTTTTGTGGACACAAGTTTAACACCAATCTGACAGATACAAAGTGCTAGTATAAAACAGTTACAAGACACGAACACACACATTGAAAGGATTTAAATACCAAGTGACGTTTAAACATTGAAATGCCATTAACCTCAAATGATTATGTTAAAAAATTCA\r\n"
     ]
    }
   ],
   "source": [
    "#a geoduck transcriptome\n",
    "!head ../data/Geoduck-transcriptome-v3.fa"
   ]
  },
  {
   "cell_type": "code",
   "execution_count": 5,
   "metadata": {
    "collapsed": false
   },
   "outputs": [
    {
     "name": "stdout",
     "output_type": "stream",
     "text": [
      "../data/Panopea_generosa-Scaff-70k.fa\r\n",
      "../data/Panopea_generosa-Scaff-70k.nhr\r\n",
      "../data/Panopea_generosa-Scaff-70k.nin\r\n",
      "../data/Panopea_generosa-Scaff-70k.nog\r\n",
      "../data/Panopea_generosa-Scaff-70k.nsd\r\n",
      "../data/Panopea_generosa-Scaff-70k.nsi\r\n",
      "../data/Panopea_generosa-Scaff-70k.nsq\r\n",
      "../data/Panopea_generosa.fasta\r\n",
      "../data/Panopea_generosa.scafSeq\r\n"
     ]
    }
   ],
   "source": [
    "!ls -1 ../data/Pan*"
   ]
  },
  {
   "cell_type": "code",
   "execution_count": 8,
   "metadata": {
    "collapsed": false
   },
   "outputs": [],
   "source": [
    "!blastn \\\n",
    "-query ../data/Geoduck-transcriptome-v3.fa \\\n",
    "-db ../data/Panopea_generosa-Scaff-70k \\\n",
    "-evalue 1e-40 \\\n",
    "-outfmt 6 \\\n",
    "-out ../analyses/trans-v3-blastn-Scaff-70k-00.tab \\\n",
    "-max_target_seqs 1 \\\n",
    "-num_threads 4"
   ]
  },
  {
   "cell_type": "code",
   "execution_count": 10,
   "metadata": {
    "collapsed": false
   },
   "outputs": [
    {
     "name": "stdout",
     "output_type": "stream",
     "text": [
      "     972 ../analyses/trans-v3-blastn-Scaff-70k-00.tab\r\n"
     ]
    }
   ],
   "source": [
    "!wc -l ../analyses/trans-v3-blastn-Scaff-70k-00.tab "
   ]
  },
  {
   "cell_type": "code",
   "execution_count": 11,
   "metadata": {
    "collapsed": false
   },
   "outputs": [
    {
     "name": "stdout",
     "output_type": "stream",
     "text": [
      "    5102 ../analyses/trans-v3-blastn-Scaff-70k-01.tab\r\n"
     ]
    }
   ],
   "source": [
    "!blastn \\\n",
    "-query ../data/Geoduck-transcriptome-v3.fa \\\n",
    "-db ../data/Panopea_generosa-Scaff-70k \\\n",
    "-task blastn \\\n",
    "-evalue 1e-40 \\\n",
    "-outfmt 6 \\\n",
    "-out ../analyses/trans-v3-blastn-Scaff-70k-01.tab \\\n",
    "-max_target_seqs 1 \\\n",
    "-num_threads 4\n",
    "!wc -l ../analyses/trans-v3-blastn-Scaff-70k-01.tab "
   ]
  },
  {
   "cell_type": "code",
   "execution_count": 12,
   "metadata": {
    "collapsed": false
   },
   "outputs": [
    {
     "name": "stdout",
     "output_type": "stream",
     "text": [
      "   22784 ../analyses/trans-v3-blastn-Scaff-70k-02.tab\r\n"
     ]
    }
   ],
   "source": [
    "!blastn \\\n",
    "-query ../data/Geoduck-transcriptome-v3.fa \\\n",
    "-db ../data/Panopea_generosa-Scaff-70k \\\n",
    "-task blastn \\\n",
    "-evalue 1e-20 \\\n",
    "-outfmt 6 \\\n",
    "-out ../analyses/trans-v3-blastn-Scaff-70k-02.tab \\\n",
    "-max_target_seqs 1 \\\n",
    "-num_threads 4\n",
    "!wc -l ../analyses/trans-v3-blastn-Scaff-70k-02.tab "
   ]
  },
  {
   "cell_type": "code",
   "execution_count": null,
   "metadata": {
    "collapsed": true
   },
   "outputs": [],
   "source": []
  }
 ],
 "metadata": {
  "kernelspec": {
   "display_name": "Python 2",
   "language": "python",
   "name": "python2"
  },
  "language_info": {
   "codemirror_mode": {
    "name": "ipython",
    "version": 2
   },
   "file_extension": ".py",
   "mimetype": "text/x-python",
   "name": "python",
   "nbconvert_exporter": "python",
   "pygments_lexer": "ipython2",
   "version": "2.7.11"
  }
 },
 "nbformat": 4,
 "nbformat_minor": 0
}
