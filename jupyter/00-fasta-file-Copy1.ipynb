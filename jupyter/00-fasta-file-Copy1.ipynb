{
 "cells": [
  {
   "cell_type": "markdown",
   "metadata": {},
   "source": [
    "# Project: Geoduck Genome Annotation\n",
    "For this project I will describe and annotate a draft genome."
   ]
  },
  {
   "cell_type": "markdown",
   "metadata": {},
   "source": [
    "The fasta file I am interested lives online.."
   ]
  },
  {
   "cell_type": "markdown",
   "metadata": {},
   "source": []
  },
  {
   "cell_type": "markdown",
   "metadata": {},
   "source": [
    "`http://owl.fish.washington.edu/P_generosa_genome_assemblies_BGI/20160512/Panopea_generosa.scafSeq`\n"
   ]
  },
  {
   "cell_type": "code",
   "execution_count": 1,
   "metadata": {
    "collapsed": false
   },
   "outputs": [
    {
     "name": "stdout",
     "output_type": "stream",
     "text": [
      "  % Total    % Received % Xferd  Average Speed   Time    Time     Time  Current\n",
      "                                 Dload  Upload   Total   Spent    Left  Speed\n",
      "100 1276M  100 1276M    0     0  2244k      0  0:09:42  0:09:42 --:--:-- 4503k\n"
     ]
    }
   ],
   "source": [
    "!curl http://owl.fish.washington.edu/P_generosa_genome_assemblies_BGI/20160512/Panopea_generosa.scafSeq \\\n",
    "-o ../data/Panopea_generosa.fasta\n"
   ]
  },
  {
   "cell_type": "markdown",
   "metadata": {},
   "source": [
    "<img src=\"http://eagle.fish.washington.edu/cnidarian/skitch/student-fish546-2016_1DA1944F.png\" alt=\"student-fish546-2016_1DA1944F.png\"/>"
   ]
  },
  {
   "cell_type": "markdown",
   "metadata": {},
   "source": [
    "---\n",
    "![warning](img/exclaim.png)\n",
    "---\n",
    "## GitHub has 100MB file size limit\n",
    "## Using relative paths locally transfer to GitHub"
   ]
  },
  {
   "cell_type": "code",
   "execution_count": 2,
   "metadata": {
    "collapsed": false
   },
   "outputs": [
    {
     "name": "stdout",
     "output_type": "stream",
     "text": [
      ">scaffold1 26.6\r\n",
      "ACTAACAGACGATCATTAAATACAGTCATACAGAGCAAATGAATTAAGCAATAACCTTGTCTTTAAAGGCCACTTTTGCTCATTCCCTtgtcttgctgct\r\n",
      "taaaacaagcttgactgtagatgtatccttaaaggctctcacaaagcattataaccgttatatcaattcattctatgatgctttaGCCCTTTACTCCATA\r\n",
      "CATACGTGTTTTCCCGCACCAATCACAGAAtgcctttagaaactgttttccactctgtcagttaatataaacataagttacccaataattcaaaagccat\r\n",
      "ctatattagaggtgtccaaaggcgtctctattaggtgtccaaaggcgtcgatatgaagtaaagggttaaatcaaTTTTTTGTAACCCCATCTGTTAATAT\r\n",
      "ACATATATCTAGCTGATGTAATTTACTATGACCTTAAAATGATTTTCGTAAACTCAGTAAAGCTCATTTTAACAAGTTTGCAAAATATATATTATGCAAG\r\n",
      "GCTGTGTCGGGCATTATATCATTTTTTGCCAATGAGTTGAATAAATTTATCATTGACTTTAAAAAGGTTTCCATCTATCTTAGAAATAGATATGACGGAC\r\n",
      "ACTATGGTTTTACCATGACAAGTCAACaaatcgttatcatgtaccattaaatctgatactatattggttttccaggaaattgttttaattccatggcact\r\n",
      "cgtaaatattCACTTGTTTTCTGATGTAACTTGTTTTTGTTGTTTTTTCAGCCTGAATATAGATAACTATAACNGTTATCATGTACCATTAAATCTGATA\r\n",
      "CTATATTGGTTTTCCAGGAAATTGTTTTAATTCCATGGCACTCGTAAatattcacttgttttctgatgtaacttgtttttgttgttttttcagcctgaat\r\n"
     ]
    }
   ],
   "source": [
    "!head ../data/Panopea_generosa.fasta"
   ]
  },
  {
   "cell_type": "code",
   "execution_count": 5,
   "metadata": {
    "collapsed": false
   },
   "outputs": [
    {
     "name": "stdout",
     "output_type": "stream",
     "text": [
      "Archive:  ../data/Panopea_generosa.scafSeq.zip\n",
      "  inflating: ../data/Panopea_generosa.scafSeq/Panopea_generosa.scafSeq  \n"
     ]
    }
   ],
   "source": [
    "!unzip ../data/Panopea_generosa.scafSeq.zip -d ../data/Panopea_generosa.scafSeq"
   ]
  },
  {
   "cell_type": "code",
   "execution_count": 10,
   "metadata": {
    "collapsed": false
   },
   "outputs": [
    {
     "name": "stdout",
     "output_type": "stream",
     "text": [
      "\u001b[34mPanopea_generosa.scafSeq\u001b[m\u001b[m     readme.md\r\n",
      "Panopea_generosa.scafSeq.zip\r\n"
     ]
    }
   ],
   "source": [
    "!ls ../data"
   ]
  },
  {
   "cell_type": "code",
   "execution_count": 11,
   "metadata": {
    "collapsed": true
   },
   "outputs": [],
   "source": [
    "!rm ../data/Panopea_generosa.scafSeq.zip"
   ]
  },
  {
   "cell_type": "code",
   "execution_count": 21,
   "metadata": {
    "collapsed": true
   },
   "outputs": [],
   "source": [
    "!mv ../data/Panopea_generosa.scafSeq ../data/tmp-folder"
   ]
  },
  {
   "cell_type": "code",
   "execution_count": 22,
   "metadata": {
    "collapsed": false
   },
   "outputs": [],
   "source": [
    "!mv ../data/tmp-folder/Panopea_generosa.scafSeq ../data/Panopea_generosa.scafSeq "
   ]
  },
  {
   "cell_type": "code",
   "execution_count": 26,
   "metadata": {
    "collapsed": false
   },
   "outputs": [],
   "source": [
    "!rm -r ../data/tmp-folder"
   ]
  },
  {
   "cell_type": "code",
   "execution_count": 27,
   "metadata": {
    "collapsed": false
   },
   "outputs": [
    {
     "name": "stdout",
     "output_type": "stream",
     "text": [
      ">scaffold1 26.6\r\n",
      "ACTAACAGACGATCATTAAATACAGTCATACAGAGCAAATGAATTAAGCAATAACCTTGTCTTTAAAGGCCACTTTTGCTCATTCCCTtgtcttgctgct\r\n",
      "taaaacaagcttgactgtagatgtatccttaaaggctctcacaaagcattataaccgttatatcaattcattctatgatgctttaGCCCTTTACTCCATA\r\n",
      "CATACGTGTTTTCCCGCACCAATCACAGAAtgcctttagaaactgttttccactctgtcagttaatataaacataagttacccaataattcaaaagccat\r\n",
      "ctatattagaggtgtccaaaggcgtctctattaggtgtccaaaggcgtcgatatgaagtaaagggttaaatcaaTTTTTTGTAACCCCATCTGTTAATAT\r\n",
      "ACATATATCTAGCTGATGTAATTTACTATGACCTTAAAATGATTTTCGTAAACTCAGTAAAGCTCATTTTAACAAGTTTGCAAAATATATATTATGCAAG\r\n",
      "GCTGTGTCGGGCATTATATCATTTTTTGCCAATGAGTTGAATAAATTTATCATTGACTTTAAAAAGGTTTCCATCTATCTTAGAAATAGATATGACGGAC\r\n",
      "ACTATGGTTTTACCATGACAAGTCAACaaatcgttatcatgtaccattaaatctgatactatattggttttccaggaaattgttttaattccatggcact\r\n",
      "cgtaaatattCACTTGTTTTCTGATGTAACTTGTTTTTGTTGTTTTTTCAGCCTGAATATAGATAACTATAACNGTTATCATGTACCATTAAATCTGATA\r\n",
      "CTATATTGGTTTTCCAGGAAATTGTTTTAATTCCATGGCACTCGTAAatattcacttgttttctgatgtaacttgtttttgttgttttttcagcctgaat\r\n"
     ]
    }
   ],
   "source": [
    "!head ../data/Panopea_generosa.scafSeq "
   ]
  },
  {
   "cell_type": "code",
   "execution_count": null,
   "metadata": {
    "collapsed": true
   },
   "outputs": [],
   "source": []
  }
 ],
 "metadata": {
  "kernelspec": {
   "display_name": "Python 2",
   "language": "python",
   "name": "python2"
  },
  "language_info": {
   "codemirror_mode": {
    "name": "ipython",
    "version": 2
   },
   "file_extension": ".py",
   "mimetype": "text/x-python",
   "name": "python",
   "nbconvert_exporter": "python",
   "pygments_lexer": "ipython2",
   "version": "2.7.11"
  }
 },
 "nbformat": 4,
 "nbformat_minor": 0
}
