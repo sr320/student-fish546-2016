{
 "cells": [
  {
   "cell_type": "code",
   "execution_count": 1,
   "metadata": {
    "collapsed": false
   },
   "outputs": [
    {
     "name": "stdout",
     "output_type": "stream",
     "text": [
      "\u0007ERROR: A sequence file name must be specified\r\n",
      "USAGE:\r\n",
      "Blast2Gff.pl -i InFile.Fasta -o OutFile.gff -d BlastDb\r\n",
      " -p blastprogram -m AligFormat -s SeqName -a\r\n",
      "\r\n",
      " -i Full path to the BLAST output file[STRING]\r\n",
      " -o Full path for the GFF formated file [STRING]\r\n",
      "    Default is the intput file path with gff extension.\r\n",
      " -d Blast database that was blasted against [STRING]\r\n",
      "    This is required\r\n",
      " -s  -m Format of the algnment outout from blast [INTEGER]\r\n",
      "    Default value is 8. Valid values are 0,8,9 -p Blast program used [STRING]\r\n",
      "    Default is blastn\r\n",
      " -a Append results to the gff file [BOOLEAN]\r\n",
      "    Default is to overwrite any exiting file.\r\n",
      " -h Print this help statement [BOOLEAN]\r\n",
      "\r\n"
     ]
    }
   ],
   "source": [
    "!perl ../scripts/2_Blast2Gff.pl"
   ]
  },
  {
   "cell_type": "code",
   "execution_count": 4,
   "metadata": {
    "collapsed": false
   },
   "outputs": [
    {
     "name": "stdout",
     "output_type": "stream",
     "text": [
      "151114_I191_FCH3Y35BCXX_L1_wHAIPI023992-37_1.fq_fastqc.html\r\n",
      "151114_I191_FCH3Y35BCXX_L1_wHAIPI023992-37_1.fq_fastqc.zip\r\n",
      "151114_I191_FCH3Y35BCXX_L1_wHAIPI023992-37_2.fq_fastqc.html\r\n",
      "151114_I191_FCH3Y35BCXX_L1_wHAIPI023992-37_2.fq_fastqc.zip\r\n",
      "151114_I191_FCH3Y35BCXX_L2_wHAMPI023991-66_1.fq_fastqc.html\r\n",
      "151114_I191_FCH3Y35BCXX_L2_wHAMPI023991-66_1.fq_fastqc.zip\r\n",
      "151118_I137_FCH3KNJBBXX_L5_wHAXPI023905-96_2.fq_fastqc.html\r\n",
      "151118_I137_FCH3KNJBBXX_L5_wHAXPI023905-96_2.fq_fastqc.zip\r\n",
      "160103_I137_FCH3V5YBBXX_L3_WHOSTibkDCABDLAAPEI-62_1.fq_fastqc.html\r\n",
      "160103_I137_FCH3V5YBBXX_L3_WHOSTibkDCABDLAAPEI-62_1.fq_fastqc.zip\r\n",
      "160103_I137_FCH3V5YBBXX_L3_WHOSTibkDCABDLAAPEI-62_2.fq_fastqc.html\r\n",
      "160103_I137_FCH3V5YBBXX_L3_WHOSTibkDCABDLAAPEI-62_2.fq_fastqc.zip\r\n",
      "160103_I137_FCH3V5YBBXX_L3_WHOSTibkDCACDTAAPEI-75_1.fq_fastqc.html\r\n",
      "160103_I137_FCH3V5YBBXX_L3_WHOSTibkDCACDTAAPEI-75_1.fq_fastqc.zip\r\n",
      "160103_I137_FCH3V5YBBXX_L3_WHOSTibkDCACDTAAPEI-75_2.fq_fastqc.html\r\n",
      "160103_I137_FCH3V5YBBXX_L3_WHOSTibkDCACDTAAPEI-75_2.fq_fastqc.zip\r\n",
      "160103_I137_FCH3V5YBBXX_L4_WHOSTibkDCABDLAAPEI-62_1.fq_fastqc.html\r\n",
      "160103_I137_FCH3V5YBBXX_L4_WHOSTibkDCABDLAAPEI-62_1.fq_fastqc.zip\r\n",
      "160103_I137_FCH3V5YBBXX_L4_WHOSTibkDCABDLAAPEI-62_2.fq_fastqc.html\r\n",
      "160103_I137_FCH3V5YBBXX_L4_WHOSTibkDCABDLAAPEI-62_2.fq_fastqc.zip\r\n",
      "160103_I137_FCH3V5YBBXX_L4_WHOSTibkDCACDTAAPEI-75_1.fq_fastqc.html\r\n",
      "160103_I137_FCH3V5YBBXX_L4_WHOSTibkDCACDTAAPEI-75_1.fq_fastqc.zip\r\n",
      "160103_I137_FCH3V5YBBXX_L4_WHOSTibkDCACDTAAPEI-75_2.fq_fastqc.html\r\n",
      "160103_I137_FCH3V5YBBXX_L4_WHOSTibkDCACDTAAPEI-75_2.fq_fastqc.zip\r\n",
      "160103_I137_FCH3V5YBBXX_L5_WHOSTibkDCAADWAAPEI-74_1.fq_fastqc.html\r\n",
      "160103_I137_FCH3V5YBBXX_L5_WHOSTibkDCAADWAAPEI-74_1.fq_fastqc.zip\r\n",
      "160103_I137_FCH3V5YBBXX_L5_WHOSTibkDCAADWAAPEI-74_2.fq_fastqc.html\r\n",
      "160103_I137_FCH3V5YBBXX_L5_WHOSTibkDCAADWAAPEI-74_2.fq_fastqc.zip\r\n",
      "160103_I137_FCH3V5YBBXX_L6_WHOSTibkDCAADWAAPEI-74_1.fq_fastqc.html\r\n",
      "160103_I137_FCH3V5YBBXX_L6_WHOSTibkDCAADWAAPEI-74_1.fq_fastqc.zip\r\n",
      "160103_I137_FCH3V5YBBXX_L6_WHOSTibkDCAADWAAPEI-74_2.fq_fastqc.html\r\n",
      "160103_I137_FCH3V5YBBXX_L6_WHOSTibkDCAADWAAPEI-74_2.fq_fastqc.zip\r\n",
      "Olyv6_blastx_sprot_2016_09.gff\r\n",
      "Olyv6_blastx_sprot_2016_09.tab\r\n",
      "\u001b[34mexperiment_8992\u001b[m\u001b[m\r\n",
      "\u001b[34mexperiment_8993\u001b[m\u001b[m\r\n",
      "experiment_Mapping_BAM_alignment_SNPs.tar.gz\r\n",
      "experiment_Mapping_BAM_alignment_read_depth.tar.gz\r\n",
      "fastqc_per_sequence_quality_scores_plot.png\r\n",
      "\u001b[34mmultiqc_data\u001b[m\u001b[m\r\n",
      "multiqc_report.html\r\n",
      "trans-v3-blastn-Scaff-70k-00.tab\r\n",
      "trans-v3-blastn-Scaff-70k-01.tab\r\n",
      "trans-v3-blastn-Scaff-70k-02.tab\r\n",
      "trans-v6-blastn-Scaff-30k-01.tab\r\n",
      "trans-v6-blastn-Scaff-30k-02.tab\r\n"
     ]
    }
   ],
   "source": [
    "!ls ../analyses/"
   ]
  },
  {
   "cell_type": "code",
   "execution_count": 5,
   "metadata": {
    "collapsed": true
   },
   "outputs": [],
   "source": [
    "!perl ../scripts/2_Blast2Gff.pl \\\n",
    "-i ../analyses/trans-v6-blastn-Scaff-30k-02.tab \\\n",
    "-s \"something\" \\\n",
    "-o ../analyses/Olyv6_blastn-Scaff-30k.gff \\\n",
    "-p \"gene-blast\" -d \"Ostrea-scaff-30k\""
   ]
  },
  {
   "cell_type": "code",
   "execution_count": 6,
   "metadata": {
    "collapsed": false
   },
   "outputs": [
    {
     "name": "stdout",
     "output_type": "stream",
     "text": [
      "scaffold70795\tblastn:Ostrea-scaff-30k\tblastn\t47164\t47017\t2e-46\t-\t.\tTR2|c0_g1_i1\t\r\n",
      "scaffold70795\tblastn:Ostrea-scaff-30k\tblastn\t46514\t46660\t1e-42\t+\t.\tTR2|c0_g1_i1\t\r\n",
      "scaffold25028\tblastn:Ostrea-scaff-30k\tblastn\t6458\t6337\t1e-33\t-\t.\tTR5|c0_g1_i1\t\r\n",
      "scaffold86430\tblastn:Ostrea-scaff-30k\tblastn\t12966\t12892\t2e-21\t-\t.\tTR7|c0_g1_i1\t\r\n",
      "scaffold3873\tblastn:Ostrea-scaff-30k\tblastn\t29329\t29092\t1e-47\t-\t.\tTR16|c0_g1_i1\t\r\n",
      "scaffold52557\tblastn:Ostrea-scaff-30k\tblastn\t16379\t16253\t7e-32\t-\t.\tTR28|c0_g1_i1\t\r\n",
      "scaffold40838\tblastn:Ostrea-scaff-30k\tblastn\t2748\t2527\t2e-26\t-\t.\tTR43|c0_g1_i1\t\r\n",
      "scaffold12565\tblastn:Ostrea-scaff-30k\tblastn\t38995\t39238\t2e-69\t+\t.\tTR66|c0_g1_i1\t\r\n",
      "scaffold12565\tblastn:Ostrea-scaff-30k\tblastn\t38956\t39238\t1e-79\t+\t.\tTR66|c0_g2_i1\t\r\n",
      "scaffold26204\tblastn:Ostrea-scaff-30k\tblastn\t27355\t27474\t6e-23\t+\t.\tTR74|c0_g1_i1\t\r\n"
     ]
    }
   ],
   "source": [
    "!head ../analyses/Olyv6_blastn-Scaff-30k.gff"
   ]
  },
  {
   "cell_type": "code",
   "execution_count": null,
   "metadata": {
    "collapsed": true
   },
   "outputs": [],
   "source": []
  }
 ],
 "metadata": {
  "kernelspec": {
   "display_name": "Python 2",
   "language": "python",
   "name": "python2"
  },
  "language_info": {
   "codemirror_mode": {
    "name": "ipython",
    "version": 2
   },
   "file_extension": ".py",
   "mimetype": "text/x-python",
   "name": "python",
   "nbconvert_exporter": "python",
   "pygments_lexer": "ipython2",
   "version": "2.7.12"
  }
 },
 "nbformat": 4,
 "nbformat_minor": 0
}
