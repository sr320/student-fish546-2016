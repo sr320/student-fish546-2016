{
 "cells": [
  {
   "cell_type": "code",
   "execution_count": null,
   "metadata": {
    "collapsed": true
   },
   "outputs": [],
   "source": [
    "-u tells it to output into an uncompressed bcf file (rather than compressed)\n",
    "-D tells it to keep read depth for each sample\n",
    "-r tells it which chromosome region to call SNPs for (you can omit this if you want to do the whole genome, but in the interest of speed, we picked a 50kb region)\n",
    "-f tells it that the next argument is going to be the reference genome file"
   ]
  },
  {
   "cell_type": "code",
   "execution_count": 1,
   "metadata": {
    "collapsed": false
   },
   "outputs": [
    {
     "name": "stdout",
     "output_type": "stream",
     "text": [
      "[warning] samtools mpileup option `-D` is functional, but deprecated. Please switch to `-t DP` in future.\n",
      "[fai_load] build FASTA index.\n",
      "/bin/sh: bcftools: command not found\n",
      "[mpileup] 2 samples in 2 input files\n",
      "<mpileup> Set max per-file depth to 4000\n"
     ]
    }
   ],
   "source": [
    "!samtools mpileup -uD \\\n",
    "-f /Users/sr320/git-repos/student-fish546-2016/data/Ostrea_lurida-Scaff-10k.fa \\\n",
    "/Volumes/caviar/wd/2016-11-11/bw-108A_Male_Mix_AGTCAA_L004.bam \\\n",
    "/Volumes/caviar/wd/2016-11-11/bw-106A_Male_Mix_TAGCTT_L004.bam | \\\n",
    "bcftools view -bvcg - > /Volumes/caviar/wd/2016-11-12c/test.bcf"
   ]
  },
  {
   "cell_type": "code",
   "execution_count": null,
   "metadata": {
    "collapsed": true
   },
   "outputs": [],
   "source": []
  }
 ],
 "metadata": {
  "kernelspec": {
   "display_name": "Python 2",
   "language": "python",
   "name": "python2"
  },
  "language_info": {
   "codemirror_mode": {
    "name": "ipython",
    "version": 2
   },
   "file_extension": ".py",
   "mimetype": "text/x-python",
   "name": "python",
   "nbconvert_exporter": "python",
   "pygments_lexer": "ipython2",
   "version": "2.7.12"
  }
 },
 "nbformat": 4,
 "nbformat_minor": 0
}
