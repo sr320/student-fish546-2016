{
 "cells": [
  {
   "cell_type": "markdown",
   "metadata": {},
   "source": [
    "# Making a reduced version of genome for annotation\n"
   ]
  },
  {
   "cell_type": "code",
   "execution_count": 2,
   "metadata": {
    "collapsed": false
   },
   "outputs": [
    {
     "name": "stdout",
     "output_type": "stream",
     "text": [
      "/Users/sr320/git-repos/student-fish546-2016\n"
     ]
    }
   ],
   "source": [
    "cd ..\n"
   ]
  },
  {
   "cell_type": "code",
   "execution_count": 3,
   "metadata": {
    "collapsed": false
   },
   "outputs": [
    {
     "name": "stdout",
     "output_type": "stream",
     "text": [
      "\u001b[34manalyses\u001b[m\u001b[m/  \u001b[34mdata\u001b[m\u001b[m/      \u001b[34mdocs\u001b[m\u001b[m/      \u001b[34mjupyter\u001b[m\u001b[m/   readme.md  \u001b[34mscripts\u001b[m\u001b[m/\r\n"
     ]
    }
   ],
   "source": [
    "ls"
   ]
  },
  {
   "cell_type": "code",
   "execution_count": 4,
   "metadata": {
    "collapsed": false
   },
   "outputs": [
    {
     "name": "stdout",
     "output_type": "stream",
     "text": [
      "Geoduck-transcriptome-v3.fa.zip    Panopea_generosa-Scaff-70k.nsq\r\n",
      "Panopea_generosa-Scaff-10k.fa      Panopea_generosa.fa\r\n",
      "Panopea_generosa-Scaff-70k.fa      Pg-70k-index.1.bt2\r\n",
      "Panopea_generosa-Scaff-70k.fa.fai  Pg-70k-index.2.bt2\r\n",
      "Panopea_generosa-Scaff-70k.nhr     Pg-70k-index.3.bt2\r\n",
      "Panopea_generosa-Scaff-70k.nin     Pg-70k-index.4.bt2\r\n",
      "Panopea_generosa-Scaff-70k.nog     Pg-70k-index.rev.1.bt2\r\n",
      "Panopea_generosa-Scaff-70k.nsd     Pg-70k-index.rev.2.bt2\r\n",
      "Panopea_generosa-Scaff-70k.nsi     readme.md\r\n"
     ]
    }
   ],
   "source": [
    "ls data/"
   ]
  },
  {
   "cell_type": "code",
   "execution_count": 5,
   "metadata": {
    "collapsed": false
   },
   "outputs": [
    {
     "name": "stdout",
     "output_type": "stream",
     "text": [
      "/Users/sr320/git-repos/student-fish546-2016/data\n"
     ]
    }
   ],
   "source": [
    "cd data\n"
   ]
  },
  {
   "cell_type": "code",
   "execution_count": null,
   "metadata": {
    "collapsed": true
   },
   "outputs": [],
   "source": [
    "!wget "
   ]
  }
 ],
 "metadata": {
  "kernelspec": {
   "display_name": "Python 2",
   "language": "python",
   "name": "python2"
  },
  "language_info": {
   "codemirror_mode": {
    "name": "ipython",
    "version": 2
   },
   "file_extension": ".py",
   "mimetype": "text/x-python",
   "name": "python",
   "nbconvert_exporter": "python",
   "pygments_lexer": "ipython2",
   "version": "2.7.12"
  }
 },
 "nbformat": 4,
 "nbformat_minor": 0
}
