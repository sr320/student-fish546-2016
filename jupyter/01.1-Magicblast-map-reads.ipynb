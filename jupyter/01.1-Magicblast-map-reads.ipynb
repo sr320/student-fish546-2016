{
 "cells": [
  {
   "cell_type": "code",
   "execution_count": 3,
   "metadata": {
    "collapsed": false
   },
   "outputs": [
    {
     "name": "stdout",
     "output_type": "stream",
     "text": [
      "20\r\n"
     ]
    }
   ],
   "source": [
    "!fgrep -c \">\" ../data/Panopea_generosa-Scaff-70k.fa"
   ]
  },
  {
   "cell_type": "code",
   "execution_count": 4,
   "metadata": {
    "collapsed": false
   },
   "outputs": [
    {
     "name": "stdout",
     "output_type": "stream",
     "text": [
      "USAGE\r\n",
      "  magicblast [-h] [-help] [-db database_name] [-gilist filename]\r\n",
      "    [-seqidlist filename] [-negative_gilist filename]\r\n",
      "    [-db_soft_mask filtering_algorithm] [-db_hard_mask filtering_algorithm]\r\n",
      "    [-subject subject_input_file] [-subject_loc range] [-query input_file]\r\n",
      "    [-out output_file] [-gzo] [-word_size int_value] [-gapopen open_penalty]\r\n",
      "    [-gapextend extend_penalty] [-perc_identity float_value]\r\n",
      "    [-penalty penalty] [-lcase_masking] [-validate_seqs TF] [-infmt format]\r\n",
      "    [-paired] [-query_mate infile] [-sra accession] [-parse_deflines TF]\r\n",
      "    [-outfmt format] [-num_threads int_value] [-max_intron_length length]\r\n",
      "    [-score num] [-splice TF] [-reftype type] [-limit_lookup TF]\r\n",
      "    [-lookup_stride num] [-batch_size num] [-version]\r\n",
      "\r\n",
      "DESCRIPTION\r\n",
      "   Short read mapper\r\n",
      "\r\n",
      "OPTIONAL ARGUMENTS\r\n",
      " -h\r\n",
      "   Print USAGE and DESCRIPTION;  ignore all other parameters\r\n",
      " -help\r\n",
      "   Print USAGE, DESCRIPTION and ARGUMENTS; ignore all other parameters\r\n",
      " -version\r\n",
      "   Print version number;  ignore other arguments\r\n",
      "\r\n",
      " *** Input query options\r\n",
      " -query <File_In>\r\n",
      "   Input file name\r\n",
      "   Default = `-'\r\n",
      "    * Incompatible with:  sra\r\n",
      " -infmt <String, `asn1', `asn1b', `fasta', `fastc', `fastq'>\r\n",
      "   Input format for sequences\r\n",
      "   Default = `fasta'\r\n",
      "    * Incompatible with:  sra\r\n",
      " -paired\r\n",
      "   Input query sequences are paired\r\n",
      " -query_mate <File_In>\r\n",
      "   FASTA file with mates for query sequences (if given in another file)\r\n",
      "    * Requires:  query\r\n",
      " -sra <String>\r\n",
      "   Comma-separated SRA accessions\r\n",
      "    * Incompatible with:  query, infmt\r\n",
      "\r\n",
      " *** General search options\r\n",
      " -db <String>\r\n",
      "   BLAST database name\r\n",
      "    * Incompatible with:  subject, subject_loc\r\n",
      " -out <File_Out>\r\n",
      "   Output file name\r\n",
      "   Default = `-'\r\n",
      " -gzo\r\n",
      "   Output will be compressed\r\n",
      " -word_size <Integer, >=12>\r\n",
      "   Word size for wordfinder algorithm (length of best perfect match)\r\n",
      " -gapopen <Integer>\r\n",
      "   Cost to open a gap\r\n",
      " -gapextend <Integer>\r\n",
      "   Cost to extend a gap\r\n",
      " -penalty <Integer, <=0>\r\n",
      "   Penalty for a nucleotide mismatch\r\n",
      " -max_intron_length <Integer, >=0>\r\n",
      "   Length of the largest intron allowed in a translated nucleotide sequence\r\n",
      "   when linking multiple distinct alignments\r\n",
      "   Default = `2000'\r\n",
      "\r\n",
      " *** BLAST-2-Sequences options\r\n",
      " -subject <File_In>\r\n",
      "   Subject sequence(s) to search\r\n",
      "    * Incompatible with:  db, gilist, seqidlist, negative_gilist,\r\n",
      "   db_soft_mask, db_hard_mask\r\n",
      " -subject_loc <String>\r\n",
      "   Location on the subject sequence in 1-based offsets (Format: start-stop)\r\n",
      "    * Incompatible with:  db, gilist, seqidlist, negative_gilist,\r\n",
      "   db_soft_mask, db_hard_mask, remote\r\n",
      "\r\n",
      " *** Formatting options\r\n",
      " -outfmt <String, Permissible values: 'asn' 'sam' 'tabular' >\r\n",
      "   alignment view options:\r\n",
      "   sam = SAM format,\r\n",
      "   tabular = Tabular format,\r\n",
      "   text ASN.1\r\n",
      "   Default = `sam'\r\n",
      "\r\n",
      " *** Query filtering options\r\n",
      " -lcase_masking\r\n",
      "   Use lower case filtering in subject sequence(s)?\r\n",
      " -validate_seqs <Boolean>\r\n",
      "   Reject low quality sequences \r\n",
      "   Default = `true'\r\n",
      " -limit_lookup <Boolean>\r\n",
      "   Remove word seeds with high frequency in the searched database\r\n",
      " -lookup_stride <Integer>\r\n",
      "   Number of words to skip after collecting one while creating a lookup table\r\n",
      "   Default = `0'\r\n",
      "\r\n",
      " *** Restrict search or results\r\n",
      " -gilist <String>\r\n",
      "   Restrict search of database to list of GI's\r\n",
      "    * Incompatible with:  negative_gilist, seqidlist, remote, subject,\r\n",
      "   subject_loc\r\n",
      " -seqidlist <String>\r\n",
      "   Restrict search of database to list of SeqId's\r\n",
      "    * Incompatible with:  gilist, negative_gilist, remote, subject,\r\n",
      "   subject_loc\r\n",
      " -negative_gilist <String>\r\n",
      "   Restrict search of database to everything except the listed GIs\r\n",
      "    * Incompatible with:  gilist, seqidlist, remote, subject, subject_loc\r\n",
      " -db_soft_mask <String>\r\n",
      "   Filtering algorithm ID to apply to the BLAST database as soft masking\r\n",
      "    * Incompatible with:  db_hard_mask, subject, subject_loc\r\n",
      " -db_hard_mask <String>\r\n",
      "   Filtering algorithm ID to apply to the BLAST database as hard masking\r\n",
      "    * Incompatible with:  db_soft_mask, subject, subject_loc\r\n",
      " -perc_identity <Real, 0..100>\r\n",
      "   Percent identity\r\n",
      "\r\n",
      " *** Miscellaneous options\r\n",
      " -parse_deflines <Boolean>\r\n",
      "   Should the query and subject defline(s) be parsed?\r\n",
      "   Default = `true'\r\n",
      " -num_threads <Integer, >=1>\r\n",
      "   Number of threads (CPUs) to use in the BLAST search\r\n",
      "   Default = `1'\r\n",
      "    * Incompatible with:  remote\r\n",
      "\r\n",
      " *** Mapping options\r\n",
      " -score <Integer>\r\n",
      "   Cutoff score for accepting a single non-spliced alignment\r\n",
      " -splice <Boolean>\r\n",
      "   Search for spliced alignments\r\n",
      " -reftype <String, `genome', `transcriptome'>\r\n",
      "   Type of the reference: genome or transcriptome\r\n",
      "   Default = `genome'\r\n",
      " -batch_size <Integer>\r\n",
      "   Number of query sequences read in a single batch\r\n",
      "\r\n"
     ]
    }
   ],
   "source": [
    "!/Applications/bioinfo/ncbi-magicblast-1.0.0/bin/magicblast -help"
   ]
  },
  {
   "cell_type": "code",
   "execution_count": 5,
   "metadata": {
    "collapsed": false
   },
   "outputs": [
    {
     "name": "stdout",
     "output_type": "stream",
     "text": [
      "\u001b[31mmagicblast\u001b[m\u001b[m  \u001b[31mmakeblastdb\u001b[m\u001b[m\r\n"
     ]
    }
   ],
   "source": [
    "!ls /Applications/bioinfo/ncbi-magicblast-1.0.0/bin/"
   ]
  },
  {
   "cell_type": "code",
   "execution_count": 6,
   "metadata": {
    "collapsed": false
   },
   "outputs": [
    {
     "name": "stdout",
     "output_type": "stream",
     "text": [
      "USAGE\r\n",
      "  makeblastdb [-h] [-help] [-in input_file] [-input_type type]\r\n",
      "    -dbtype molecule_type [-title database_title] [-parse_seqids]\r\n",
      "    [-hash_index] [-mask_data mask_data_files] [-mask_id mask_algo_ids]\r\n",
      "    [-mask_desc mask_algo_descriptions] [-gi_mask]\r\n",
      "    [-gi_mask_name gi_based_mask_names] [-out database_name]\r\n",
      "    [-max_file_sz number_of_bytes] [-logfile File_Name] [-taxid TaxID]\r\n",
      "    [-taxid_map TaxIDMapFile] [-version]\r\n",
      "\r\n",
      "DESCRIPTION\r\n",
      "   Application to create BLAST databases, version 2.5.0+\r\n",
      "\r\n",
      "Use '-help' to print detailed descriptions of command line arguments\r\n"
     ]
    }
   ],
   "source": [
    "!/Applications/bioinfo/ncbi-magicblast-1.0.0/bin/makeblastdb -h"
   ]
  },
  {
   "cell_type": "markdown",
   "metadata": {},
   "source": [
    "### from README\n",
    "```\n",
    "CREATION OF A BLAST DATABASE:\n",
    "\n",
    "Use this command line to create a BLAST database:\n",
    "makeblastdb -in fasta_file -dbtype nucl -parse_seqids -out database_name\n",
    "-title \"Database title\"\n",
    "\n",
    "The -parse_seqids option is required to keep the original sequence\n",
    "identifiers. Otherwise makeblastdb will generate its own identifiers.\n",
    "\n",
    "```"
   ]
  },
  {
   "cell_type": "code",
   "execution_count": 11,
   "metadata": {
    "collapsed": false
   },
   "outputs": [
    {
     "name": "stdout",
     "output_type": "stream",
     "text": [
      "\n",
      "\n",
      "Building a new DB, current time: 10/03/2016 10:31:57\n",
      "New DB name:   /Users/sr320/git-repos/student-fish546-2016/data/Panopea_generosa-Scaff-70k\n",
      "New DB title:  ../data/Panopea_generosa-Scaff-70k.fa\n",
      "Sequence type: Nucleotide\n",
      "Deleted existing Nucleotide BLAST database named /Users/sr320/git-repos/student-fish546-2016/data/Panopea_generosa-Scaff-70k\n",
      "Keep MBits: T\n",
      "Maximum file size: 1000000000B\n",
      "Adding sequences from FASTA; added 20 sequences in 0.222788 seconds.\n"
     ]
    }
   ],
   "source": [
    "!/Applications/bioinfo/ncbi-magicblast-1.0.0/bin/makeblastdb \\\n",
    "-in ../data/Panopea_generosa-Scaff-70k.fa \\\n",
    "-dbtype nucl \\\n",
    "-parse_seqids \\\n",
    "-out ../data/Panopea_generosa-Scaff-70k"
   ]
  },
  {
   "cell_type": "code",
   "execution_count": null,
   "metadata": {
    "collapsed": false
   },
   "outputs": [],
   "source": [
    "!/Applications/bioinfo/ncbi-magicblast-1.0.0/bin/magicblast \\\n",
    "-sra SRR3290007 \\\n",
    "-db ../data/Panopea_generosa-Scaff-70k \\\n",
    "-num_threads 8 \\\n",
    "-out ../analyses/SRR329007_mb_70k"
   ]
  },
  {
   "cell_type": "code",
   "execution_count": 10,
   "metadata": {
    "collapsed": false
   },
   "outputs": [
    {
     "name": "stdout",
     "output_type": "stream",
     "text": [
      "@HD\tVN:1.2\tGO:query\r\n",
      "@SQ\tSN:gnl|BL_ORD_ID|0\tLN:92480\r\n",
      "@SQ\tSN:gnl|BL_ORD_ID|1\tLN:96504\r\n",
      "@SQ\tSN:gnl|BL_ORD_ID|2\tLN:78472\r\n",
      "@SQ\tSN:gnl|BL_ORD_ID|3\tLN:106643\r\n",
      "@SQ\tSN:gnl|BL_ORD_ID|4\tLN:103072\r\n",
      "@SQ\tSN:gnl|BL_ORD_ID|5\tLN:71487\r\n",
      "@SQ\tSN:gnl|BL_ORD_ID|6\tLN:94990\r\n",
      "@SQ\tSN:gnl|BL_ORD_ID|7\tLN:73279\r\n",
      "@SQ\tSN:gnl|BL_ORD_ID|8\tLN:88023\r\n"
     ]
    }
   ],
   "source": [
    "!head ../analyses/SRR329007_mb_70k.tab"
   ]
  },
  {
   "cell_type": "code",
   "execution_count": null,
   "metadata": {
    "collapsed": true
   },
   "outputs": [],
   "source": []
  }
 ],
 "metadata": {
  "kernelspec": {
   "display_name": "Python 2",
   "language": "python",
   "name": "python2"
  },
  "language_info": {
   "codemirror_mode": {
    "name": "ipython",
    "version": 2
   },
   "file_extension": ".py",
   "mimetype": "text/x-python",
   "name": "python",
   "nbconvert_exporter": "python",
   "pygments_lexer": "ipython2",
   "version": "2.7.11"
  }
 },
 "nbformat": 4,
 "nbformat_minor": 0
}
