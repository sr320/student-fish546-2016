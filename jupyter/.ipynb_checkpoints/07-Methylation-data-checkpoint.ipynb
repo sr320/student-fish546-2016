{
 "cells": [
  {
   "cell_type": "markdown",
   "metadata": {},
   "source": [
    "## Previously ran BSMAP\n"
   ]
  },
  {
   "cell_type": "markdown",
   "metadata": {},
   "source": [
    "<img src=\"http://eagle.fish.washington.edu/cnidarian/skitch/sr320_github_io_Fidalgo-Siblings-BS-genefish-10k_ipynb_at_master_·_sr320_sr320_github_io_1DDA4CB0.png\" alt=\"sr320_github_io_Fidalgo-Siblings-BS-genefish-10k_ipynb_at_master_·_sr320_sr320_github_io_1DDA4CB0.png\"/>"
   ]
  },
  {
   "cell_type": "code",
   "execution_count": 7,
   "metadata": {
    "collapsed": false
   },
   "outputs": [
    {
     "name": "stdout",
     "output_type": "stream",
     "text": [
      "/Volumes/web/halfshell/working-directory/16-10-29/bsmap_out_1_ATCACG-2.sam\r\n",
      "/Volumes/web/halfshell/working-directory/16-10-29/bsmap_out_2_CGATGT-2.sam\r\n",
      "/Volumes/web/halfshell/working-directory/16-10-29/bsmap_out_3_TTAGGC-2.sam\r\n",
      "/Volumes/web/halfshell/working-directory/16-10-29/bsmap_out_4_TGACCA-2.sam\r\n",
      "/Volumes/web/halfshell/working-directory/16-10-29/bsmap_out_5_ACAGTG-2.sam\r\n",
      "/Volumes/web/halfshell/working-directory/16-10-29/bsmap_out_6_GCCAAT-2.sam\r\n",
      "/Volumes/web/halfshell/working-directory/16-10-29/bsmap_out_7_CAGATC-2.sam\r\n",
      "/Volumes/web/halfshell/working-directory/16-10-29/bsmap_out_8_ACTTGA-2.sam\r\n"
     ]
    }
   ],
   "source": [
    "!ls /Volumes/web/halfshell/working-directory/16-10-29/*2.sam"
   ]
  },
  {
   "cell_type": "code",
   "execution_count": 9,
   "metadata": {
    "collapsed": true
   },
   "outputs": [],
   "source": [
    "bsmaploc=\"/Applications/bioinfo/BSMAP/bsmap-2.74/\"\n"
   ]
  },
  {
   "cell_type": "code",
   "execution_count": 14,
   "metadata": {
    "collapsed": false
   },
   "outputs": [
    {
     "name": "stdout",
     "output_type": "stream",
     "text": [
      "@ Mon Nov 14 11:56:09 2016: reading reference data/Ostrea_lurida-Scaff-10k.fa ...\n",
      "@ Mon Nov 14 11:56:12 2016: reading /Volumes/web/halfshell/working-directory/16-10-29/bsmap_out_1_ATCACG-2.sam ...\n",
      "[samopen] SAM header is present: 8733 sequences.\n",
      "@ Mon Nov 14 11:59:56 2016: combining CpG methylation from both strands ...\n",
      "@ Mon Nov 14 12:00:03 2016: writing /Volumes/caviar/wd/2016-11-14c/methratio_out_1_ATCACG.txt ...\n",
      "@ Mon Nov 14 12:00:44 2016: done.\n",
      "total 1127272 valid mappings, 1816512 covered cytosines, average coverage: 2.40 fold.\n",
      "@ Mon Nov 14 12:00:44 2016: reading reference data/Ostrea_lurida-Scaff-10k.fa ...\n",
      "@ Mon Nov 14 12:00:48 2016: reading /Volumes/web/halfshell/working-directory/16-10-29/bsmap_out_2_CGATGT-2.sam ...\n",
      "[samopen] SAM header is present: 8733 sequences.\n",
      "@ Mon Nov 14 12:05:53 2016: combining CpG methylation from both strands ...\n",
      "@ Mon Nov 14 12:06:01 2016: writing /Volumes/caviar/wd/2016-11-14c/methratio_out_2_CGATGT.txt ...\n",
      "@ Mon Nov 14 12:06:41 2016: done.\n",
      "total 1405213 valid mappings, 2059383 covered cytosines, average coverage: 2.59 fold.\n",
      "@ Mon Nov 14 12:06:41 2016: reading reference data/Ostrea_lurida-Scaff-10k.fa ...\n",
      "@ Mon Nov 14 12:06:45 2016: reading /Volumes/web/halfshell/working-directory/16-10-29/bsmap_out_3_TTAGGC-2.sam ...\n",
      "[samopen] SAM header is present: 8733 sequences.\n",
      "@ Mon Nov 14 12:12:56 2016: combining CpG methylation from both strands ...\n",
      "@ Mon Nov 14 12:13:04 2016: writing /Volumes/caviar/wd/2016-11-14c/methratio_out_3_TTAGGC.txt ...\n",
      "@ Mon Nov 14 12:13:45 2016: done.\n",
      "total 1386599 valid mappings, 2018150 covered cytosines, average coverage: 2.67 fold.\n",
      "@ Mon Nov 14 12:13:46 2016: reading reference data/Ostrea_lurida-Scaff-10k.fa ...\n",
      "@ Mon Nov 14 12:13:50 2016: reading /Volumes/web/halfshell/working-directory/16-10-29/bsmap_out_4_TGACCA-2.sam ...\n",
      "[samopen] SAM header is present: 8733 sequences.\n",
      "@ Mon Nov 14 12:17:25 2016: combining CpG methylation from both strands ...\n",
      "@ Mon Nov 14 12:17:32 2016: writing /Volumes/caviar/wd/2016-11-14c/methratio_out_4_TGACCA.txt ...\n",
      "@ Mon Nov 14 12:18:13 2016: done.\n",
      "total 1401109 valid mappings, 2064718 covered cytosines, average coverage: 2.58 fold.\n",
      "@ Mon Nov 14 12:18:14 2016: reading reference data/Ostrea_lurida-Scaff-10k.fa ...\n",
      "@ Mon Nov 14 12:18:17 2016: reading /Volumes/web/halfshell/working-directory/16-10-29/bsmap_out_5_ACAGTG-2.sam ...\n",
      "[samopen] SAM header is present: 8733 sequences.\n",
      "@ Mon Nov 14 12:26:04 2016: combining CpG methylation from both strands ...\n",
      "@ Mon Nov 14 12:26:12 2016: writing /Volumes/caviar/wd/2016-11-14c/methratio_out_5_ACAGTG.txt ...\n",
      "@ Mon Nov 14 12:26:59 2016: done.\n",
      "total 1455220 valid mappings, 2056899 covered cytosines, average coverage: 2.70 fold.\n",
      "@ Mon Nov 14 12:27:00 2016: reading reference data/Ostrea_lurida-Scaff-10k.fa ...\n",
      "@ Mon Nov 14 12:27:03 2016: reading /Volumes/web/halfshell/working-directory/16-10-29/bsmap_out_6_GCCAAT-2.sam ...\n",
      "[samopen] SAM header is present: 8733 sequences.\n",
      "@ Mon Nov 14 12:33:32 2016: combining CpG methylation from both strands ...\n",
      "@ Mon Nov 14 12:33:39 2016: writing /Volumes/caviar/wd/2016-11-14c/methratio_out_6_GCCAAT.txt ...\n",
      "@ Mon Nov 14 12:34:21 2016: done.\n",
      "total 1445739 valid mappings, 2059919 covered cytosines, average coverage: 2.67 fold.\n",
      "@ Mon Nov 14 12:34:21 2016: reading reference data/Ostrea_lurida-Scaff-10k.fa ...\n",
      "@ Mon Nov 14 12:34:25 2016: reading /Volumes/web/halfshell/working-directory/16-10-29/bsmap_out_7_CAGATC-2.sam ...\n",
      "[samopen] SAM header is present: 8733 sequences.\n",
      "@ Mon Nov 14 12:46:52 2016: combining CpG methylation from both strands ...\n",
      "@ Mon Nov 14 12:47:00 2016: writing /Volumes/caviar/wd/2016-11-14c/methratio_out_7_CAGATC.txt ...\n",
      "@ Mon Nov 14 12:47:42 2016: done.\n",
      "total 1229339 valid mappings, 1906075 covered cytosines, average coverage: 2.45 fold.\n",
      "@ Mon Nov 14 12:47:43 2016: reading reference data/Ostrea_lurida-Scaff-10k.fa ...\n",
      "@ Mon Nov 14 12:47:46 2016: reading /Volumes/web/halfshell/working-directory/16-10-29/bsmap_out_8_ACTTGA-2.sam ...\n",
      "[samopen] SAM header is present: 8733 sequences.\n",
      "@ Mon Nov 14 12:54:25 2016: combining CpG methylation from both strands ...\n",
      "@ Mon Nov 14 12:54:33 2016: writing /Volumes/caviar/wd/2016-11-14c/methratio_out_8_ACTTGA.txt ...\n",
      "@ Mon Nov 14 12:55:19 2016: done.\n",
      "total 1663563 valid mappings, 2204320 covered cytosines, average coverage: 2.83 fold.\n"
     ]
    }
   ],
   "source": [
    "for i in (\"1_ATCACG\",\"2_CGATGT\",\"3_TTAGGC\",\"4_TGACCA\",\"5_ACAGTG\",\"6_GCCAAT\",\"7_CAGATC\",\"8_ACTTGA\"):\n",
    "    !python {bsmaploc}methratio.py \\\n",
    "-d data/Ostrea_lurida-Scaff-10k.fa \\\n",
    "-u -z -g \\\n",
    "-o /Volumes/caviar/wd/2016-11-14c/methratio_out_{i}.txt \\\n",
    "-s {bsmaploc}samtools \\\n",
    "/Volumes/web/halfshell/working-directory/16-10-29/bsmap_out_{i}-2.sam \\"
   ]
  },
  {
   "cell_type": "code",
   "execution_count": 15,
   "metadata": {
    "collapsed": false
   },
   "outputs": [
    {
     "name": "stdout",
     "output_type": "stream",
     "text": [
      "==> /Volumes/caviar/wd/2016-11-14c/methratio_out_1_ATCACG.txt <==\n",
      "chr\tpos\tstrand\tcontext\tratio\teff_CT_count\tC_count\tCT_count\trev_G_count\trev_GA_count\tCI_lower\tCI_upper\n",
      "scaffold1002\t36\t-\tCAGCG\t0.000\t1.00\t0\t1\t0\t0\t0.000\t0.793\n",
      "scaffold1002\t37\t+\tAGCGT\t0.000\t1.00\t0\t1\t0\t0\t0.000\t0.793\n",
      "scaffold1002\t57\t+\tATCGG\t0.000\t2.67\t0\t3\t8\t9\t0.000\t0.590\n",
      "scaffold1002\t59\t-\tCGGGA\t0.000\t1.00\t0\t1\t13\t13\t0.000\t0.793\n",
      "scaffold1002\t60\t-\tGGGAT\t0.000\t0.92\t0\t1\t11\t12\t0.000\t0.807\n",
      "scaffold1002\t64\t-\tTTGGT\t0.000\t1.60\t0\t2\t12\t15\t0.000\t0.706\n",
      "scaffold1002\t68\t+\tTACTT\t0.000\t12.00\t0\t12\t1\t1\t0.000\t0.243\n",
      "scaffold1002\t75\t+\tTTCTC\tNA\t0.00\t0\t12\t0\t1\tNA\tNA\n",
      "scaffold1002\t77\t+\tCTCTC\t0.000\t12.00\t0\t12\t1\t1\t0.000\t0.243\n",
      "\n",
      "==> /Volumes/caviar/wd/2016-11-14c/methratio_out_2_CGATGT.txt <==\n",
      "chr\tpos\tstrand\tcontext\tratio\teff_CT_count\tC_count\tCT_count\trev_G_count\trev_GA_count\tCI_lower\tCI_upper\n",
      "scaffold1002\t16\t+\tTACCA\t0.000\t1.00\t0\t1\t0\t0\t0.000\t0.793\n",
      "scaffold1002\t17\t+\tACCAG\t0.000\t1.00\t0\t1\t0\t0\t0.000\t0.793\n",
      "scaffold1002\t25\t+\tTACGA\t0.000\t1.00\t0\t1\t1\t1\t0.000\t0.793\n",
      "scaffold1002\t34\t+\tTTCAG\t0.000\t1.00\t0\t1\t0\t0\t0.000\t0.793\n",
      "scaffold1002\t37\t+\tAGCGT\t0.000\t2.00\t0\t2\t1\t1\t0.000\t0.658\n",
      "scaffold1002\t43\t+\tTTCTA\t0.000\t2.00\t0\t2\t2\t2\t0.000\t0.658\n",
      "scaffold1002\t47\t+\tATCAA\t0.000\t2.00\t0\t2\t0\t0\t0.000\t0.658\n",
      "scaffold1002\t53\t+\tTTCGA\t0.333\t3.00\t1\t3\t6\t6\t0.061\t0.792\n",
      "scaffold1002\t57\t+\tATCGG\t0.000\t5.73\t0\t7\t9\t11\t0.000\t0.401\n",
      "\n",
      "==> /Volumes/caviar/wd/2016-11-14c/methratio_out_3_TTAGGC.txt <==\n",
      "chr\tpos\tstrand\tcontext\tratio\teff_CT_count\tC_count\tCT_count\trev_G_count\trev_GA_count\tCI_lower\tCI_upper\n",
      "scaffold1002\t36\t-\tCAGCG\t0.000\t1.00\t0\t1\t0\t0\t0.000\t0.793\n",
      "scaffold1002\t37\t+\tAGCGT\tNA\t0.00\t0\t1\t0\t1\tNA\tNA\n",
      "scaffold1002\t53\t+\tTTCGA\t0.000\t1.00\t0\t1\t1\t1\t0.000\t0.793\n",
      "scaffold1002\t57\t+\tATCGG\t0.000\t5.00\t0\t5\t8\t8\t-0.000\t0.434\n",
      "scaffold1002\t59\t-\tCGGGA\t0.000\t1.00\t0\t1\t10\t10\t0.000\t0.793\n",
      "scaffold1002\t60\t-\tGGGAT\t0.000\t1.00\t0\t1\t10\t10\t0.000\t0.793\n",
      "scaffold1002\t64\t-\tTTGGT\t0.000\t0.83\t0\t1\t10\t12\t0.000\t0.822\n",
      "scaffold1002\t65\t-\tTGGTA\t0.000\t1.00\t0\t1\t11\t11\t0.000\t0.793\n",
      "scaffold1002\t68\t+\tTACTT\t0.000\t11.00\t0\t11\t1\t1\t0.000\t0.259\n",
      "\n",
      "==> /Volumes/caviar/wd/2016-11-14c/methratio_out_4_TGACCA.txt <==\n",
      "chr\tpos\tstrand\tcontext\tratio\teff_CT_count\tC_count\tCT_count\trev_G_count\trev_GA_count\tCI_lower\tCI_upper\n",
      "scaffold1002\t47\t+\tATCAA\t0.000\t1.00\t0\t1\t0\t0\t0.000\t0.793\n",
      "scaffold1002\t53\t+\tTTCGA\t0.000\t2.00\t0\t2\t3\t3\t0.000\t0.658\n",
      "scaffold1002\t57\t+\tATCGG\t0.000\t9.00\t0\t9\t12\t12\t0.000\t0.299\n",
      "scaffold1002\t68\t+\tTACTT\t0.000\t14.00\t0\t14\t0\t0\t0.000\t0.215\n",
      "scaffold1002\t75\t+\tTTCTC\t0.000\t14.00\t0\t14\t0\t0\t0.000\t0.215\n",
      "scaffold1002\t77\t+\tCTCTC\t0.000\t14.00\t0\t14\t0\t0\t0.000\t0.215\n",
      "scaffold1002\t79\t+\tCTCGC\t0.155\t12.92\t2\t14\t12\t13\t0.044\t0.424\n",
      "scaffold1002\t81\t+\tCGCTG\t0.000\t16.00\t0\t16\t0\t0\t0.000\t0.194\n",
      "scaffold1002\t103\t-\tTAGCG\t0.000\t3.25\t0\t4\t13\t16\t0.000\t0.542\n",
      "\n",
      "==> /Volumes/caviar/wd/2016-11-14c/methratio_out_5_ACAGTG.txt <==\n",
      "chr\tpos\tstrand\tcontext\tratio\teff_CT_count\tC_count\tCT_count\trev_G_count\trev_GA_count\tCI_lower\tCI_upper\n",
      "scaffold1002\t47\t+\tATCAA\t0.000\t1.00\t0\t1\t0\t0\t0.000\t0.793\n",
      "scaffold1002\t53\t+\tTTCGA\t0.000\t4.00\t0\t4\t4\t4\t0.000\t0.490\n",
      "scaffold1002\t57\t+\tATCGG\t0.000\t7.00\t0\t7\t9\t9\t0.000\t0.354\n",
      "scaffold1002\t68\t+\tTACTT\t0.000\t16.00\t0\t16\t0\t0\t0.000\t0.194\n",
      "scaffold1002\t75\t+\tTTCTC\t0.000\t16.00\t0\t16\t0\t0\t0.000\t0.194\n",
      "scaffold1002\t77\t+\tCTCTC\tNA\t0.00\t0\t16\t0\t1\tNA\tNA\n",
      "scaffold1002\t79\t+\tCTCGC\t0.412\t17.00\t7\t17\t17\t17\t0.216\t0.640\n",
      "scaffold1002\t81\t+\tCGCTG\t0.000\t12.67\t0\t19\t2\t3\t0.000\t0.233\n",
      "scaffold1002\t85\t-\tGTGAA\t0.000\t0.94\t0\t1\t15\t16\t-0.000\t0.804\n",
      "\n",
      "==> /Volumes/caviar/wd/2016-11-14c/methratio_out_6_GCCAAT.txt <==\n",
      "chr\tpos\tstrand\tcontext\tratio\teff_CT_count\tC_count\tCT_count\trev_G_count\trev_GA_count\tCI_lower\tCI_upper\n",
      "scaffold1002\t37\t+\tAGCGT\t0.000\t1.00\t0\t1\t0\t0\t0.000\t0.793\n",
      "scaffold1002\t47\t+\tATCAA\t0.000\t1.00\t0\t1\t2\t2\t0.000\t0.793\n",
      "scaffold1002\t53\t+\tTTCGA\t0.200\t5.00\t1\t5\t4\t4\t0.036\t0.624\n",
      "scaffold1002\t57\t+\tATCGG\t0.077\t13.00\t1\t13\t13\t13\t0.014\t0.333\n",
      "scaffold1002\t59\t-\tCGGGA\t0.500\t2.00\t1\t2\t13\t13\t0.095\t0.905\n",
      "scaffold1002\t60\t-\tGGGAT\t0.591\t1.69\t1\t2\t11\t13\t0.113\t0.942\n",
      "scaffold1002\t64\t-\tTTGGT\t0.682\t1.47\t1\t2\t11\t15\t0.133\t0.968\n",
      "scaffold1002\t65\t-\tTGGTA\t0.500\t2.00\t1\t2\t14\t14\t0.095\t0.905\n",
      "scaffold1002\t68\t+\tTACTT\t0.000\t13.00\t0\t13\t2\t2\t0.000\t0.228\n",
      "\n",
      "==> /Volumes/caviar/wd/2016-11-14c/methratio_out_7_CAGATC.txt <==\n",
      "chr\tpos\tstrand\tcontext\tratio\teff_CT_count\tC_count\tCT_count\trev_G_count\trev_GA_count\tCI_lower\tCI_upper\n",
      "scaffold1002\t34\t+\tTTCAG\t1.000\t1.00\t1\t1\t1\t1\t0.207\t1.000\n",
      "scaffold1002\t36\t-\tCAGCG\t0.000\t1.00\t0\t1\t1\t1\t0.000\t0.793\n",
      "scaffold1002\t37\t+\tAGCGT\t0.000\t1.00\t0\t2\t1\t2\t0.000\t0.793\n",
      "scaffold1002\t43\t+\tTTCTA\t0.000\t1.00\t0\t1\t1\t1\t0.000\t0.793\n",
      "scaffold1002\t47\t+\tATCAA\t0.000\t1.00\t0\t1\t1\t1\t0.000\t0.793\n",
      "scaffold1002\t53\t+\tTTCGA\t0.500\t4.00\t2\t4\t4\t4\t0.150\t0.850\n",
      "scaffold1002\t57\t+\tATCGG\t0.250\t8.00\t2\t8\t9\t9\t0.071\t0.591\n",
      "scaffold1002\t59\t-\tCGGGA\t0.000\t1.00\t0\t1\t8\t8\t0.000\t0.793\n",
      "scaffold1002\t60\t-\tGGGAT\t0.000\t1.00\t0\t1\t8\t8\t0.000\t0.793\n",
      "\n",
      "==> /Volumes/caviar/wd/2016-11-14c/methratio_out_8_ACTTGA.txt <==\n",
      "chr\tpos\tstrand\tcontext\tratio\teff_CT_count\tC_count\tCT_count\trev_G_count\trev_GA_count\tCI_lower\tCI_upper\n",
      "scaffold1002\t25\t+\tTACGA\t0.000\t1.00\t0\t1\t0\t0\t0.000\t0.793\n",
      "scaffold1002\t34\t+\tTTCAG\t0.000\t1.00\t0\t1\t0\t0\t0.000\t0.793\n",
      "scaffold1002\t36\t-\tCAGCG\t0.000\t1.00\t0\t1\t1\t1\t0.000\t0.793\n",
      "scaffold1002\t37\t+\tAGCGT\tNA\t0.00\t0\t1\t0\t2\tNA\tNA\n",
      "scaffold1002\t43\t+\tTTCTA\t0.000\t1.00\t0\t1\t1\t1\t0.000\t0.793\n",
      "scaffold1002\t53\t+\tTTCGA\t0.143\t7.00\t1\t7\t8\t8\t0.026\t0.513\n",
      "scaffold1002\t57\t+\tATCGG\t0.067\t15.00\t1\t15\t15\t15\t0.012\t0.298\n",
      "scaffold1002\t59\t-\tCGGGA\t0.000\t1.88\t0\t2\t16\t17\t0.000\t0.671\n",
      "scaffold1002\t60\t-\tGGGAT\t0.000\t1.88\t0\t2\t16\t17\t0.000\t0.671\n"
     ]
    }
   ],
   "source": [
    "!head /Volumes/caviar/wd/2016-11-14c/methratio_*"
   ]
  },
  {
   "cell_type": "code",
   "execution_count": 27,
   "metadata": {
    "collapsed": false
   },
   "outputs": [
    {
     "name": "stdout",
     "output_type": "stream",
     "text": [
      "1_ATCACG\n",
      "2_CGATGT\n",
      "3_TTAGGC\n",
      "4_TGACCA\n",
      "5_ACAGTG\n",
      "6_GCCAAT\n",
      "7_CAGATC\n",
      "8_ACTTGA\n"
     ]
    }
   ],
   "source": [
    "\n",
    "#first methratio files are converted to filter for CG context, 3x coverage (mr3x.awk), and reformatting (mr_gg.awk.sh).\n",
    "#due to issue passing variable to awk, simple scripts were used (included in repository)\n",
    "for i in (\"1_ATCACG\",\"2_CGATGT\",\"3_TTAGGC\",\"4_TGACCA\",\"5_ACAGTG\",\"6_GCCAAT\",\"7_CAGATC\",\"8_ACTTGA\"):\n",
    "    !echo {i}\n",
    "    !grep \"[A-Z][A-Z]CG[A-Z]\" </Volumes/caviar/wd/2016-11-14c/methratio_out_{i}.txt> \\\n",
    "    /Volumes/caviar/wd/2016-11-14c/methratio_out_{i}_CG.txt\n",
    "    !awk -f /Users/sr320/git-repos/sr320.github.io/jupyter/scripts/mr3x.awk \\\n",
    "    /Volumes/caviar/wd/2016-11-14c/methratio_out_{i}_CG.txt \\\n",
    "    > /Volumes/caviar/wd/2016-11-14c/mr3x.{i}.txt"
   ]
  },
  {
   "cell_type": "code",
   "execution_count": 28,
   "metadata": {
    "collapsed": false
   },
   "outputs": [
    {
     "name": "stdout",
     "output_type": "stream",
     "text": [
      "==> /Volumes/caviar/wd/2016-11-14c/methratio_out_1_ATCACG_CG.txt <==\r\n",
      "scaffold1002\t37\t+\tAGCGT\t0.000\t1.00\t0\t1\t0\t0\t0.000\t0.793\r\n",
      "scaffold1002\t57\t+\tATCGG\t0.000\t2.67\t0\t3\t8\t9\t0.000\t0.590\r\n",
      "scaffold1002\t79\t+\tCTCGC\t0.333\t12.00\t4\t12\t12\t12\t0.138\t0.609\r\n",
      "\r\n",
      "==> /Volumes/caviar/wd/2016-11-14c/methratio_out_2_CGATGT_CG.txt <==\r\n",
      "scaffold1002\t25\t+\tTACGA\t0.000\t1.00\t0\t1\t1\t1\t0.000\t0.793\r\n",
      "scaffold1002\t37\t+\tAGCGT\t0.000\t2.00\t0\t2\t1\t1\t0.000\t0.658\r\n",
      "scaffold1002\t53\t+\tTTCGA\t0.333\t3.00\t1\t3\t6\t6\t0.061\t0.792\r\n",
      "\r\n",
      "==> /Volumes/caviar/wd/2016-11-14c/methratio_out_3_TTAGGC_CG.txt <==\r\n",
      "scaffold1002\t37\t+\tAGCGT\tNA\t0.00\t0\t1\t0\t1\tNA\tNA\r\n",
      "scaffold1002\t53\t+\tTTCGA\t0.000\t1.00\t0\t1\t1\t1\t0.000\t0.793\r\n",
      "scaffold1002\t57\t+\tATCGG\t0.000\t5.00\t0\t5\t8\t8\t-0.000\t0.434\r\n",
      "\r\n",
      "==> /Volumes/caviar/wd/2016-11-14c/methratio_out_4_TGACCA_CG.txt <==\r\n",
      "scaffold1002\t53\t+\tTTCGA\t0.000\t2.00\t0\t2\t3\t3\t0.000\t0.658\r\n",
      "scaffold1002\t57\t+\tATCGG\t0.000\t9.00\t0\t9\t12\t12\t0.000\t0.299\r\n",
      "scaffold1002\t79\t+\tCTCGC\t0.155\t12.92\t2\t14\t12\t13\t0.044\t0.424\r\n",
      "\r\n",
      "==> /Volumes/caviar/wd/2016-11-14c/methratio_out_5_ACAGTG_CG.txt <==\r\n",
      "scaffold1002\t53\t+\tTTCGA\t0.000\t4.00\t0\t4\t4\t4\t0.000\t0.490\r\n",
      "scaffold1002\t57\t+\tATCGG\t0.000\t7.00\t0\t7\t9\t9\t0.000\t0.354\r\n",
      "scaffold1002\t79\t+\tCTCGC\t0.412\t17.00\t7\t17\t17\t17\t0.216\t0.640\r\n",
      "\r\n",
      "==> /Volumes/caviar/wd/2016-11-14c/methratio_out_6_GCCAAT_CG.txt <==\r\n",
      "scaffold1002\t37\t+\tAGCGT\t0.000\t1.00\t0\t1\t0\t0\t0.000\t0.793\r\n",
      "scaffold1002\t53\t+\tTTCGA\t0.200\t5.00\t1\t5\t4\t4\t0.036\t0.624\r\n",
      "scaffold1002\t57\t+\tATCGG\t0.077\t13.00\t1\t13\t13\t13\t0.014\t0.333\r\n",
      "\r\n",
      "==> /Volumes/caviar/wd/2016-11-14c/methratio_out_7_CAGATC_CG.txt <==\r\n",
      "scaffold1002\t37\t+\tAGCGT\t0.000\t1.00\t0\t2\t1\t2\t0.000\t0.793\r\n",
      "scaffold1002\t53\t+\tTTCGA\t0.500\t4.00\t2\t4\t4\t4\t0.150\t0.850\r\n",
      "scaffold1002\t57\t+\tATCGG\t0.250\t8.00\t2\t8\t9\t9\t0.071\t0.591\r\n",
      "\r\n",
      "==> /Volumes/caviar/wd/2016-11-14c/methratio_out_8_ACTTGA_CG.txt <==\r\n",
      "scaffold1002\t25\t+\tTACGA\t0.000\t1.00\t0\t1\t0\t0\t0.000\t0.793\r\n",
      "scaffold1002\t37\t+\tAGCGT\tNA\t0.00\t0\t1\t0\t2\tNA\tNA\r\n",
      "scaffold1002\t53\t+\tTTCGA\t0.143\t7.00\t1\t7\t8\t8\t0.026\t0.513\r\n"
     ]
    }
   ],
   "source": [
    "!head -3 /Volumes/caviar/wd/2016-11-14c/*_CG.txt"
   ]
  },
  {
   "cell_type": "code",
   "execution_count": 29,
   "metadata": {
    "collapsed": false
   },
   "outputs": [
    {
     "name": "stdout",
     "output_type": "stream",
     "text": [
      "==> /Volumes/caviar/wd/2016-11-14c/mr3x.1_ATCACG.txt <==\r\n",
      "scaffold1002 57 + ATCGG 0.000 2.67 0 3 8 9 0.000 0.590\r\n",
      "scaffold1002 79 + CTCGC 0.333 12.00 4 12 12 12 0.138 0.609\r\n",
      "scaffold1002 104 + AGCGA 0.278 14.40 4 18 12 15 0.114 0.535\r\n",
      "\r\n",
      "==> /Volumes/caviar/wd/2016-11-14c/mr3x.2_CGATGT.txt <==\r\n",
      "scaffold1002 53 + TTCGA 0.333 3.00 1 3 6 6 0.061 0.792\r\n",
      "scaffold1002 57 + ATCGG 0.000 5.73 0 7 9 11 0.000 0.401\r\n",
      "scaffold1002 79 + CTCGC 0.429 14.00 6 14 11 11 0.214 0.674\r\n",
      "\r\n",
      "==> /Volumes/caviar/wd/2016-11-14c/mr3x.3_TTAGGC.txt <==\r\n",
      "scaffold1002 57 + ATCGG 0.000 5.00 0 5 8 8 -0.000 0.434\r\n",
      "scaffold1002 79 + CTCGC 0.250 12.00 3 12 11 11 0.089 0.532\r\n",
      "scaffold1002 104 + AGCGA 0.267 11.25 3 15 12 16 0.095 0.557\r\n",
      "\r\n",
      "==> /Volumes/caviar/wd/2016-11-14c/mr3x.4_TGACCA.txt <==\r\n",
      "scaffold1002 57 + ATCGG 0.000 9.00 0 9 12 12 0.000 0.299\r\n",
      "scaffold1002 79 + CTCGC 0.155 12.92 2 14 12 13 0.044 0.424\r\n",
      "scaffold1002 104 + AGCGA 0.195 10.27 2 14 11 15 0.055 0.501\r\n",
      "\r\n",
      "==> /Volumes/caviar/wd/2016-11-14c/mr3x.5_ACAGTG.txt <==\r\n",
      "scaffold1002 53 + TTCGA 0.000 4.00 0 4 4 4 0.000 0.490\r\n",
      "scaffold1002 57 + ATCGG 0.000 7.00 0 7 9 9 0.000 0.354\r\n",
      "scaffold1002 79 + CTCGC 0.412 17.00 7 17 17 17 0.216 0.640\r\n",
      "\r\n",
      "==> /Volumes/caviar/wd/2016-11-14c/mr3x.6_GCCAAT.txt <==\r\n",
      "scaffold1002 53 + TTCGA 0.200 5.00 1 5 4 4 0.036 0.624\r\n",
      "scaffold1002 57 + ATCGG 0.077 13.00 1 13 13 13 0.014 0.333\r\n",
      "scaffold1002 79 + CTCGC 0.286 14.00 4 15 14 15 0.117 0.546\r\n",
      "\r\n",
      "==> /Volumes/caviar/wd/2016-11-14c/mr3x.7_CAGATC.txt <==\r\n",
      "scaffold1002 53 + TTCGA 0.500 4.00 2 4 4 4 0.150 0.850\r\n",
      "scaffold1002 57 + ATCGG 0.250 8.00 2 8 9 9 0.071 0.591\r\n",
      "scaffold1002 79 + CTCGC 0.300 10.00 3 10 8 8 0.108 0.603\r\n",
      "\r\n",
      "==> /Volumes/caviar/wd/2016-11-14c/mr3x.8_ACTTGA.txt <==\r\n",
      "scaffold1002 53 + TTCGA 0.143 7.00 1 7 8 8 0.026 0.513\r\n",
      "scaffold1002 57 + ATCGG 0.067 15.00 1 15 15 15 0.012 0.298\r\n",
      "scaffold1002 79 + CTCGC 0.202 14.86 3 16 13 14 0.071 0.455\r\n"
     ]
    }
   ],
   "source": [
    "!head -3 /Volumes/caviar/wd/2016-11-14c/mr3x*"
   ]
  },
  {
   "cell_type": "code",
   "execution_count": null,
   "metadata": {
    "collapsed": true
   },
   "outputs": [],
   "source": []
  }
 ],
 "metadata": {
  "kernelspec": {
   "display_name": "Python 2",
   "language": "python",
   "name": "python2"
  },
  "language_info": {
   "codemirror_mode": {
    "name": "ipython",
    "version": 2
   },
   "file_extension": ".py",
   "mimetype": "text/x-python",
   "name": "python",
   "nbconvert_exporter": "python",
   "pygments_lexer": "ipython2",
   "version": "2.7.12"
  }
 },
 "nbformat": 4,
 "nbformat_minor": 0
}
