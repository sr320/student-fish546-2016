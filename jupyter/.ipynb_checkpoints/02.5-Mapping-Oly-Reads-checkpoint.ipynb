{
 "cells": [
  {
   "cell_type": "markdown",
   "metadata": {},
   "source": [
    "# Goal is to get Expression Track for IGV"
   ]
  },
  {
   "cell_type": "markdown",
   "metadata": {},
   "source": [
    "Oly RNA-seq data..."
   ]
  },
  {
   "cell_type": "code",
   "execution_count": 21,
   "metadata": {
    "collapsed": false
   },
   "outputs": [
    {
     "name": "stdout",
     "output_type": "stream",
     "text": [
      "\u001b[31m/Volumes/web/nightingales/O_lurida/filtered_106A_Female_Mix_GATCAG_L004_R1.fastq.gz\u001b[m\u001b[m\r\n",
      "\u001b[31m/Volumes/web/nightingales/O_lurida/filtered_106A_Male_Mix_TAGCTT_L004_R1.fastq.gz\u001b[m\u001b[m\r\n",
      "\u001b[31m/Volumes/web/nightingales/O_lurida/filtered_108A_Female_Mix_GGCTAC_L004_R1.fastq.gz\u001b[m\u001b[m\r\n",
      "\u001b[31m/Volumes/web/nightingales/O_lurida/filtered_108A_Male_Mix_AGTCAA_L004_R1.fastq.gz\u001b[m\u001b[m\r\n"
     ]
    }
   ],
   "source": [
    "!ls /Volumes/web/nightingales/O_lurida/filtered_10*ale*4_R1.fastq.gz"
   ]
  },
  {
   "cell_type": "code",
   "execution_count": 19,
   "metadata": {
    "collapsed": false
   },
   "outputs": [
    {
     "name": "stdout",
     "output_type": "stream",
     "text": [
      "\u001b[31m/Volumes/web/nightingales/O_lurida/filtered_106A_Female_Mix_GATCAG_L004_R2.fastq.gz\u001b[m\u001b[m\r\n",
      "\u001b[31m/Volumes/web/nightingales/O_lurida/filtered_106A_Male_Mix_TAGCTT_L004_R2.fastq.gz\u001b[m\u001b[m\r\n",
      "\u001b[31m/Volumes/web/nightingales/O_lurida/filtered_108A_Female_Mix_GGCTAC_L004_R2.fastq.gz\u001b[m\u001b[m\r\n",
      "\u001b[31m/Volumes/web/nightingales/O_lurida/filtered_108A_Male_Mix_AGTCAA_L004_R2.fastq.gz\u001b[m\u001b[m\r\n"
     ]
    }
   ],
   "source": [
    "!ls /Volumes/web/nightingales/O_lurida/filtered_10*R2.fastq.gz"
   ]
  },
  {
   "cell_type": "code",
   "execution_count": 6,
   "metadata": {
    "collapsed": false
   },
   "outputs": [
    {
     "data": {
      "text/plain": [
       "u'/Users/sr320/git-repos/student-fish546-2016/jupyter'"
      ]
     },
     "execution_count": 6,
     "metadata": {},
     "output_type": "execute_result"
    }
   ],
   "source": [
    "pwd"
   ]
  },
  {
   "cell_type": "code",
   "execution_count": 12,
   "metadata": {
    "collapsed": false
   },
   "outputs": [
    {
     "name": "stdout",
     "output_type": "stream",
     "text": [
      "\n",
      "[build] loading fasta file ../data/Ostrea_lurida-Scaff-10k.fa\n",
      "[build] k-mer length: 31\n",
      "[build] warning: clipped off poly-A tail (longer than 10)\n",
      "        from 27 target sequences\n",
      "[build] warning: replaced 13023956 non-ACGUT characters in the input sequence\n",
      "        with pseudorandom nucleotides\n",
      "[build] counting k-mers ... done.\n",
      "[build] building target de Bruijn graph ...  done \n",
      "[build] creating equivalence classes ...  done\n",
      "[build] target de Bruijn graph has 810822 contigs and contains 126411737 k-mers \n",
      "\n"
     ]
    }
   ],
   "source": [
    "!kallisto \\\n",
    "index -i ../data/Ostrea_lurida-Scaff-10k-index.fa \\\n",
    "../data/Ostrea_lurida-Scaff-10k.fa"
   ]
  },
  {
   "cell_type": "code",
   "execution_count": null,
   "metadata": {
    "collapsed": true
   },
   "outputs": [],
   "source": []
  }
 ],
 "metadata": {
  "kernelspec": {
   "display_name": "Python 2",
   "language": "python",
   "name": "python2"
  },
  "language_info": {
   "codemirror_mode": {
    "name": "ipython",
    "version": 2
   },
   "file_extension": ".py",
   "mimetype": "text/x-python",
   "name": "python",
   "nbconvert_exporter": "python",
   "pygments_lexer": "ipython2",
   "version": "2.7.12"
  }
 },
 "nbformat": 4,
 "nbformat_minor": 0
}
