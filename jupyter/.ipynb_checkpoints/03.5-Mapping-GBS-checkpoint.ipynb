{
 "cells": [
  {
   "cell_type": "markdown",
   "metadata": {},
   "source": [
    "# Mapping GBS with Bowtie"
   ]
  },
  {
   "cell_type": "code",
   "execution_count": 1,
   "metadata": {
    "collapsed": false
   },
   "outputs": [
    {
     "data": {
      "text/plain": [
       "u'/Users/sr320/git-repos/student-fish546-2016/jupyter'"
      ]
     },
     "execution_count": 1,
     "metadata": {},
     "output_type": "execute_result"
    }
   ],
   "source": [
    "pwd"
   ]
  },
  {
   "cell_type": "code",
   "execution_count": 5,
   "metadata": {
    "collapsed": true
   },
   "outputs": [
    {
     "name": "stdout",
     "output_type": "stream",
     "text": [
      "\u001b[31m/Volumes/web/nightingales/O_lurida/20160223_gbs/160123_I132_FCH3YHMBBXX_L4_OYSzenG1AAD96FAAPEI-109_1.fq.gz\u001b[m\u001b[m*\r\n",
      "\u001b[31m/Volumes/web/nightingales/O_lurida/20160223_gbs/160123_I132_FCH3YHMBBXX_L4_OYSzenG1AAD96FAAPEI-109_2.fq.gz\u001b[m\u001b[m*\r\n",
      "\u001b[31m/Volumes/web/nightingales/O_lurida/20160223_gbs/1HL_10A_1.fq.gz\u001b[m\u001b[m*\r\n",
      "\u001b[31m/Volumes/web/nightingales/O_lurida/20160223_gbs/1HL_10A_2.fq.gz\u001b[m\u001b[m*\r\n",
      "\u001b[31m/Volumes/web/nightingales/O_lurida/20160223_gbs/1HL_11A_1.fq.gz\u001b[m\u001b[m*\r\n",
      "\u001b[31m/Volumes/web/nightingales/O_lurida/20160223_gbs/1HL_11A_2.fq.gz\u001b[m\u001b[m*\r\n",
      "\u001b[31m/Volumes/web/nightingales/O_lurida/20160223_gbs/1HL_12A_1.fq.gz\u001b[m\u001b[m*\r\n",
      "\u001b[31m/Volumes/web/nightingales/O_lurida/20160223_gbs/1HL_12A_2.fq.gz\u001b[m\u001b[m*\r\n",
      "\u001b[31m/Volumes/web/nightingales/O_lurida/20160223_gbs/1HL_13A_1.fq.gz\u001b[m\u001b[m*\r\n",
      "\u001b[31m/Volumes/web/nightingales/O_lurida/20160223_gbs/1HL_13A_2.fq.gz\u001b[m\u001b[m*\r\n",
      "\u001b[31m/Volumes/web/nightingales/O_lurida/20160223_gbs/1HL_14A_1.fq.gz\u001b[m\u001b[m*\r\n",
      "\u001b[31m/Volumes/web/nightingales/O_lurida/20160223_gbs/1HL_14A_2.fq.gz\u001b[m\u001b[m*\r\n",
      "\u001b[31m/Volumes/web/nightingales/O_lurida/20160223_gbs/1HL_15A_1.fq.gz\u001b[m\u001b[m*\r\n",
      "\u001b[31m/Volumes/web/nightingales/O_lurida/20160223_gbs/1HL_15A_2.fq.gz\u001b[m\u001b[m*\r\n",
      "\u001b[31m/Volumes/web/nightingales/O_lurida/20160223_gbs/1HL_16A_1.fq.gz\u001b[m\u001b[m*\r\n",
      "\u001b[31m/Volumes/web/nightingales/O_lurida/20160223_gbs/1HL_16A_2.fq.gz\u001b[m\u001b[m*\r\n",
      "\u001b[31m/Volumes/web/nightingales/O_lurida/20160223_gbs/1HL_17A_1.fq.gz\u001b[m\u001b[m*\r\n",
      "\u001b[31m/Volumes/web/nightingales/O_lurida/20160223_gbs/1HL_17A_2.fq.gz\u001b[m\u001b[m*\r\n",
      "\u001b[31m/Volumes/web/nightingales/O_lurida/20160223_gbs/1HL_19A_1.fq.gz\u001b[m\u001b[m*\r\n",
      "\u001b[31m/Volumes/web/nightingales/O_lurida/20160223_gbs/1HL_19A_2.fq.gz\u001b[m\u001b[m*\r\n",
      "\u001b[31m/Volumes/web/nightingales/O_lurida/20160223_gbs/1HL_1A_1.fq.gz\u001b[m\u001b[m*\r\n",
      "\u001b[31m/Volumes/web/nightingales/O_lurida/20160223_gbs/1HL_1A_2.fq.gz\u001b[m\u001b[m*\r\n",
      "\u001b[31m/Volumes/web/nightingales/O_lurida/20160223_gbs/1HL_20A_1.fq.gz\u001b[m\u001b[m*\r\n",
      "\u001b[31m/Volumes/web/nightingales/O_lurida/20160223_gbs/1HL_20A_2.fq.gz\u001b[m\u001b[m*\r\n",
      "\u001b[31m/Volumes/web/nightingales/O_lurida/20160223_gbs/1HL_21A_1.fq.gz\u001b[m\u001b[m*\r\n",
      "\u001b[31m/Volumes/web/nightingales/O_lurida/20160223_gbs/1HL_21A_2.fq.gz\u001b[m\u001b[m*\r\n",
      "\u001b[31m/Volumes/web/nightingales/O_lurida/20160223_gbs/1HL_22A_1.fq.gz\u001b[m\u001b[m*\r\n",
      "\u001b[31m/Volumes/web/nightingales/O_lurida/20160223_gbs/1HL_22A_2.fq.gz\u001b[m\u001b[m*\r\n",
      "\u001b[31m/Volumes/web/nightingales/O_lurida/20160223_gbs/1HL_23A_1.fq.gz\u001b[m\u001b[m*\r\n",
      "\u001b[31m/Volumes/web/nightingales/O_lurida/20160223_gbs/1HL_23A_2.fq.gz\u001b[m\u001b[m*\r\n",
      "\u001b[31m/Volumes/web/nightingales/O_lurida/20160223_gbs/1HL_24A_1.fq.gz\u001b[m\u001b[m*\r\n",
      "\u001b[31m/Volumes/web/nightingales/O_lurida/20160223_gbs/1HL_24A_2.fq.gz\u001b[m\u001b[m*\r\n",
      "\u001b[31m/Volumes/web/nightingales/O_lurida/20160223_gbs/1HL_25A_1.fq.gz\u001b[m\u001b[m*\r\n",
      "\u001b[31m/Volumes/web/nightingales/O_lurida/20160223_gbs/1HL_25A_2.fq.gz\u001b[m\u001b[m*\r\n",
      "\u001b[31m/Volumes/web/nightingales/O_lurida/20160223_gbs/1HL_26A_1.fq.gz\u001b[m\u001b[m*\r\n",
      "\u001b[31m/Volumes/web/nightingales/O_lurida/20160223_gbs/1HL_26A_2.fq.gz\u001b[m\u001b[m*\r\n",
      "\u001b[31m/Volumes/web/nightingales/O_lurida/20160223_gbs/1HL_27A_1.fq.gz\u001b[m\u001b[m*\r\n",
      "\u001b[31m/Volumes/web/nightingales/O_lurida/20160223_gbs/1HL_27A_2.fq.gz\u001b[m\u001b[m*\r\n",
      "\u001b[31m/Volumes/web/nightingales/O_lurida/20160223_gbs/1HL_28A_1.fq.gz\u001b[m\u001b[m*\r\n",
      "\u001b[31m/Volumes/web/nightingales/O_lurida/20160223_gbs/1HL_28A_2.fq.gz\u001b[m\u001b[m*\r\n",
      "\u001b[31m/Volumes/web/nightingales/O_lurida/20160223_gbs/1HL_29A_1.fq.gz\u001b[m\u001b[m*\r\n",
      "\u001b[31m/Volumes/web/nightingales/O_lurida/20160223_gbs/1HL_29A_2.fq.gz\u001b[m\u001b[m*\r\n",
      "\u001b[31m/Volumes/web/nightingales/O_lurida/20160223_gbs/1HL_2A_1.fq.gz\u001b[m\u001b[m*\r\n",
      "\u001b[31m/Volumes/web/nightingales/O_lurida/20160223_gbs/1HL_2A_2.fq.gz\u001b[m\u001b[m*\r\n",
      "\u001b[31m/Volumes/web/nightingales/O_lurida/20160223_gbs/1HL_31A_1.fq.gz\u001b[m\u001b[m*\r\n",
      "\u001b[31m/Volumes/web/nightingales/O_lurida/20160223_gbs/1HL_31A_2.fq.gz\u001b[m\u001b[m*\r\n",
      "\u001b[31m/Volumes/web/nightingales/O_lurida/20160223_gbs/1HL_33A_1.fq.gz\u001b[m\u001b[m*\r\n",
      "\u001b[31m/Volumes/web/nightingales/O_lurida/20160223_gbs/1HL_33A_2.fq.gz\u001b[m\u001b[m*\r\n",
      "\u001b[31m/Volumes/web/nightingales/O_lurida/20160223_gbs/1HL_34A_1.fq.gz\u001b[m\u001b[m*\r\n",
      "\u001b[31m/Volumes/web/nightingales/O_lurida/20160223_gbs/1HL_34A_2.fq.gz\u001b[m\u001b[m*\r\n",
      "\u001b[31m/Volumes/web/nightingales/O_lurida/20160223_gbs/1HL_35A_1.fq.gz\u001b[m\u001b[m*\r\n",
      "\u001b[31m/Volumes/web/nightingales/O_lurida/20160223_gbs/1HL_35A_2.fq.gz\u001b[m\u001b[m*\r\n",
      "\u001b[31m/Volumes/web/nightingales/O_lurida/20160223_gbs/1HL_3A_1.fq.gz\u001b[m\u001b[m*\r\n",
      "\u001b[31m/Volumes/web/nightingales/O_lurida/20160223_gbs/1HL_3A_2.fq.gz\u001b[m\u001b[m*\r\n",
      "\u001b[31m/Volumes/web/nightingales/O_lurida/20160223_gbs/1HL_4A_1.fq.gz\u001b[m\u001b[m*\r\n",
      "\u001b[31m/Volumes/web/nightingales/O_lurida/20160223_gbs/1HL_4A_2.fq.gz\u001b[m\u001b[m*\r\n",
      "\u001b[31m/Volumes/web/nightingales/O_lurida/20160223_gbs/1HL_5A_1.fq.gz\u001b[m\u001b[m*\r\n",
      "\u001b[31m/Volumes/web/nightingales/O_lurida/20160223_gbs/1HL_5A_2.fq.gz\u001b[m\u001b[m*\r\n",
      "\u001b[31m/Volumes/web/nightingales/O_lurida/20160223_gbs/1HL_6A_1.fq.gz\u001b[m\u001b[m*\r\n",
      "\u001b[31m/Volumes/web/nightingales/O_lurida/20160223_gbs/1HL_6A_2.fq.gz\u001b[m\u001b[m*\r\n",
      "\u001b[31m/Volumes/web/nightingales/O_lurida/20160223_gbs/1HL_7A_1.fq.gz\u001b[m\u001b[m*\r\n",
      "\u001b[31m/Volumes/web/nightingales/O_lurida/20160223_gbs/1HL_7A_2.fq.gz\u001b[m\u001b[m*\r\n",
      "\u001b[31m/Volumes/web/nightingales/O_lurida/20160223_gbs/1HL_8A_1.fq.gz\u001b[m\u001b[m*\r\n",
      "\u001b[31m/Volumes/web/nightingales/O_lurida/20160223_gbs/1HL_8A_2.fq.gz\u001b[m\u001b[m*\r\n",
      "\u001b[31m/Volumes/web/nightingales/O_lurida/20160223_gbs/1HL_9A_1.fq.gz\u001b[m\u001b[m*\r\n",
      "\u001b[31m/Volumes/web/nightingales/O_lurida/20160223_gbs/1HL_9A_2.fq.gz\u001b[m\u001b[m*\r\n",
      "\u001b[31m/Volumes/web/nightingales/O_lurida/20160223_gbs/1NF_10A_1.fq.gz\u001b[m\u001b[m*\r\n",
      "\u001b[31m/Volumes/web/nightingales/O_lurida/20160223_gbs/1NF_10A_2.fq.gz\u001b[m\u001b[m*\r\n",
      "\u001b[31m/Volumes/web/nightingales/O_lurida/20160223_gbs/1NF_11A_1.fq.gz\u001b[m\u001b[m*\r\n",
      "\u001b[31m/Volumes/web/nightingales/O_lurida/20160223_gbs/1NF_11A_2.fq.gz\u001b[m\u001b[m*\r\n",
      "\u001b[31m/Volumes/web/nightingales/O_lurida/20160223_gbs/1NF_12A_1.fq.gz\u001b[m\u001b[m*\r\n",
      "\u001b[31m/Volumes/web/nightingales/O_lurida/20160223_gbs/1NF_12A_2.fq.gz\u001b[m\u001b[m*\r\n",
      "\u001b[31m/Volumes/web/nightingales/O_lurida/20160223_gbs/1NF_13A_1.fq.gz\u001b[m\u001b[m*\r\n",
      "\u001b[31m/Volumes/web/nightingales/O_lurida/20160223_gbs/1NF_13A_2.fq.gz\u001b[m\u001b[m*\r\n",
      "\u001b[31m/Volumes/web/nightingales/O_lurida/20160223_gbs/1NF_14A_1.fq.gz\u001b[m\u001b[m*\r\n",
      "\u001b[31m/Volumes/web/nightingales/O_lurida/20160223_gbs/1NF_14A_2.fq.gz\u001b[m\u001b[m*\r\n",
      "\u001b[31m/Volumes/web/nightingales/O_lurida/20160223_gbs/1NF_15A_1.fq.gz\u001b[m\u001b[m*\r\n",
      "\u001b[31m/Volumes/web/nightingales/O_lurida/20160223_gbs/1NF_15A_2.fq.gz\u001b[m\u001b[m*\r\n",
      "\u001b[31m/Volumes/web/nightingales/O_lurida/20160223_gbs/1NF_16A_1.fq.gz\u001b[m\u001b[m*\r\n",
      "\u001b[31m/Volumes/web/nightingales/O_lurida/20160223_gbs/1NF_16A_2.fq.gz\u001b[m\u001b[m*\r\n",
      "\u001b[31m/Volumes/web/nightingales/O_lurida/20160223_gbs/1NF_17A_1.fq.gz\u001b[m\u001b[m*\r\n",
      "\u001b[31m/Volumes/web/nightingales/O_lurida/20160223_gbs/1NF_17A_2.fq.gz\u001b[m\u001b[m*\r\n",
      "\u001b[31m/Volumes/web/nightingales/O_lurida/20160223_gbs/1NF_18A_1.fq.gz\u001b[m\u001b[m*\r\n",
      "\u001b[31m/Volumes/web/nightingales/O_lurida/20160223_gbs/1NF_18A_2.fq.gz\u001b[m\u001b[m*\r\n",
      "\u001b[31m/Volumes/web/nightingales/O_lurida/20160223_gbs/1NF_19A_1.fq.gz\u001b[m\u001b[m*\r\n",
      "\u001b[31m/Volumes/web/nightingales/O_lurida/20160223_gbs/1NF_19A_2.fq.gz\u001b[m\u001b[m*\r\n",
      "\u001b[31m/Volumes/web/nightingales/O_lurida/20160223_gbs/1NF_1A_1.fq.gz\u001b[m\u001b[m*\r\n",
      "\u001b[31m/Volumes/web/nightingales/O_lurida/20160223_gbs/1NF_1A_2.fq.gz\u001b[m\u001b[m*\r\n",
      "\u001b[31m/Volumes/web/nightingales/O_lurida/20160223_gbs/1NF_20A_1.fq.gz\u001b[m\u001b[m*\r\n",
      "\u001b[31m/Volumes/web/nightingales/O_lurida/20160223_gbs/1NF_20A_2.fq.gz\u001b[m\u001b[m*\r\n",
      "\u001b[31m/Volumes/web/nightingales/O_lurida/20160223_gbs/1NF_21A_1.fq.gz\u001b[m\u001b[m*\r\n",
      "\u001b[31m/Volumes/web/nightingales/O_lurida/20160223_gbs/1NF_21A_2.fq.gz\u001b[m\u001b[m*\r\n",
      "\u001b[31m/Volumes/web/nightingales/O_lurida/20160223_gbs/1NF_22A_1.fq.gz\u001b[m\u001b[m*\r\n",
      "\u001b[31m/Volumes/web/nightingales/O_lurida/20160223_gbs/1NF_22A_2.fq.gz\u001b[m\u001b[m*\r\n",
      "\u001b[31m/Volumes/web/nightingales/O_lurida/20160223_gbs/1NF_23A_1.fq.gz\u001b[m\u001b[m*\r\n",
      "\u001b[31m/Volumes/web/nightingales/O_lurida/20160223_gbs/1NF_23A_2.fq.gz\u001b[m\u001b[m*\r\n",
      "\u001b[31m/Volumes/web/nightingales/O_lurida/20160223_gbs/1NF_24A_1.fq.gz\u001b[m\u001b[m*\r\n",
      "\u001b[31m/Volumes/web/nightingales/O_lurida/20160223_gbs/1NF_24A_2.fq.gz\u001b[m\u001b[m*\r\n",
      "\u001b[31m/Volumes/web/nightingales/O_lurida/20160223_gbs/1NF_25A_1.fq.gz\u001b[m\u001b[m*\r\n",
      "\u001b[31m/Volumes/web/nightingales/O_lurida/20160223_gbs/1NF_25A_2.fq.gz\u001b[m\u001b[m*\r\n",
      "\u001b[31m/Volumes/web/nightingales/O_lurida/20160223_gbs/1NF_26A_1.fq.gz\u001b[m\u001b[m*\r\n",
      "\u001b[31m/Volumes/web/nightingales/O_lurida/20160223_gbs/1NF_26A_2.fq.gz\u001b[m\u001b[m*\r\n",
      "\u001b[31m/Volumes/web/nightingales/O_lurida/20160223_gbs/1NF_27A_1.fq.gz\u001b[m\u001b[m*\r\n",
      "\u001b[31m/Volumes/web/nightingales/O_lurida/20160223_gbs/1NF_27A_2.fq.gz\u001b[m\u001b[m*\r\n",
      "\u001b[31m/Volumes/web/nightingales/O_lurida/20160223_gbs/1NF_28A_1.fq.gz\u001b[m\u001b[m*\r\n",
      "\u001b[31m/Volumes/web/nightingales/O_lurida/20160223_gbs/1NF_28A_2.fq.gz\u001b[m\u001b[m*\r\n",
      "\u001b[31m/Volumes/web/nightingales/O_lurida/20160223_gbs/1NF_29A_1.fq.gz\u001b[m\u001b[m*\r\n",
      "\u001b[31m/Volumes/web/nightingales/O_lurida/20160223_gbs/1NF_29A_2.fq.gz\u001b[m\u001b[m*\r\n",
      "\u001b[31m/Volumes/web/nightingales/O_lurida/20160223_gbs/1NF_2A_1.fq.gz\u001b[m\u001b[m*\r\n",
      "\u001b[31m/Volumes/web/nightingales/O_lurida/20160223_gbs/1NF_2A_2.fq.gz\u001b[m\u001b[m*\r\n",
      "\u001b[31m/Volumes/web/nightingales/O_lurida/20160223_gbs/1NF_30A_1.fq.gz\u001b[m\u001b[m*\r\n",
      "\u001b[31m/Volumes/web/nightingales/O_lurida/20160223_gbs/1NF_30A_2.fq.gz\u001b[m\u001b[m*\r\n",
      "\u001b[31m/Volumes/web/nightingales/O_lurida/20160223_gbs/1NF_31A_1.fq.gz\u001b[m\u001b[m*\r\n",
      "\u001b[31m/Volumes/web/nightingales/O_lurida/20160223_gbs/1NF_31A_2.fq.gz\u001b[m\u001b[m*\r\n",
      "\u001b[31m/Volumes/web/nightingales/O_lurida/20160223_gbs/1NF_32A_1.fq.gz\u001b[m\u001b[m*\r\n",
      "\u001b[31m/Volumes/web/nightingales/O_lurida/20160223_gbs/1NF_32A_2.fq.gz\u001b[m\u001b[m*\r\n",
      "\u001b[31m/Volumes/web/nightingales/O_lurida/20160223_gbs/1NF_33A_1.fq.gz\u001b[m\u001b[m*\r\n",
      "\u001b[31m/Volumes/web/nightingales/O_lurida/20160223_gbs/1NF_33A_2.fq.gz\u001b[m\u001b[m*\r\n",
      "\u001b[31m/Volumes/web/nightingales/O_lurida/20160223_gbs/1NF_4A_1.fq.gz\u001b[m\u001b[m*\r\n",
      "\u001b[31m/Volumes/web/nightingales/O_lurida/20160223_gbs/1NF_4A_2.fq.gz\u001b[m\u001b[m*\r\n",
      "\u001b[31m/Volumes/web/nightingales/O_lurida/20160223_gbs/1NF_5A_1.fq.gz\u001b[m\u001b[m*\r\n",
      "\u001b[31m/Volumes/web/nightingales/O_lurida/20160223_gbs/1NF_5A_2.fq.gz\u001b[m\u001b[m*\r\n",
      "\u001b[31m/Volumes/web/nightingales/O_lurida/20160223_gbs/1NF_6A_1.fq.gz\u001b[m\u001b[m*\r\n",
      "\u001b[31m/Volumes/web/nightingales/O_lurida/20160223_gbs/1NF_6A_2.fq.gz\u001b[m\u001b[m*\r\n",
      "\u001b[31m/Volumes/web/nightingales/O_lurida/20160223_gbs/1NF_7A_1.fq.gz\u001b[m\u001b[m*\r\n",
      "\u001b[31m/Volumes/web/nightingales/O_lurida/20160223_gbs/1NF_7A_2.fq.gz\u001b[m\u001b[m*\r\n",
      "\u001b[31m/Volumes/web/nightingales/O_lurida/20160223_gbs/1NF_8A_1.fq.gz\u001b[m\u001b[m*\r\n",
      "\u001b[31m/Volumes/web/nightingales/O_lurida/20160223_gbs/1NF_8A_2.fq.gz\u001b[m\u001b[m*\r\n",
      "\u001b[31m/Volumes/web/nightingales/O_lurida/20160223_gbs/1NF_9A_1.fq.gz\u001b[m\u001b[m*\r\n",
      "\u001b[31m/Volumes/web/nightingales/O_lurida/20160223_gbs/1NF_9A_2.fq.gz\u001b[m\u001b[m*\r\n",
      "\u001b[31m/Volumes/web/nightingales/O_lurida/20160223_gbs/1SN_10A_1.fq.gz\u001b[m\u001b[m*\r\n",
      "\u001b[31m/Volumes/web/nightingales/O_lurida/20160223_gbs/1SN_10A_2.fq.gz\u001b[m\u001b[m*\r\n",
      "\u001b[31m/Volumes/web/nightingales/O_lurida/20160223_gbs/1SN_11A_1.fq.gz\u001b[m\u001b[m*\r\n",
      "\u001b[31m/Volumes/web/nightingales/O_lurida/20160223_gbs/1SN_11A_2.fq.gz\u001b[m\u001b[m*\r\n",
      "\u001b[31m/Volumes/web/nightingales/O_lurida/20160223_gbs/1SN_12A_1.fq.gz\u001b[m\u001b[m*\r\n",
      "\u001b[31m/Volumes/web/nightingales/O_lurida/20160223_gbs/1SN_12A_2.fq.gz\u001b[m\u001b[m*\r\n",
      "\u001b[31m/Volumes/web/nightingales/O_lurida/20160223_gbs/1SN_13A_1.fq.gz\u001b[m\u001b[m*\r\n",
      "\u001b[31m/Volumes/web/nightingales/O_lurida/20160223_gbs/1SN_13A_2.fq.gz\u001b[m\u001b[m*\r\n",
      "\u001b[31m/Volumes/web/nightingales/O_lurida/20160223_gbs/1SN_14A_1.fq.gz\u001b[m\u001b[m*\r\n",
      "\u001b[31m/Volumes/web/nightingales/O_lurida/20160223_gbs/1SN_14A_2.fq.gz\u001b[m\u001b[m*\r\n",
      "\u001b[31m/Volumes/web/nightingales/O_lurida/20160223_gbs/1SN_15A_1.fq.gz\u001b[m\u001b[m*\r\n",
      "\u001b[31m/Volumes/web/nightingales/O_lurida/20160223_gbs/1SN_15A_2.fq.gz\u001b[m\u001b[m*\r\n",
      "\u001b[31m/Volumes/web/nightingales/O_lurida/20160223_gbs/1SN_16A_1.fq.gz\u001b[m\u001b[m*\r\n",
      "\u001b[31m/Volumes/web/nightingales/O_lurida/20160223_gbs/1SN_16A_2.fq.gz\u001b[m\u001b[m*\r\n",
      "\u001b[31m/Volumes/web/nightingales/O_lurida/20160223_gbs/1SN_17A_1.fq.gz\u001b[m\u001b[m*\r\n",
      "\u001b[31m/Volumes/web/nightingales/O_lurida/20160223_gbs/1SN_17A_2.fq.gz\u001b[m\u001b[m*\r\n",
      "\u001b[31m/Volumes/web/nightingales/O_lurida/20160223_gbs/1SN_18A_1.fq.gz\u001b[m\u001b[m*\r\n",
      "\u001b[31m/Volumes/web/nightingales/O_lurida/20160223_gbs/1SN_18A_2.fq.gz\u001b[m\u001b[m*\r\n",
      "\u001b[31m/Volumes/web/nightingales/O_lurida/20160223_gbs/1SN_19A_1.fq.gz\u001b[m\u001b[m*\r\n",
      "\u001b[31m/Volumes/web/nightingales/O_lurida/20160223_gbs/1SN_19A_2.fq.gz\u001b[m\u001b[m*\r\n",
      "\u001b[31m/Volumes/web/nightingales/O_lurida/20160223_gbs/1SN_1A_1.fq.gz\u001b[m\u001b[m*\r\n",
      "\u001b[31m/Volumes/web/nightingales/O_lurida/20160223_gbs/1SN_1A_2.fq.gz\u001b[m\u001b[m*\r\n",
      "\u001b[31m/Volumes/web/nightingales/O_lurida/20160223_gbs/1SN_20A_1.fq.gz\u001b[m\u001b[m*\r\n",
      "\u001b[31m/Volumes/web/nightingales/O_lurida/20160223_gbs/1SN_20A_2.fq.gz\u001b[m\u001b[m*\r\n",
      "\u001b[31m/Volumes/web/nightingales/O_lurida/20160223_gbs/1SN_21A_1.fq.gz\u001b[m\u001b[m*\r\n",
      "\u001b[31m/Volumes/web/nightingales/O_lurida/20160223_gbs/1SN_21A_2.fq.gz\u001b[m\u001b[m*\r\n",
      "\u001b[31m/Volumes/web/nightingales/O_lurida/20160223_gbs/1SN_22A_1.fq.gz\u001b[m\u001b[m*\r\n",
      "\u001b[31m/Volumes/web/nightingales/O_lurida/20160223_gbs/1SN_22A_2.fq.gz\u001b[m\u001b[m*\r\n",
      "\u001b[31m/Volumes/web/nightingales/O_lurida/20160223_gbs/1SN_23A_1.fq.gz\u001b[m\u001b[m*\r\n",
      "\u001b[31m/Volumes/web/nightingales/O_lurida/20160223_gbs/1SN_23A_2.fq.gz\u001b[m\u001b[m*\r\n",
      "\u001b[31m/Volumes/web/nightingales/O_lurida/20160223_gbs/1SN_24A_1.fq.gz\u001b[m\u001b[m*\r\n",
      "\u001b[31m/Volumes/web/nightingales/O_lurida/20160223_gbs/1SN_24A_2.fq.gz\u001b[m\u001b[m*\r\n",
      "\u001b[31m/Volumes/web/nightingales/O_lurida/20160223_gbs/1SN_25A_1.fq.gz\u001b[m\u001b[m*\r\n",
      "\u001b[31m/Volumes/web/nightingales/O_lurida/20160223_gbs/1SN_25A_2.fq.gz\u001b[m\u001b[m*\r\n",
      "\u001b[31m/Volumes/web/nightingales/O_lurida/20160223_gbs/1SN_26A_1.fq.gz\u001b[m\u001b[m*\r\n",
      "\u001b[31m/Volumes/web/nightingales/O_lurida/20160223_gbs/1SN_26A_2.fq.gz\u001b[m\u001b[m*\r\n",
      "\u001b[31m/Volumes/web/nightingales/O_lurida/20160223_gbs/1SN_27A_1.fq.gz\u001b[m\u001b[m*\r\n",
      "\u001b[31m/Volumes/web/nightingales/O_lurida/20160223_gbs/1SN_27A_2.fq.gz\u001b[m\u001b[m*\r\n",
      "\u001b[31m/Volumes/web/nightingales/O_lurida/20160223_gbs/1SN_28A_1.fq.gz\u001b[m\u001b[m*\r\n",
      "\u001b[31m/Volumes/web/nightingales/O_lurida/20160223_gbs/1SN_28A_2.fq.gz\u001b[m\u001b[m*\r\n",
      "\u001b[31m/Volumes/web/nightingales/O_lurida/20160223_gbs/1SN_29A_1.fq.gz\u001b[m\u001b[m*\r\n",
      "\u001b[31m/Volumes/web/nightingales/O_lurida/20160223_gbs/1SN_29A_2.fq.gz\u001b[m\u001b[m*\r\n",
      "\u001b[31m/Volumes/web/nightingales/O_lurida/20160223_gbs/1SN_2A_1.fq.gz\u001b[m\u001b[m*\r\n",
      "\u001b[31m/Volumes/web/nightingales/O_lurida/20160223_gbs/1SN_2A_2.fq.gz\u001b[m\u001b[m*\r\n",
      "\u001b[31m/Volumes/web/nightingales/O_lurida/20160223_gbs/1SN_30A_1.fq.gz\u001b[m\u001b[m*\r\n",
      "\u001b[31m/Volumes/web/nightingales/O_lurida/20160223_gbs/1SN_30A_2.fq.gz\u001b[m\u001b[m*\r\n",
      "\u001b[31m/Volumes/web/nightingales/O_lurida/20160223_gbs/1SN_31A_1.fq.gz\u001b[m\u001b[m*\r\n",
      "\u001b[31m/Volumes/web/nightingales/O_lurida/20160223_gbs/1SN_31A_2.fq.gz\u001b[m\u001b[m*\r\n",
      "\u001b[31m/Volumes/web/nightingales/O_lurida/20160223_gbs/1SN_32A_1.fq.gz\u001b[m\u001b[m*\r\n",
      "\u001b[31m/Volumes/web/nightingales/O_lurida/20160223_gbs/1SN_32A_2.fq.gz\u001b[m\u001b[m*\r\n",
      "\u001b[31m/Volumes/web/nightingales/O_lurida/20160223_gbs/1SN_3A_1.fq.gz\u001b[m\u001b[m*\r\n",
      "\u001b[31m/Volumes/web/nightingales/O_lurida/20160223_gbs/1SN_3A_2.fq.gz\u001b[m\u001b[m*\r\n",
      "\u001b[31m/Volumes/web/nightingales/O_lurida/20160223_gbs/1SN_4A_1.fq.gz\u001b[m\u001b[m*\r\n",
      "\u001b[31m/Volumes/web/nightingales/O_lurida/20160223_gbs/1SN_4A_2.fq.gz\u001b[m\u001b[m*\r\n",
      "\u001b[31m/Volumes/web/nightingales/O_lurida/20160223_gbs/1SN_5A_1.fq.gz\u001b[m\u001b[m*\r\n",
      "\u001b[31m/Volumes/web/nightingales/O_lurida/20160223_gbs/1SN_5A_2.fq.gz\u001b[m\u001b[m*\r\n",
      "\u001b[31m/Volumes/web/nightingales/O_lurida/20160223_gbs/1SN_6A_1.fq.gz\u001b[m\u001b[m*\r\n",
      "\u001b[31m/Volumes/web/nightingales/O_lurida/20160223_gbs/1SN_6A_2.fq.gz\u001b[m\u001b[m*\r\n",
      "\u001b[31m/Volumes/web/nightingales/O_lurida/20160223_gbs/1SN_7A_1.fq.gz\u001b[m\u001b[m*\r\n",
      "\u001b[31m/Volumes/web/nightingales/O_lurida/20160223_gbs/1SN_7A_2.fq.gz\u001b[m\u001b[m*\r\n",
      "\u001b[31m/Volumes/web/nightingales/O_lurida/20160223_gbs/1SN_8A_1.fq.gz\u001b[m\u001b[m*\r\n",
      "\u001b[31m/Volumes/web/nightingales/O_lurida/20160223_gbs/1SN_8A_2.fq.gz\u001b[m\u001b[m*\r\n",
      "\u001b[31m/Volumes/web/nightingales/O_lurida/20160223_gbs/1SN_9A_1.fq.gz\u001b[m\u001b[m*\r\n",
      "\u001b[31m/Volumes/web/nightingales/O_lurida/20160223_gbs/1SN_9A_2.fq.gz\u001b[m\u001b[m*\r\n",
      "\u001b[31m/Volumes/web/nightingales/O_lurida/20160223_gbs/UnKnow_1.fq.gz\u001b[m\u001b[m*\r\n",
      "\u001b[31m/Volumes/web/nightingales/O_lurida/20160223_gbs/UnKnow_2.fq.gz\u001b[m\u001b[m*\r\n",
      "\u001b[31m/Volumes/web/nightingales/O_lurida/20160223_gbs/Upload.tar.gz\u001b[m\u001b[m*\r\n"
     ]
    }
   ],
   "source": [
    "ls /Volumes/web/nightingales/O_lurida/20160223_gbs/*.gz"
   ]
  },
  {
   "cell_type": "code",
   "execution_count": 4,
   "metadata": {
    "collapsed": true
   },
   "outputs": [
    {
     "name": "stdout",
     "output_type": "stream",
     "text": [
      "\u001b[31m/Volumes/web/nightingales/O_lurida/20160223_gbs/1NF_10A_1.fq.gz\u001b[m\u001b[m*\r\n",
      "\u001b[31m/Volumes/web/nightingales/O_lurida/20160223_gbs/1NF_10A_2.fq.gz\u001b[m\u001b[m*\r\n",
      "\u001b[31m/Volumes/web/nightingales/O_lurida/20160223_gbs/1NF_11A_1.fq.gz\u001b[m\u001b[m*\r\n",
      "\u001b[31m/Volumes/web/nightingales/O_lurida/20160223_gbs/1NF_11A_2.fq.gz\u001b[m\u001b[m*\r\n",
      "\u001b[31m/Volumes/web/nightingales/O_lurida/20160223_gbs/1NF_12A_1.fq.gz\u001b[m\u001b[m*\r\n",
      "\u001b[31m/Volumes/web/nightingales/O_lurida/20160223_gbs/1NF_12A_2.fq.gz\u001b[m\u001b[m*\r\n",
      "\u001b[31m/Volumes/web/nightingales/O_lurida/20160223_gbs/1NF_13A_1.fq.gz\u001b[m\u001b[m*\r\n",
      "\u001b[31m/Volumes/web/nightingales/O_lurida/20160223_gbs/1NF_13A_2.fq.gz\u001b[m\u001b[m*\r\n",
      "\u001b[31m/Volumes/web/nightingales/O_lurida/20160223_gbs/1NF_14A_1.fq.gz\u001b[m\u001b[m*\r\n",
      "\u001b[31m/Volumes/web/nightingales/O_lurida/20160223_gbs/1NF_14A_2.fq.gz\u001b[m\u001b[m*\r\n",
      "\u001b[31m/Volumes/web/nightingales/O_lurida/20160223_gbs/1NF_15A_1.fq.gz\u001b[m\u001b[m*\r\n",
      "\u001b[31m/Volumes/web/nightingales/O_lurida/20160223_gbs/1NF_15A_2.fq.gz\u001b[m\u001b[m*\r\n",
      "\u001b[31m/Volumes/web/nightingales/O_lurida/20160223_gbs/1NF_16A_1.fq.gz\u001b[m\u001b[m*\r\n",
      "\u001b[31m/Volumes/web/nightingales/O_lurida/20160223_gbs/1NF_16A_2.fq.gz\u001b[m\u001b[m*\r\n",
      "\u001b[31m/Volumes/web/nightingales/O_lurida/20160223_gbs/1NF_17A_1.fq.gz\u001b[m\u001b[m*\r\n",
      "\u001b[31m/Volumes/web/nightingales/O_lurida/20160223_gbs/1NF_17A_2.fq.gz\u001b[m\u001b[m*\r\n",
      "\u001b[31m/Volumes/web/nightingales/O_lurida/20160223_gbs/1NF_18A_1.fq.gz\u001b[m\u001b[m*\r\n",
      "\u001b[31m/Volumes/web/nightingales/O_lurida/20160223_gbs/1NF_18A_2.fq.gz\u001b[m\u001b[m*\r\n",
      "\u001b[31m/Volumes/web/nightingales/O_lurida/20160223_gbs/1NF_19A_1.fq.gz\u001b[m\u001b[m*\r\n",
      "\u001b[31m/Volumes/web/nightingales/O_lurida/20160223_gbs/1NF_19A_2.fq.gz\u001b[m\u001b[m*\r\n",
      "\u001b[31m/Volumes/web/nightingales/O_lurida/20160223_gbs/1NF_1A_1.fq.gz\u001b[m\u001b[m*\r\n",
      "\u001b[31m/Volumes/web/nightingales/O_lurida/20160223_gbs/1NF_1A_2.fq.gz\u001b[m\u001b[m*\r\n",
      "\u001b[31m/Volumes/web/nightingales/O_lurida/20160223_gbs/1NF_20A_1.fq.gz\u001b[m\u001b[m*\r\n",
      "\u001b[31m/Volumes/web/nightingales/O_lurida/20160223_gbs/1NF_20A_2.fq.gz\u001b[m\u001b[m*\r\n",
      "\u001b[31m/Volumes/web/nightingales/O_lurida/20160223_gbs/1NF_21A_1.fq.gz\u001b[m\u001b[m*\r\n",
      "\u001b[31m/Volumes/web/nightingales/O_lurida/20160223_gbs/1NF_21A_2.fq.gz\u001b[m\u001b[m*\r\n",
      "\u001b[31m/Volumes/web/nightingales/O_lurida/20160223_gbs/1NF_22A_1.fq.gz\u001b[m\u001b[m*\r\n",
      "\u001b[31m/Volumes/web/nightingales/O_lurida/20160223_gbs/1NF_22A_2.fq.gz\u001b[m\u001b[m*\r\n",
      "\u001b[31m/Volumes/web/nightingales/O_lurida/20160223_gbs/1NF_23A_1.fq.gz\u001b[m\u001b[m*\r\n",
      "\u001b[31m/Volumes/web/nightingales/O_lurida/20160223_gbs/1NF_23A_2.fq.gz\u001b[m\u001b[m*\r\n",
      "\u001b[31m/Volumes/web/nightingales/O_lurida/20160223_gbs/1NF_24A_1.fq.gz\u001b[m\u001b[m*\r\n",
      "\u001b[31m/Volumes/web/nightingales/O_lurida/20160223_gbs/1NF_24A_2.fq.gz\u001b[m\u001b[m*\r\n",
      "\u001b[31m/Volumes/web/nightingales/O_lurida/20160223_gbs/1NF_25A_1.fq.gz\u001b[m\u001b[m*\r\n",
      "\u001b[31m/Volumes/web/nightingales/O_lurida/20160223_gbs/1NF_25A_2.fq.gz\u001b[m\u001b[m*\r\n",
      "\u001b[31m/Volumes/web/nightingales/O_lurida/20160223_gbs/1NF_26A_1.fq.gz\u001b[m\u001b[m*\r\n",
      "\u001b[31m/Volumes/web/nightingales/O_lurida/20160223_gbs/1NF_26A_2.fq.gz\u001b[m\u001b[m*\r\n",
      "\u001b[31m/Volumes/web/nightingales/O_lurida/20160223_gbs/1NF_27A_1.fq.gz\u001b[m\u001b[m*\r\n",
      "\u001b[31m/Volumes/web/nightingales/O_lurida/20160223_gbs/1NF_27A_2.fq.gz\u001b[m\u001b[m*\r\n",
      "\u001b[31m/Volumes/web/nightingales/O_lurida/20160223_gbs/1NF_28A_1.fq.gz\u001b[m\u001b[m*\r\n",
      "\u001b[31m/Volumes/web/nightingales/O_lurida/20160223_gbs/1NF_28A_2.fq.gz\u001b[m\u001b[m*\r\n",
      "\u001b[31m/Volumes/web/nightingales/O_lurida/20160223_gbs/1NF_29A_1.fq.gz\u001b[m\u001b[m*\r\n",
      "\u001b[31m/Volumes/web/nightingales/O_lurida/20160223_gbs/1NF_29A_2.fq.gz\u001b[m\u001b[m*\r\n",
      "\u001b[31m/Volumes/web/nightingales/O_lurida/20160223_gbs/1NF_2A_1.fq.gz\u001b[m\u001b[m*\r\n",
      "\u001b[31m/Volumes/web/nightingales/O_lurida/20160223_gbs/1NF_2A_2.fq.gz\u001b[m\u001b[m*\r\n",
      "\u001b[31m/Volumes/web/nightingales/O_lurida/20160223_gbs/1NF_30A_1.fq.gz\u001b[m\u001b[m*\r\n",
      "\u001b[31m/Volumes/web/nightingales/O_lurida/20160223_gbs/1NF_30A_2.fq.gz\u001b[m\u001b[m*\r\n",
      "\u001b[31m/Volumes/web/nightingales/O_lurida/20160223_gbs/1NF_31A_1.fq.gz\u001b[m\u001b[m*\r\n",
      "\u001b[31m/Volumes/web/nightingales/O_lurida/20160223_gbs/1NF_31A_2.fq.gz\u001b[m\u001b[m*\r\n",
      "\u001b[31m/Volumes/web/nightingales/O_lurida/20160223_gbs/1NF_32A_1.fq.gz\u001b[m\u001b[m*\r\n",
      "\u001b[31m/Volumes/web/nightingales/O_lurida/20160223_gbs/1NF_32A_2.fq.gz\u001b[m\u001b[m*\r\n",
      "\u001b[31m/Volumes/web/nightingales/O_lurida/20160223_gbs/1NF_33A_1.fq.gz\u001b[m\u001b[m*\r\n",
      "\u001b[31m/Volumes/web/nightingales/O_lurida/20160223_gbs/1NF_33A_2.fq.gz\u001b[m\u001b[m*\r\n",
      "\u001b[31m/Volumes/web/nightingales/O_lurida/20160223_gbs/1NF_4A_1.fq.gz\u001b[m\u001b[m*\r\n",
      "\u001b[31m/Volumes/web/nightingales/O_lurida/20160223_gbs/1NF_4A_2.fq.gz\u001b[m\u001b[m*\r\n",
      "\u001b[31m/Volumes/web/nightingales/O_lurida/20160223_gbs/1NF_5A_1.fq.gz\u001b[m\u001b[m*\r\n",
      "\u001b[31m/Volumes/web/nightingales/O_lurida/20160223_gbs/1NF_5A_2.fq.gz\u001b[m\u001b[m*\r\n",
      "\u001b[31m/Volumes/web/nightingales/O_lurida/20160223_gbs/1NF_6A_1.fq.gz\u001b[m\u001b[m*\r\n",
      "\u001b[31m/Volumes/web/nightingales/O_lurida/20160223_gbs/1NF_6A_2.fq.gz\u001b[m\u001b[m*\r\n",
      "\u001b[31m/Volumes/web/nightingales/O_lurida/20160223_gbs/1NF_7A_1.fq.gz\u001b[m\u001b[m*\r\n",
      "\u001b[31m/Volumes/web/nightingales/O_lurida/20160223_gbs/1NF_7A_2.fq.gz\u001b[m\u001b[m*\r\n",
      "\u001b[31m/Volumes/web/nightingales/O_lurida/20160223_gbs/1NF_8A_1.fq.gz\u001b[m\u001b[m*\r\n",
      "\u001b[31m/Volumes/web/nightingales/O_lurida/20160223_gbs/1NF_8A_2.fq.gz\u001b[m\u001b[m*\r\n",
      "\u001b[31m/Volumes/web/nightingales/O_lurida/20160223_gbs/1NF_9A_1.fq.gz\u001b[m\u001b[m*\r\n",
      "\u001b[31m/Volumes/web/nightingales/O_lurida/20160223_gbs/1NF_9A_2.fq.gz\u001b[m\u001b[m*\r\n"
     ]
    }
   ],
   "source": [
    "ls /Volumes/web/nightingales/O_lurida/20160223_gbs/1NF*.gz"
   ]
  },
  {
   "cell_type": "code",
   "execution_count": 6,
   "metadata": {
    "collapsed": true
   },
   "outputs": [
    {
     "name": "stdout",
     "output_type": "stream",
     "text": [
      "\u001b[31m/Volumes/web/nightingales/O_lurida/20160223_gbs/1HL_10A_1.fq.gz\u001b[m\u001b[m*\r\n",
      "\u001b[31m/Volumes/web/nightingales/O_lurida/20160223_gbs/1HL_10A_2.fq.gz\u001b[m\u001b[m*\r\n",
      "\u001b[31m/Volumes/web/nightingales/O_lurida/20160223_gbs/1HL_11A_1.fq.gz\u001b[m\u001b[m*\r\n",
      "\u001b[31m/Volumes/web/nightingales/O_lurida/20160223_gbs/1HL_11A_2.fq.gz\u001b[m\u001b[m*\r\n",
      "\u001b[31m/Volumes/web/nightingales/O_lurida/20160223_gbs/1HL_12A_1.fq.gz\u001b[m\u001b[m*\r\n",
      "\u001b[31m/Volumes/web/nightingales/O_lurida/20160223_gbs/1HL_12A_2.fq.gz\u001b[m\u001b[m*\r\n",
      "\u001b[31m/Volumes/web/nightingales/O_lurida/20160223_gbs/1HL_13A_1.fq.gz\u001b[m\u001b[m*\r\n",
      "\u001b[31m/Volumes/web/nightingales/O_lurida/20160223_gbs/1HL_13A_2.fq.gz\u001b[m\u001b[m*\r\n",
      "\u001b[31m/Volumes/web/nightingales/O_lurida/20160223_gbs/1HL_14A_1.fq.gz\u001b[m\u001b[m*\r\n",
      "\u001b[31m/Volumes/web/nightingales/O_lurida/20160223_gbs/1HL_14A_2.fq.gz\u001b[m\u001b[m*\r\n",
      "\u001b[31m/Volumes/web/nightingales/O_lurida/20160223_gbs/1HL_15A_1.fq.gz\u001b[m\u001b[m*\r\n",
      "\u001b[31m/Volumes/web/nightingales/O_lurida/20160223_gbs/1HL_15A_2.fq.gz\u001b[m\u001b[m*\r\n",
      "\u001b[31m/Volumes/web/nightingales/O_lurida/20160223_gbs/1HL_16A_1.fq.gz\u001b[m\u001b[m*\r\n",
      "\u001b[31m/Volumes/web/nightingales/O_lurida/20160223_gbs/1HL_16A_2.fq.gz\u001b[m\u001b[m*\r\n",
      "\u001b[31m/Volumes/web/nightingales/O_lurida/20160223_gbs/1HL_17A_1.fq.gz\u001b[m\u001b[m*\r\n",
      "\u001b[31m/Volumes/web/nightingales/O_lurida/20160223_gbs/1HL_17A_2.fq.gz\u001b[m\u001b[m*\r\n",
      "\u001b[31m/Volumes/web/nightingales/O_lurida/20160223_gbs/1HL_19A_1.fq.gz\u001b[m\u001b[m*\r\n",
      "\u001b[31m/Volumes/web/nightingales/O_lurida/20160223_gbs/1HL_19A_2.fq.gz\u001b[m\u001b[m*\r\n",
      "\u001b[31m/Volumes/web/nightingales/O_lurida/20160223_gbs/1HL_1A_1.fq.gz\u001b[m\u001b[m*\r\n",
      "\u001b[31m/Volumes/web/nightingales/O_lurida/20160223_gbs/1HL_1A_2.fq.gz\u001b[m\u001b[m*\r\n",
      "\u001b[31m/Volumes/web/nightingales/O_lurida/20160223_gbs/1HL_20A_1.fq.gz\u001b[m\u001b[m*\r\n",
      "\u001b[31m/Volumes/web/nightingales/O_lurida/20160223_gbs/1HL_20A_2.fq.gz\u001b[m\u001b[m*\r\n",
      "\u001b[31m/Volumes/web/nightingales/O_lurida/20160223_gbs/1HL_21A_1.fq.gz\u001b[m\u001b[m*\r\n",
      "\u001b[31m/Volumes/web/nightingales/O_lurida/20160223_gbs/1HL_21A_2.fq.gz\u001b[m\u001b[m*\r\n",
      "\u001b[31m/Volumes/web/nightingales/O_lurida/20160223_gbs/1HL_22A_1.fq.gz\u001b[m\u001b[m*\r\n",
      "\u001b[31m/Volumes/web/nightingales/O_lurida/20160223_gbs/1HL_22A_2.fq.gz\u001b[m\u001b[m*\r\n",
      "\u001b[31m/Volumes/web/nightingales/O_lurida/20160223_gbs/1HL_23A_1.fq.gz\u001b[m\u001b[m*\r\n",
      "\u001b[31m/Volumes/web/nightingales/O_lurida/20160223_gbs/1HL_23A_2.fq.gz\u001b[m\u001b[m*\r\n",
      "\u001b[31m/Volumes/web/nightingales/O_lurida/20160223_gbs/1HL_24A_1.fq.gz\u001b[m\u001b[m*\r\n",
      "\u001b[31m/Volumes/web/nightingales/O_lurida/20160223_gbs/1HL_24A_2.fq.gz\u001b[m\u001b[m*\r\n",
      "\u001b[31m/Volumes/web/nightingales/O_lurida/20160223_gbs/1HL_25A_1.fq.gz\u001b[m\u001b[m*\r\n",
      "\u001b[31m/Volumes/web/nightingales/O_lurida/20160223_gbs/1HL_25A_2.fq.gz\u001b[m\u001b[m*\r\n",
      "\u001b[31m/Volumes/web/nightingales/O_lurida/20160223_gbs/1HL_26A_1.fq.gz\u001b[m\u001b[m*\r\n",
      "\u001b[31m/Volumes/web/nightingales/O_lurida/20160223_gbs/1HL_26A_2.fq.gz\u001b[m\u001b[m*\r\n",
      "\u001b[31m/Volumes/web/nightingales/O_lurida/20160223_gbs/1HL_27A_1.fq.gz\u001b[m\u001b[m*\r\n",
      "\u001b[31m/Volumes/web/nightingales/O_lurida/20160223_gbs/1HL_27A_2.fq.gz\u001b[m\u001b[m*\r\n",
      "\u001b[31m/Volumes/web/nightingales/O_lurida/20160223_gbs/1HL_28A_1.fq.gz\u001b[m\u001b[m*\r\n",
      "\u001b[31m/Volumes/web/nightingales/O_lurida/20160223_gbs/1HL_28A_2.fq.gz\u001b[m\u001b[m*\r\n",
      "\u001b[31m/Volumes/web/nightingales/O_lurida/20160223_gbs/1HL_29A_1.fq.gz\u001b[m\u001b[m*\r\n",
      "\u001b[31m/Volumes/web/nightingales/O_lurida/20160223_gbs/1HL_29A_2.fq.gz\u001b[m\u001b[m*\r\n",
      "\u001b[31m/Volumes/web/nightingales/O_lurida/20160223_gbs/1HL_2A_1.fq.gz\u001b[m\u001b[m*\r\n",
      "\u001b[31m/Volumes/web/nightingales/O_lurida/20160223_gbs/1HL_2A_2.fq.gz\u001b[m\u001b[m*\r\n",
      "\u001b[31m/Volumes/web/nightingales/O_lurida/20160223_gbs/1HL_31A_1.fq.gz\u001b[m\u001b[m*\r\n",
      "\u001b[31m/Volumes/web/nightingales/O_lurida/20160223_gbs/1HL_31A_2.fq.gz\u001b[m\u001b[m*\r\n",
      "\u001b[31m/Volumes/web/nightingales/O_lurida/20160223_gbs/1HL_33A_1.fq.gz\u001b[m\u001b[m*\r\n",
      "\u001b[31m/Volumes/web/nightingales/O_lurida/20160223_gbs/1HL_33A_2.fq.gz\u001b[m\u001b[m*\r\n",
      "\u001b[31m/Volumes/web/nightingales/O_lurida/20160223_gbs/1HL_34A_1.fq.gz\u001b[m\u001b[m*\r\n",
      "\u001b[31m/Volumes/web/nightingales/O_lurida/20160223_gbs/1HL_34A_2.fq.gz\u001b[m\u001b[m*\r\n",
      "\u001b[31m/Volumes/web/nightingales/O_lurida/20160223_gbs/1HL_35A_1.fq.gz\u001b[m\u001b[m*\r\n",
      "\u001b[31m/Volumes/web/nightingales/O_lurida/20160223_gbs/1HL_35A_2.fq.gz\u001b[m\u001b[m*\r\n",
      "\u001b[31m/Volumes/web/nightingales/O_lurida/20160223_gbs/1HL_3A_1.fq.gz\u001b[m\u001b[m*\r\n",
      "\u001b[31m/Volumes/web/nightingales/O_lurida/20160223_gbs/1HL_3A_2.fq.gz\u001b[m\u001b[m*\r\n",
      "\u001b[31m/Volumes/web/nightingales/O_lurida/20160223_gbs/1HL_4A_1.fq.gz\u001b[m\u001b[m*\r\n",
      "\u001b[31m/Volumes/web/nightingales/O_lurida/20160223_gbs/1HL_4A_2.fq.gz\u001b[m\u001b[m*\r\n",
      "\u001b[31m/Volumes/web/nightingales/O_lurida/20160223_gbs/1HL_5A_1.fq.gz\u001b[m\u001b[m*\r\n",
      "\u001b[31m/Volumes/web/nightingales/O_lurida/20160223_gbs/1HL_5A_2.fq.gz\u001b[m\u001b[m*\r\n",
      "\u001b[31m/Volumes/web/nightingales/O_lurida/20160223_gbs/1HL_6A_1.fq.gz\u001b[m\u001b[m*\r\n",
      "\u001b[31m/Volumes/web/nightingales/O_lurida/20160223_gbs/1HL_6A_2.fq.gz\u001b[m\u001b[m*\r\n",
      "\u001b[31m/Volumes/web/nightingales/O_lurida/20160223_gbs/1HL_7A_1.fq.gz\u001b[m\u001b[m*\r\n",
      "\u001b[31m/Volumes/web/nightingales/O_lurida/20160223_gbs/1HL_7A_2.fq.gz\u001b[m\u001b[m*\r\n",
      "\u001b[31m/Volumes/web/nightingales/O_lurida/20160223_gbs/1HL_8A_1.fq.gz\u001b[m\u001b[m*\r\n",
      "\u001b[31m/Volumes/web/nightingales/O_lurida/20160223_gbs/1HL_8A_2.fq.gz\u001b[m\u001b[m*\r\n",
      "\u001b[31m/Volumes/web/nightingales/O_lurida/20160223_gbs/1HL_9A_1.fq.gz\u001b[m\u001b[m*\r\n",
      "\u001b[31m/Volumes/web/nightingales/O_lurida/20160223_gbs/1HL_9A_2.fq.gz\u001b[m\u001b[m*\r\n"
     ]
    }
   ],
   "source": [
    "ls /Volumes/web/nightingales/O_lurida/20160223_gbs/1HL*.gz"
   ]
  },
  {
   "cell_type": "code",
   "execution_count": 7,
   "metadata": {
    "collapsed": true
   },
   "outputs": [
    {
     "name": "stdout",
     "output_type": "stream",
     "text": [
      "\u001b[31m/Volumes/web/nightingales/O_lurida/20160223_gbs/1SN_10A_1.fq.gz\u001b[m\u001b[m*\r\n",
      "\u001b[31m/Volumes/web/nightingales/O_lurida/20160223_gbs/1SN_10A_2.fq.gz\u001b[m\u001b[m*\r\n",
      "\u001b[31m/Volumes/web/nightingales/O_lurida/20160223_gbs/1SN_11A_1.fq.gz\u001b[m\u001b[m*\r\n",
      "\u001b[31m/Volumes/web/nightingales/O_lurida/20160223_gbs/1SN_11A_2.fq.gz\u001b[m\u001b[m*\r\n",
      "\u001b[31m/Volumes/web/nightingales/O_lurida/20160223_gbs/1SN_12A_1.fq.gz\u001b[m\u001b[m*\r\n",
      "\u001b[31m/Volumes/web/nightingales/O_lurida/20160223_gbs/1SN_12A_2.fq.gz\u001b[m\u001b[m*\r\n",
      "\u001b[31m/Volumes/web/nightingales/O_lurida/20160223_gbs/1SN_13A_1.fq.gz\u001b[m\u001b[m*\r\n",
      "\u001b[31m/Volumes/web/nightingales/O_lurida/20160223_gbs/1SN_13A_2.fq.gz\u001b[m\u001b[m*\r\n",
      "\u001b[31m/Volumes/web/nightingales/O_lurida/20160223_gbs/1SN_14A_1.fq.gz\u001b[m\u001b[m*\r\n",
      "\u001b[31m/Volumes/web/nightingales/O_lurida/20160223_gbs/1SN_14A_2.fq.gz\u001b[m\u001b[m*\r\n",
      "\u001b[31m/Volumes/web/nightingales/O_lurida/20160223_gbs/1SN_15A_1.fq.gz\u001b[m\u001b[m*\r\n",
      "\u001b[31m/Volumes/web/nightingales/O_lurida/20160223_gbs/1SN_15A_2.fq.gz\u001b[m\u001b[m*\r\n",
      "\u001b[31m/Volumes/web/nightingales/O_lurida/20160223_gbs/1SN_16A_1.fq.gz\u001b[m\u001b[m*\r\n",
      "\u001b[31m/Volumes/web/nightingales/O_lurida/20160223_gbs/1SN_16A_2.fq.gz\u001b[m\u001b[m*\r\n",
      "\u001b[31m/Volumes/web/nightingales/O_lurida/20160223_gbs/1SN_17A_1.fq.gz\u001b[m\u001b[m*\r\n",
      "\u001b[31m/Volumes/web/nightingales/O_lurida/20160223_gbs/1SN_17A_2.fq.gz\u001b[m\u001b[m*\r\n",
      "\u001b[31m/Volumes/web/nightingales/O_lurida/20160223_gbs/1SN_18A_1.fq.gz\u001b[m\u001b[m*\r\n",
      "\u001b[31m/Volumes/web/nightingales/O_lurida/20160223_gbs/1SN_18A_2.fq.gz\u001b[m\u001b[m*\r\n",
      "\u001b[31m/Volumes/web/nightingales/O_lurida/20160223_gbs/1SN_19A_1.fq.gz\u001b[m\u001b[m*\r\n",
      "\u001b[31m/Volumes/web/nightingales/O_lurida/20160223_gbs/1SN_19A_2.fq.gz\u001b[m\u001b[m*\r\n",
      "\u001b[31m/Volumes/web/nightingales/O_lurida/20160223_gbs/1SN_1A_1.fq.gz\u001b[m\u001b[m*\r\n",
      "\u001b[31m/Volumes/web/nightingales/O_lurida/20160223_gbs/1SN_1A_2.fq.gz\u001b[m\u001b[m*\r\n",
      "\u001b[31m/Volumes/web/nightingales/O_lurida/20160223_gbs/1SN_20A_1.fq.gz\u001b[m\u001b[m*\r\n",
      "\u001b[31m/Volumes/web/nightingales/O_lurida/20160223_gbs/1SN_20A_2.fq.gz\u001b[m\u001b[m*\r\n",
      "\u001b[31m/Volumes/web/nightingales/O_lurida/20160223_gbs/1SN_21A_1.fq.gz\u001b[m\u001b[m*\r\n",
      "\u001b[31m/Volumes/web/nightingales/O_lurida/20160223_gbs/1SN_21A_2.fq.gz\u001b[m\u001b[m*\r\n",
      "\u001b[31m/Volumes/web/nightingales/O_lurida/20160223_gbs/1SN_22A_1.fq.gz\u001b[m\u001b[m*\r\n",
      "\u001b[31m/Volumes/web/nightingales/O_lurida/20160223_gbs/1SN_22A_2.fq.gz\u001b[m\u001b[m*\r\n",
      "\u001b[31m/Volumes/web/nightingales/O_lurida/20160223_gbs/1SN_23A_1.fq.gz\u001b[m\u001b[m*\r\n",
      "\u001b[31m/Volumes/web/nightingales/O_lurida/20160223_gbs/1SN_23A_2.fq.gz\u001b[m\u001b[m*\r\n",
      "\u001b[31m/Volumes/web/nightingales/O_lurida/20160223_gbs/1SN_24A_1.fq.gz\u001b[m\u001b[m*\r\n",
      "\u001b[31m/Volumes/web/nightingales/O_lurida/20160223_gbs/1SN_24A_2.fq.gz\u001b[m\u001b[m*\r\n",
      "\u001b[31m/Volumes/web/nightingales/O_lurida/20160223_gbs/1SN_25A_1.fq.gz\u001b[m\u001b[m*\r\n",
      "\u001b[31m/Volumes/web/nightingales/O_lurida/20160223_gbs/1SN_25A_2.fq.gz\u001b[m\u001b[m*\r\n",
      "\u001b[31m/Volumes/web/nightingales/O_lurida/20160223_gbs/1SN_26A_1.fq.gz\u001b[m\u001b[m*\r\n",
      "\u001b[31m/Volumes/web/nightingales/O_lurida/20160223_gbs/1SN_26A_2.fq.gz\u001b[m\u001b[m*\r\n",
      "\u001b[31m/Volumes/web/nightingales/O_lurida/20160223_gbs/1SN_27A_1.fq.gz\u001b[m\u001b[m*\r\n",
      "\u001b[31m/Volumes/web/nightingales/O_lurida/20160223_gbs/1SN_27A_2.fq.gz\u001b[m\u001b[m*\r\n",
      "\u001b[31m/Volumes/web/nightingales/O_lurida/20160223_gbs/1SN_28A_1.fq.gz\u001b[m\u001b[m*\r\n",
      "\u001b[31m/Volumes/web/nightingales/O_lurida/20160223_gbs/1SN_28A_2.fq.gz\u001b[m\u001b[m*\r\n",
      "\u001b[31m/Volumes/web/nightingales/O_lurida/20160223_gbs/1SN_29A_1.fq.gz\u001b[m\u001b[m*\r\n",
      "\u001b[31m/Volumes/web/nightingales/O_lurida/20160223_gbs/1SN_29A_2.fq.gz\u001b[m\u001b[m*\r\n",
      "\u001b[31m/Volumes/web/nightingales/O_lurida/20160223_gbs/1SN_2A_1.fq.gz\u001b[m\u001b[m*\r\n",
      "\u001b[31m/Volumes/web/nightingales/O_lurida/20160223_gbs/1SN_2A_2.fq.gz\u001b[m\u001b[m*\r\n",
      "\u001b[31m/Volumes/web/nightingales/O_lurida/20160223_gbs/1SN_30A_1.fq.gz\u001b[m\u001b[m*\r\n",
      "\u001b[31m/Volumes/web/nightingales/O_lurida/20160223_gbs/1SN_30A_2.fq.gz\u001b[m\u001b[m*\r\n",
      "\u001b[31m/Volumes/web/nightingales/O_lurida/20160223_gbs/1SN_31A_1.fq.gz\u001b[m\u001b[m*\r\n",
      "\u001b[31m/Volumes/web/nightingales/O_lurida/20160223_gbs/1SN_31A_2.fq.gz\u001b[m\u001b[m*\r\n",
      "\u001b[31m/Volumes/web/nightingales/O_lurida/20160223_gbs/1SN_32A_1.fq.gz\u001b[m\u001b[m*\r\n",
      "\u001b[31m/Volumes/web/nightingales/O_lurida/20160223_gbs/1SN_32A_2.fq.gz\u001b[m\u001b[m*\r\n",
      "\u001b[31m/Volumes/web/nightingales/O_lurida/20160223_gbs/1SN_3A_1.fq.gz\u001b[m\u001b[m*\r\n",
      "\u001b[31m/Volumes/web/nightingales/O_lurida/20160223_gbs/1SN_3A_2.fq.gz\u001b[m\u001b[m*\r\n",
      "\u001b[31m/Volumes/web/nightingales/O_lurida/20160223_gbs/1SN_4A_1.fq.gz\u001b[m\u001b[m*\r\n",
      "\u001b[31m/Volumes/web/nightingales/O_lurida/20160223_gbs/1SN_4A_2.fq.gz\u001b[m\u001b[m*\r\n",
      "\u001b[31m/Volumes/web/nightingales/O_lurida/20160223_gbs/1SN_5A_1.fq.gz\u001b[m\u001b[m*\r\n",
      "\u001b[31m/Volumes/web/nightingales/O_lurida/20160223_gbs/1SN_5A_2.fq.gz\u001b[m\u001b[m*\r\n",
      "\u001b[31m/Volumes/web/nightingales/O_lurida/20160223_gbs/1SN_6A_1.fq.gz\u001b[m\u001b[m*\r\n",
      "\u001b[31m/Volumes/web/nightingales/O_lurida/20160223_gbs/1SN_6A_2.fq.gz\u001b[m\u001b[m*\r\n",
      "\u001b[31m/Volumes/web/nightingales/O_lurida/20160223_gbs/1SN_7A_1.fq.gz\u001b[m\u001b[m*\r\n",
      "\u001b[31m/Volumes/web/nightingales/O_lurida/20160223_gbs/1SN_7A_2.fq.gz\u001b[m\u001b[m*\r\n",
      "\u001b[31m/Volumes/web/nightingales/O_lurida/20160223_gbs/1SN_8A_1.fq.gz\u001b[m\u001b[m*\r\n",
      "\u001b[31m/Volumes/web/nightingales/O_lurida/20160223_gbs/1SN_8A_2.fq.gz\u001b[m\u001b[m*\r\n",
      "\u001b[31m/Volumes/web/nightingales/O_lurida/20160223_gbs/1SN_9A_1.fq.gz\u001b[m\u001b[m*\r\n",
      "\u001b[31m/Volumes/web/nightingales/O_lurida/20160223_gbs/1SN_9A_2.fq.gz\u001b[m\u001b[m*\r\n"
     ]
    }
   ],
   "source": [
    "ls /Volumes/web/nightingales/O_lurida/20160223_gbs/1SN*.gz"
   ]
  },
  {
   "cell_type": "code",
   "execution_count": 33,
   "metadata": {
    "collapsed": false,
    "scrolled": true
   },
   "outputs": [
    {
     "name": "stdout",
     "output_type": "stream",
     "text": [
      "2149301 reads; of these:\n",
      "  2149301 (100.00%) were paired; of these:\n",
      "    1158753 (53.91%) aligned concordantly 0 times\n",
      "    335248 (15.60%) aligned concordantly exactly 1 time\n",
      "    655300 (30.49%) aligned concordantly >1 times\n",
      "    ----\n",
      "    1158753 pairs aligned concordantly 0 times; of these:\n",
      "      24584 (2.12%) aligned discordantly 1 time\n",
      "    ----\n",
      "    1134169 pairs aligned 0 times concordantly or discordantly; of these:\n",
      "      2268338 mates make up the pairs; of these:\n",
      "        1827460 (80.56%) aligned 0 times\n",
      "        92331 (4.07%) aligned exactly 1 time\n",
      "        348547 (15.37%) aligned >1 times\n",
      "57.49% overall alignment rate\n",
      "^C\n"
     ]
    }
   ],
   "source": [
    "!find /Volumes/web/nightingales/O_lurida/20160223_gbs/1NF*1.fq.gz | xargs basename -s _1.fq.gz \\\n",
    "| xargs -I{} /Applications/bioinfo/bowtie2-2.2.4/bowtie2 \\\n",
    "-x /Users/sr320/git-repos/student-fish546-2016/data/Ostrea_lurida-Scaff-10k-bowtie-index \\\n",
    "-1 /Volumes/web/nightingales/O_lurida/20160223_gbs/{}_1.fq.gz \\\n",
    "-2 /Volumes/web/nightingales/O_lurida/20160223_gbs/{}_2.fq.gz \\\n",
    "-p 8 \\\n",
    "--very-sensitive-local  \\\n",
    "-S /Volumes/caviar/wd/2016-12-01/{}.sam"
   ]
  },
  {
   "cell_type": "code",
   "execution_count": 25,
   "metadata": {
    "collapsed": false
   },
   "outputs": [
    {
     "name": "stderr",
     "output_type": "stream",
     "text": [
      "[bam_sort_core] merging from 4 files...\n"
     ]
    }
   ],
   "source": [
    "%%bash\n",
    "samtools view -bS /Volumes/caviar/wd/2016-12-01/1NF_9A.sam \\\n",
    "| samtools sort -o /Volumes/caviar/wd/2016-12-01/1NF_9A.bam\n",
    "samtools index /Volumes/caviar/wd/2016-12-01/1NF_9A.bam\n"
   ]
  },
  {
   "cell_type": "code",
   "execution_count": 36,
   "metadata": {
    "collapsed": false
   },
   "outputs": [
    {
     "name": "stdout",
     "output_type": "stream",
     "text": [
      "[bam_sort_core] merging from 3 files...\n",
      "[E::bgzf_flush] hwrite error (wrong size)\n",
      "samtools view: writing to standard output failed: Broken pipe\n",
      "[E::bgzf_close] file write error\n",
      "samtools view: error closing standard output: -1\n",
      "[E::bgzf_flush] hwrite error (wrong size)\n",
      "[main_samview] failed to write the SAM header\n",
      "[E::bgzf_close] file write error\n",
      "samtools view: error closing standard output: -1\n",
      "[E::bgzf_flush] hwrite error (wrong size)\n",
      "[main_samview] failed to write the SAM header\n",
      "[E::bgzf_close] file write error\n",
      "samtools view: error closing standard output: -1\n",
      "[E::bgzf_flush] hwrite error (wrong size)\n",
      "[main_samview] failed to write the SAM header\n",
      "[E::bgzf_close] file write error\n",
      "samtools view: error closing standard output: -1\n",
      "[E::bgzf_flush] hwrite error (wrong size)\n",
      "[main_samview] failed to write the SAM header\n",
      "[E::bgzf_close] file write error\n",
      "samtools view: error closing standard output: -1\n",
      "[E::bgzf_flush] hwrite error (wrong size)\n",
      "[main_samview] failed to write the SAM header\n",
      "[E::bgzf_close] file write error\n",
      "samtools view: error closing standard output: -1\n",
      "[E::bgzf_flush] hwrite error (wrong size)\n",
      "[main_samview] failed to write the SAM header\n",
      "[E::bgzf_close] file write error\n",
      "samtools view: error closing standard output: -1\n",
      "[E::bgzf_flush] hwrite error (wrong size)\n",
      "[main_samview] failed to write the SAM header\n",
      "[E::bgzf_close] file write error\n",
      "samtools view: error closing standard output: -1\n",
      "[E::bgzf_flush] hwrite error (wrong size)\n",
      "[main_samview] failed to write the SAM header\n",
      "[E::bgzf_close] file write error\n",
      "samtools view: error closing standard output: -1\n",
      "[E::bgzf_flush] hwrite error (wrong size)\n",
      "[main_samview] failed to write the SAM header\n",
      "[E::bgzf_close] file write error\n",
      "samtools view: error closing standard output: -1\n",
      "[E::bgzf_flush] hwrite error (wrong size)\n",
      "[main_samview] failed to write the SAM header\n",
      "[E::bgzf_close] file write error\n",
      "samtools view: error closing standard output: -1\n",
      "[E::bgzf_flush] hwrite error (wrong size)\n",
      "[main_samview] failed to write the SAM header\n",
      "[E::bgzf_close] file write error\n",
      "samtools view: error closing standard output: -1\n",
      "[E::bgzf_flush] hwrite error (wrong size)\n",
      "[main_samview] failed to write the SAM header\n",
      "[E::bgzf_close] file write error\n",
      "samtools view: error closing standard output: -1\n",
      "[E::bgzf_flush] hwrite error (wrong size)\n",
      "[main_samview] failed to write the SAM header\n",
      "[E::bgzf_close] file write error\n",
      "samtools view: error closing standard output: -1\n",
      "[E::bgzf_flush] hwrite error (wrong size)\n",
      "[main_samview] failed to write the SAM header\n",
      "[E::bgzf_close] file write error\n",
      "samtools view: error closing standard output: -1\n",
      "[E::bgzf_flush] hwrite error (wrong size)\n",
      "[main_samview] failed to write the SAM header\n",
      "[E::bgzf_close] file write error\n",
      "samtools view: error closing standard output: -1\n",
      "[E::bgzf_flush] hwrite error (wrong size)\n",
      "[main_samview] failed to write the SAM header\n",
      "[E::bgzf_close] file write error\n",
      "samtools view: error closing standard output: -1\n",
      "[E::bgzf_flush] hwrite error (wrong size)\n",
      "[main_samview] failed to write the SAM header\n",
      "[E::bgzf_close] file write error\n",
      "samtools view: error closing standard output: -1\n",
      "[E::bgzf_flush] hwrite error (wrong size)\n",
      "[main_samview] failed to write the SAM header\n",
      "[E::bgzf_close] file write error\n",
      "samtools view: error closing standard output: -1\n",
      "[E::bgzf_flush] hwrite error (wrong size)\n",
      "[main_samview] failed to write the SAM header\n",
      "[E::bgzf_close] file write error\n",
      "samtools view: error closing standard output: -1\n",
      "[E::bgzf_flush] hwrite error (wrong size)\n",
      "[main_samview] failed to write the SAM header\n",
      "[E::bgzf_close] file write error\n",
      "samtools view: error closing standard output: -1\n",
      "[E::bgzf_flush] hwrite error (wrong size)\n",
      "[main_samview] failed to write the SAM header\n",
      "[E::bgzf_close] file write error\n",
      "samtools view: error closing standard output: -1\n",
      "[E::bgzf_flush] hwrite error (wrong size)\n",
      "[main_samview] failed to write the SAM header\n",
      "[E::bgzf_close] file write error\n",
      "samtools view: error closing standard output: -1\n",
      "[E::bgzf_flush] hwrite error (wrong size)\n",
      "[main_samview] failed to write the SAM header\n",
      "[E::bgzf_close] file write error\n",
      "samtools view: error closing standard output: -1\n",
      "[E::bgzf_flush] hwrite error (wrong size)\n",
      "[main_samview] failed to write the SAM header\n",
      "[E::bgzf_close] file write error\n",
      "samtools view: error closing standard output: -1\n",
      "[E::bgzf_flush] hwrite error (wrong size)\n",
      "[main_samview] failed to write the SAM header\n",
      "[E::bgzf_close] file write error\n",
      "samtools view: error closing standard output: -1\n",
      "[E::bgzf_flush] hwrite error (wrong size)\n",
      "[main_samview] failed to write the SAM header\n",
      "[E::bgzf_close] file write error\n",
      "samtools view: error closing standard output: -1\n",
      "[E::bgzf_flush] hwrite error (wrong size)\n",
      "[main_samview] failed to write the SAM header\n",
      "[E::bgzf_close] file write error\n",
      "samtools view: error closing standard output: -1\n",
      "[E::bgzf_flush] hwrite error (wrong size)\n",
      "[main_samview] failed to write the SAM header\n",
      "[E::bgzf_close] file write error\n",
      "samtools view: error closing standard output: -1\n",
      "[E::bgzf_flush] hwrite error (wrong size)\n",
      "[main_samview] failed to write the SAM header\n",
      "[E::bgzf_close] file write error\n",
      "samtools view: error closing standard output: -1\n",
      "[E::bgzf_flush] hwrite error (wrong size)\n",
      "[main_samview] failed to write the SAM header\n",
      "[E::bgzf_close] file write error\n",
      "samtools view: error closing standard output: -1\n"
     ]
    }
   ],
   "source": [
    "!find /Volumes/caviar/wd/2016-12-01/*sam | xargs basename -s .sam \\\n",
    "| xargs -I{} \\\n",
    "samtools view -bS /Volumes/caviar/wd/2016-12-01/{}.sam | samtools sort -o /Volumes/caviar/wd/2016-12-01/{}.bam\n"
   ]
  },
  {
   "cell_type": "code",
   "execution_count": 44,
   "metadata": {
    "collapsed": false
   },
   "outputs": [
    {
     "name": "stderr",
     "output_type": "stream",
     "text": [
      "[bam_sort_core] merging from 3 files...\n",
      "[bam_sort_core] merging from 3 files...\n",
      "[bam_sort_core] merging from 3 files...\n",
      "[bam_sort_core] merging from 4 files...\n",
      "[bam_sort_core] merging from 3 files...\n",
      "[bam_sort_core] merging from 3 files...\n",
      "[bam_sort_core] merging from 3 files...\n",
      "[bam_sort_core] merging from 4 files...\n",
      "[bam_sort_core] merging from 2 files...\n",
      "[bam_sort_core] merging from 2 files...\n",
      "[bam_sort_core] merging from 2 files...\n",
      "[bam_sort_core] merging from 3 files...\n",
      "[bam_sort_core] merging from 3 files...\n",
      "[bam_sort_core] merging from 3 files...\n",
      "[bam_sort_core] merging from 4 files...\n",
      "[bam_sort_core] merging from 3 files...\n",
      "[bam_sort_core] merging from 3 files...\n",
      "[bam_sort_core] merging from 3 files...\n",
      "[bam_sort_core] merging from 3 files...\n",
      "[bam_sort_core] merging from 3 files...\n",
      "[bam_sort_core] merging from 4 files...\n",
      "[bam_sort_core] merging from 4 files...\n",
      "[bam_sort_core] merging from 3 files...\n",
      "[bam_sort_core] merging from 4 files...\n",
      "[bam_sort_core] merging from 4 files...\n",
      "[bam_sort_core] merging from 3 files...\n",
      "[bam_sort_core] merging from 4 files...\n",
      "[bam_sort_core] merging from 3 files...\n",
      "[bam_sort_core] merging from 3 files...\n",
      "[bam_sort_core] merging from 3 files...\n",
      "[bam_sort_core] merging from 3 files...\n",
      "[bam_sort_core] merging from 4 files...\n"
     ]
    }
   ],
   "source": [
    "%%bash\n",
    "for f in /Volumes/caviar/wd/2016-12-01/*.sam \n",
    "do\n",
    "samtools view -bS /Volumes/caviar/wd/2016-12-01/$(basename \"${f}\" .sam).sam \\\n",
    "| samtools sort -o /Volumes/caviar/wd/2016-12-02/$(basename \"${f}\" .sam).bam\n",
    "samtools index /Volumes/caviar/wd/2016-12-02/$(basename \"${f}\" .sam).bam\n",
    "2> /Volumes/caviar/wd/2016-12-02/$(basename \"${f}\" .sam).err\n",
    "done"
   ]
  },
  {
   "cell_type": "code",
   "execution_count": 43,
   "metadata": {
    "collapsed": true
   },
   "outputs": [
    {
     "name": "stdout",
     "output_type": "stream",
     "text": [
      "1NF_10A\n",
      "1NF_11A\n",
      "1NF_12A\n",
      "1NF_13A\n",
      "1NF_14A\n",
      "1NF_15A\n",
      "1NF_16A\n",
      "1NF_17A\n",
      "1NF_18A\n",
      "1NF_19A\n",
      "1NF_1A\n",
      "1NF_20A\n",
      "1NF_21A\n",
      "1NF_22A\n",
      "1NF_23A\n",
      "1NF_24A\n",
      "1NF_25A\n",
      "1NF_26A\n",
      "1NF_27A\n",
      "1NF_28A\n",
      "1NF_29A\n",
      "1NF_2A\n",
      "1NF_30A\n",
      "1NF_31A\n",
      "1NF_32A\n",
      "1NF_33A\n",
      "1NF_4A\n",
      "1NF_5A\n",
      "1NF_6A\n",
      "1NF_7A\n",
      "1NF_8A\n",
      "1NF_9A\n"
     ]
    }
   ],
   "source": [
    "%%bash\n",
    "for f in /Volumes/caviar/wd/2016-12-01/*.sam \n",
    "do\n",
    "echo $(basename \"${f}\" .sam)\n",
    "done"
   ]
  },
  {
   "cell_type": "code",
   "execution_count": 49,
   "metadata": {
    "collapsed": false
   },
   "outputs": [
    {
     "name": "stdout",
     "output_type": "stream",
     "text": [
      "[mpileup] 1 samples in 1 input files\n",
      "<mpileup> Set max per-file depth to 8000\n"
     ]
    }
   ],
   "source": [
    "!samtools mpileup --VCF --no-BAQ \\\n",
    "--fasta-ref /Users/sr320/git-repos/student-fish546-2016/data/Ostrea_lurida-Scaff-10k.fa \\\n",
    "/Volumes/caviar/wd/2016-12-02/1NF_33A.bam \\\n",
    "-o /Volumes/caviar/wd/2016-12-02/1NF_33A.vcf.gz"
   ]
  },
  {
   "cell_type": "code",
   "execution_count": 51,
   "metadata": {
    "collapsed": false
   },
   "outputs": [
    {
     "name": "stdout",
     "output_type": "stream",
     "text": [
      "scaffold293370\t17316\t.\tT\t<*>\t0\t.\tDP=1;I16=0,1,0,0,72,5184,0,0,44,1936,0,0,13,169,0,0;QS=1,0;MQ0F=0\tPL\t0,3,44\r\n",
      "scaffold293370\t17317\t.\tA\t<*>\t0\t.\tDP=1;I16=0,1,0,0,72,5184,0,0,44,1936,0,0,12,144,0,0;QS=1,0;MQ0F=0\tPL\t0,3,44\r\n",
      "scaffold293370\t17318\t.\tT\t<*>\t0\t.\tDP=1;I16=0,1,0,0,72,5184,0,0,44,1936,0,0,11,121,0,0;QS=1,0;MQ0F=0\tPL\t0,3,44\r\n",
      "scaffold293370\t17319\t.\tC\t<*>\t0\t.\tDP=1;I16=0,1,0,0,72,5184,0,0,44,1936,0,0,10,100,0,0;QS=1,0;MQ0F=0\tPL\t0,3,44\r\n",
      "scaffold293370\t17320\t.\tA\t<*>\t0\t.\tDP=1;I16=0,1,0,0,68,4624,0,0,44,1936,0,0,9,81,0,0;QS=1,0;MQ0F=0\tPL\t0,3,44\r\n",
      "scaffold293370\t17321\t.\tC\t<*>\t0\t.\tDP=1;I16=0,1,0,0,72,5184,0,0,44,1936,0,0,8,64,0,0;QS=1,0;MQ0F=0\tPL\t0,3,44\r\n",
      "scaffold293370\t17322\t.\tT\t<*>\t0\t.\tDP=1;I16=0,1,0,0,68,4624,0,0,44,1936,0,0,7,49,0,0;QS=1,0;MQ0F=0\tPL\t0,3,44\r\n",
      "scaffold293370\t17323\t.\tC\t<*>\t0\t.\tDP=1;I16=0,1,0,0,68,4624,0,0,44,1936,0,0,6,36,0,0;QS=1,0;MQ0F=0\tPL\t0,3,44\r\n",
      "scaffold293370\t17324\t.\tA\t<*>\t0\t.\tDP=1;I16=0,1,0,0,58,3364,0,0,44,1936,0,0,5,25,0,0;QS=1,0;MQ0F=0\tPL\t0,3,44\r\n",
      "scaffold293370\t17325\t.\tG\t<*>\t0\t.\tDP=1;I16=0,1,0,0,53,2809,0,0,44,1936,0,0,4,16,0,0;QS=1,0;MQ0F=0\tPL\t0,3,44\r\n"
     ]
    }
   ],
   "source": [
    "!tail /Volumes/caviar/wd/2016-12-02/1NF_33A.vcf"
   ]
  },
  {
   "cell_type": "code",
   "execution_count": 52,
   "metadata": {
    "collapsed": false
   },
   "outputs": [
    {
     "name": "stdout",
     "output_type": "stream",
     "text": [
      "1NF_10A\r\n",
      "1NF_11A\r\n",
      "1NF_12A\r\n",
      "1NF_13A\r\n",
      "1NF_14A\r\n",
      "1NF_15A\r\n",
      "1NF_16A\r\n",
      "1NF_17A\r\n",
      "1NF_18A\r\n",
      "1NF_19A\r\n",
      "1NF_1A\r\n",
      "1NF_20A\r\n",
      "1NF_21A\r\n",
      "1NF_22A\r\n",
      "1NF_23A\r\n",
      "1NF_24A\r\n",
      "1NF_25A\r\n",
      "1NF_26A\r\n",
      "1NF_27A\r\n",
      "1NF_28A\r\n",
      "1NF_29A\r\n",
      "1NF_2A\r\n",
      "1NF_30A\r\n",
      "1NF_31A\r\n",
      "1NF_32A\r\n",
      "1NF_33A\r\n",
      "1NF_4A\r\n",
      "1NF_5A\r\n",
      "1NF_6A\r\n",
      "1NF_7A\r\n",
      "1NF_8A\r\n",
      "1NF_9A\r\n"
     ]
    }
   ],
   "source": [
    "!find /Volumes/caviar/wd/2016-12-02/*bam | xargs basename -s .bam \\"
   ]
  },
  {
   "cell_type": "code",
   "execution_count": 53,
   "metadata": {
    "collapsed": true
   },
   "outputs": [
    {
     "name": "stdout",
     "output_type": "stream",
     "text": [
      "[mpileup] 1 samples in 1 input files\n",
      "<mpileup> Set max per-file depth to 8000\n",
      "[mpileup] 1 samples in 1 input files\n",
      "<mpileup> Set max per-file depth to 8000\n",
      "[mpileup] 1 samples in 1 input files\n",
      "<mpileup> Set max per-file depth to 8000\n",
      "[mpileup] 1 samples in 1 input files\n",
      "<mpileup> Set max per-file depth to 8000\n",
      "[mpileup] 1 samples in 1 input files\n",
      "<mpileup> Set max per-file depth to 8000\n",
      "[mpileup] 1 samples in 1 input files\n",
      "<mpileup> Set max per-file depth to 8000\n",
      "[mpileup] 1 samples in 1 input files\n",
      "<mpileup> Set max per-file depth to 8000\n",
      "[mpileup] 1 samples in 1 input files\n",
      "<mpileup> Set max per-file depth to 8000\n",
      "[mpileup] 1 samples in 1 input files\n",
      "<mpileup> Set max per-file depth to 8000\n",
      "[mpileup] 1 samples in 1 input files\n",
      "<mpileup> Set max per-file depth to 8000\n",
      "[mpileup] 1 samples in 1 input files\n",
      "<mpileup> Set max per-file depth to 8000\n",
      "[mpileup] 1 samples in 1 input files\n",
      "<mpileup> Set max per-file depth to 8000\n",
      "[mpileup] 1 samples in 1 input files\n",
      "<mpileup> Set max per-file depth to 8000\n",
      "[mpileup] 1 samples in 1 input files\n",
      "<mpileup> Set max per-file depth to 8000\n",
      "[mpileup] 1 samples in 1 input files\n",
      "<mpileup> Set max per-file depth to 8000\n",
      "[mpileup] 1 samples in 1 input files\n",
      "<mpileup> Set max per-file depth to 8000\n",
      "[mpileup] 1 samples in 1 input files\n",
      "<mpileup> Set max per-file depth to 8000\n",
      "[mpileup] 1 samples in 1 input files\n",
      "<mpileup> Set max per-file depth to 8000\n",
      "[mpileup] 1 samples in 1 input files\n",
      "<mpileup> Set max per-file depth to 8000\n",
      "[mpileup] 1 samples in 1 input files\n",
      "<mpileup> Set max per-file depth to 8000\n",
      "[mpileup] 1 samples in 1 input files\n",
      "<mpileup> Set max per-file depth to 8000\n",
      "[mpileup] 1 samples in 1 input files\n",
      "<mpileup> Set max per-file depth to 8000\n",
      "[mpileup] 1 samples in 1 input files\n",
      "<mpileup> Set max per-file depth to 8000\n",
      "[mpileup] 1 samples in 1 input files\n",
      "<mpileup> Set max per-file depth to 8000\n",
      "[mpileup] 1 samples in 1 input files\n",
      "<mpileup> Set max per-file depth to 8000\n",
      "[mpileup] 1 samples in 1 input files\n",
      "<mpileup> Set max per-file depth to 8000\n",
      "[mpileup] 1 samples in 1 input files\n",
      "<mpileup> Set max per-file depth to 8000\n",
      "[mpileup] 1 samples in 1 input files\n",
      "<mpileup> Set max per-file depth to 8000\n",
      "[mpileup] 1 samples in 1 input files\n",
      "<mpileup> Set max per-file depth to 8000\n",
      "[mpileup] 1 samples in 1 input files\n",
      "<mpileup> Set max per-file depth to 8000\n",
      "[mpileup] 1 samples in 1 input files\n",
      "<mpileup> Set max per-file depth to 8000\n",
      "[mpileup] 1 samples in 1 input files\n",
      "<mpileup> Set max per-file depth to 8000\n"
     ]
    }
   ],
   "source": [
    "!find /Volumes/caviar/wd/2016-12-02/*bam | xargs basename -s .bam \\\n",
    "| xargs -I{} \\\n",
    "samtools mpileup --VCF --no-BAQ \\\n",
    "--fasta-ref /Users/sr320/git-repos/student-fish546-2016/data/Ostrea_lurida-Scaff-10k.fa \\\n",
    "/Volumes/caviar/wd/2016-12-02/{}.bam \\\n",
    "-o /Volumes/caviar/wd/2016-12-02/{}.vcf.gz"
   ]
  },
  {
   "cell_type": "code",
   "execution_count": 5,
   "metadata": {
    "collapsed": false
   },
   "outputs": [
    {
     "name": "stdout",
     "output_type": "stream",
     "text": [
      "Note: Neither --ploidy nor --ploidy-file given, assuming all sites are diploid\n",
      "Note: Neither --ploidy nor --ploidy-file given, assuming all sites are diploid\n",
      "^C\n"
     ]
    }
   ],
   "source": [
    "!find /Volumes/caviar/wd/2016-12-02/*bam | xargs basename -s .bam \\\n",
    "| xargs -I{} \\\n",
    "/Applications/bioinfo/bcftools-1.3.1/bcftools \\\n",
    "call -v -m /Volumes/caviar/wd/2016-12-02/{}.vcf.gz > /Volumes/caviar/wd/2016-12-02/{}_calls.vcf.gz"
   ]
  },
  {
   "cell_type": "code",
   "execution_count": 3,
   "metadata": {
    "collapsed": false
   },
   "outputs": [
    {
     "name": "stdout",
     "output_type": "stream",
     "text": [
      "/Users/sr320/anaconda/bin:/Users/sr320/anaconda/bin:/Applications/bioinfo/irods3.3.icmds.mac.intel/:/Applications/bioinfo/tophat-2.0.13.OSX_x86_64/:/Applications/bioinfo/bowtie2-2.2.4/:/Applications/bioinfo/ncbi-blast-2.2.30/bin:/Applications/bioinfo/bedtools2/bin:/Users/sr320/anaconda/bin:/usr/local/bin:/usr/bin:/bin:/usr/sbin:/sbin:/Applications/bioinfo/kallisto:/Applications/bioinfo/samtools-1.3.1\n"
     ]
    }
   ],
   "source": [
    "%%bash\n",
    "echo $PATH\n"
   ]
  },
  {
   "cell_type": "markdown",
   "metadata": {},
   "source": [
    "# Merging Bams"
   ]
  },
  {
   "cell_type": "code",
   "execution_count": 37,
   "metadata": {
    "collapsed": false
   },
   "outputs": [
    {
     "name": "stdout",
     "output_type": "stream",
     "text": [
      "/Volumes/caviar/wd/2016-11-14b\n"
     ]
    }
   ],
   "source": [
    "cd /Volumes/caviar/wd/2016-11-14b/"
   ]
  },
  {
   "cell_type": "code",
   "execution_count": 43,
   "metadata": {
    "collapsed": false
   },
   "outputs": [
    {
     "name": "stdout",
     "output_type": "stream",
     "text": [
      "HC1-2_CAGATC-CGCTATG_L001.bam         SS2-14_CTTGTA-GACGT_L001.bam\r\n",
      "HC1-2_CAGATC-CGCTATG_L001.bam.bai     SS2-14_CTTGTA-GACGT_L001.bam.bai\r\n",
      "HC1-4_GGCTAC-TCATG_L001.bam           SS2-18_ACAGTG-CGCTATG_L002.bam\r\n",
      "HC1-4_GGCTAC-TCATG_L001.bam.bai       SS2-18_ACAGTG-CGCTATG_L002.bam.bai\r\n",
      "HC2-15_CGATGT-CGCTATG_L001.bam        SS2-9_CTTGTA-CGCTATG_L001.bam\r\n",
      "HC2-15_CGATGT-CGCTATG_L001.bam.bai    SS2-9_CTTGTA-CGCTATG_L001.bam.bai\r\n",
      "HC2-17B_TTAGGC-ATGAGCAC_L002.bam      SS3-14_GGCTAC-GACGT_L002.bam\r\n",
      "HC2-17B_TTAGGC-ATGAGCAC_L002.bam.bai  SS3-14_GGCTAC-GACGT_L002.bam.bai\r\n",
      "HC3-10_GGCTAC-ATGCAT_L001.bam         SS3-15_CGATGT-TCAGCAC_L002.bam\r\n",
      "HC3-10_GGCTAC-ATGCAT_L001.bam.bai     SS3-15_CGATGT-TCAGCAC_L002.bam.bai\r\n",
      "HC3-11_TTAGGC-ATGAGCAC_L001.bam       SS3-16_GGCTAC-CGTACG_L002.bam\r\n",
      "HC3-11_TTAGGC-ATGAGCAC_L001.bam.bai   SS3-16_GGCTAC-CGTACG_L002.bam.bai\r\n",
      "HC3-1_TTAGGC-ATGCAT_L001.bam          SS3-3_TTAGGC-GATCTCT_L002.bam\r\n",
      "HC3-1_TTAGGC-ATGCAT_L001.bam.bai      SS3-3_TTAGGC-GATCTCT_L002.bam.bai\r\n",
      "HC3-5_TAGCTT-CGCTATG_L001.bam         SS5-15_CAGATC-ATGCAT_L001.bam\r\n",
      "HC3-5_TAGCTT-CGCTATG_L001.bam.bai     SS5-15_CAGATC-ATGCAT_L001.bam.bai\r\n",
      "HC3-7_ACTTGA-TCAGCAC_L001.bam         all.bam\r\n",
      "HC3-7_ACTTGA-TCAGCAC_L001.bam.bai     all.bedgraph\r\n"
     ]
    }
   ],
   "source": [
    "ls"
   ]
  },
  {
   "cell_type": "code",
   "execution_count": 39,
   "metadata": {
    "collapsed": false
   },
   "outputs": [],
   "source": [
    "!samtools merge all.bam *bam"
   ]
  },
  {
   "cell_type": "code",
   "execution_count": 44,
   "metadata": {
    "collapsed": true
   },
   "outputs": [],
   "source": [
    "!samtools index all.bam"
   ]
  },
  {
   "cell_type": "code",
   "execution_count": 46,
   "metadata": {
    "collapsed": false
   },
   "outputs": [],
   "source": [
    "%%bash\n",
    "bedtools genomecov \\\n",
    "-ibam all.bam \\\n",
    "-bg | awk '$4 > 99' > all.bedgraph"
   ]
  },
  {
   "cell_type": "code",
   "execution_count": null,
   "metadata": {
    "collapsed": true
   },
   "outputs": [],
   "source": []
  }
 ],
 "metadata": {
  "kernelspec": {
   "display_name": "Python 2",
   "language": "python",
   "name": "python2"
  },
  "language_info": {
   "codemirror_mode": {
    "name": "ipython",
    "version": 2
   },
   "file_extension": ".py",
   "mimetype": "text/x-python",
   "name": "python",
   "nbconvert_exporter": "python",
   "pygments_lexer": "ipython2",
   "version": "2.7.12"
  }
 },
 "nbformat": 4,
 "nbformat_minor": 0
}
