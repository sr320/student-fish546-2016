{
 "cells": [
  {
   "cell_type": "markdown",
   "metadata": {},
   "source": [
    "# Examining the draft genome files of Ostrea lurida"
   ]
  },
  {
   "cell_type": "markdown",
   "metadata": {},
   "source": [
    "What we expected\n",
    "<img src=\"http://eagle.fish.washington.edu/cnidarian/skitch/project-olympia_oyster-genomic_contract_BGI_Olurida_denovo_F15FTSUSAT0327_pdf_at_master_·_RobertsLab_project-olympia_oyster-genomic_1DB64532.png\" alt=\"project-olympia_oyster-genomic_contract_BGI_Olurida_denovo_F15FTSUSAT0327_pdf_at_master_·_RobertsLab_project-olympia_oyster-genomic_1DB64532.png\"/>"
   ]
  },
  {
   "cell_type": "markdown",
   "metadata": {},
   "source": [
    "Received: 20160127\n",
    "\n",
    "Format: FASTQ (Illumina HiSeq4000)\n",
    "\n",
    "Location: http://owl.fish.washington.edu/nightingales/O_lurida/\n",
    "\n",
    "Files:\n",
    "\n",
    "| FILENAME                                                  | READS    | INSERT SIZE | SEQUENCING |\n",
    "|-----------------------------------------------------------|----------|-------------|------------|\n",
    "| 151114_I191_FCH3Y35BCXX_L1_wHAIPI023992-37_1.fq.gz        | 61253141 | 500bp       | PE150      |\n",
    "| 151114_I191_FCH3Y35BCXX_L1_wHAIPI023992-37_2.fq.gz        | 61253141 | 500bp       | PE150      |\n",
    "| 151114_I191_FCH3Y35BCXX_L2_wHAMPI023991-66_1.fq.gz        | 58755925 | 800bp       | PE150      |\n",
    "| 151114_I191_FCH3Y35BCXX_L2_wHAMPI023991-66_2.fq.gz        | 53307837 | 800bp       | PE150      |\n",
    "| 151118_I137_FCH3KNJBBXX_L5_wHAXPI023905-96_1.fq.gz        | 27731148 | 300bp       | PE150      |\n",
    "| 151118_I137_FCH3KNJBBXX_L5_wHAXPI023905-96_2.fq.gz        | 43938762 | 300bp       | PE150      |\n",
    "| 160103_I137_FCH3V5YBBXX_L3_WHOSTibkDCABDLAAPEI-62_1.fq.gz | 87198584 | 5000bp      | PE50       |\n",
    "| 160103_I137_FCH3V5YBBXX_L3_WHOSTibkDCABDLAAPEI-62_2.fq.gz | 87198584 | 5000bp      | PE50       |\n",
    "| 160103_I137_FCH3V5YBBXX_L3_WHOSTibkDCACDTAAPEI-75_1.fq.gz | 43766527 | 10000bp     | PE50       |\n",
    "| 160103_I137_FCH3V5YBBXX_L3_WHOSTibkDCACDTAAPEI-75_2.fq.gz | 43766527 | 10000bp     | PE50       |\n",
    "| 160103_I137_FCH3V5YBBXX_L4_WHOSTibkDCABDLAAPEI-62_1.fq.gz | 87135961 | 5000bp      | PE50       |\n",
    "| 160103_I137_FCH3V5YBBXX_L4_WHOSTibkDCABDLAAPEI-62_2.fq.gz | 87135961 | 5000bp      | PE50       |\n",
    "| 160103_I137_FCH3V5YBBXX_L4_WHOSTibkDCACDTAAPEI-75_1.fq.gz | 43138844 | 10000bp     | PE50       |\n",
    "| 160103_I137_FCH3V5YBBXX_L4_WHOSTibkDCACDTAAPEI-75_2.fq.gz | 43138844 | 10000bp     | PE50       |\n",
    "| 160103_I137_FCH3V5YBBXX_L5_WHOSTibkDCAADWAAPEI-74_1.fq.gz | 95270180 | 2000bp      | PE50       |\n",
    "| 160103_I137_FCH3V5YBBXX_L5_WHOSTibkDCAADWAAPEI-74_2.fq.gz | 95270180 | 2000bp      | PE50       |\n",
    "| 160103_I137_FCH3V5YBBXX_L6_WHOSTibkDCAADWAAPEI-74_1.fq.gz | 92524416 | 2000bp      | PE50       |\n",
    "| 160103_I137_FCH3V5YBBXX_L6_WHOSTibkDCAADWAAPEI-74_2.fq.gz | 92524416 | 2000bp      | PE50       |\n",
    "\n",
    "---"
   ]
  },
  {
   "cell_type": "markdown",
   "metadata": {},
   "source": [
    "\n",
    "###### Data: Initial genome assembly\n",
    "\n",
    "Received: 20160314\n",
    "\n",
    "Formats: TXT, FASTA\n",
    "\n",
    "Location: http://owl.fish.washington.edu/O_lurida_genome_assemblies_BGI/20160314/\n",
    "\n",
    "Files:\n",
    "\n",
    "| FILENAME         | DESCRIPTION                                                   |\n",
    "|------------------|---------------------------------------------------------------|\n",
    "| md5.txt          | Checksum file to verify integrity of files after downloading. |\n",
    "| N50.txt          | Contains limited stats on scaffolds provided.                 |\n",
    "| scaffold.fa.fill | A FASTA file of scaffolds.                                    |\n",
    "\n",
    "---\n"
   ]
  },
  {
   "cell_type": "markdown",
   "metadata": {},
   "source": [
    "\n",
    "###### Data: Initial small insert library genome assembly\n",
    "\n",
    "Received: 20160512\n",
    "\n",
    "Formats: TXT, FASTA, PDF, PNG, FASTQ\n",
    "\n",
    "Location: http://owl.fish.washington.edu/O_lurida_genome_assemblies_BGI/20160512/\n",
    "\n",
    "Files:\n",
    "\n",
    "FASTQ Files\n",
    "\n",
    "| FILENAME                                                              | READS    |\n",
    "|-----------------------------------------------------------------------|----------|\n",
    "| 51114_I191_FCH3Y35BCXX_L1_wHAIPI023992-37_1.fq.gz.clean.dup.clean.gz  | 61253141 |\n",
    "| 151114_I191_FCH3Y35BCXX_L1_wHAIPI023992-37_2.fq.gz.clean.dup.clean.gz | 61253141 |\n",
    "| 151114_I191_FCH3Y35BCXX_L2_wHAMPI023991-66_1.fq.gz.clean.dup.clean.gz | 58755925 |\n",
    "| 151114_I191_FCH3Y35BCXX_L2_wHAMPI023991-66_2.fq.gz.clean.dup.clean.gz | 58755925 |\n",
    "| 151118_I137_FCH3KNJBBXX_L5_wHAXPI023905-96_1.fq.gz.clean.dup.clean.gz | 43938762 |\n",
    "| 151118_I137_FCH3KNJBBXX_L5_wHAXPI023905-96_2.fq.gz.clean.dup.clean.gz | 43938762 |"
   ]
  },
  {
   "cell_type": "markdown",
   "metadata": {},
   "source": [
    "May 2016 Report\n",
    "<img src=\"http://eagle.fish.washington.edu/cnidarian/skitch/20160512_F15FTSUSAT0327_genome_survey_pdf_1DB646E9.png\" alt=\"20160512_F15FTSUSAT0327_genome_survey_pdf_1DB646E9.png\"/>"
   ]
  },
  {
   "cell_type": "markdown",
   "metadata": {},
   "source": [
    "---\n",
    "<img src=\"http://eagle.fish.washington.edu/cnidarian/skitch/20160512_F15FTSUSAT0327_genome_survey_pdf_1DB64928.png\" alt=\"20160512_F15FTSUSAT0327_genome_survey_pdf_1DB64928.png\"/>"
   ]
  },
  {
   "cell_type": "code",
   "execution_count": null,
   "metadata": {
    "collapsed": true
   },
   "outputs": [],
   "source": []
  }
 ],
 "metadata": {
  "kernelspec": {
   "display_name": "Python 2",
   "language": "python",
   "name": "python2"
  },
  "language_info": {
   "codemirror_mode": {
    "name": "ipython",
    "version": 2
   },
   "file_extension": ".py",
   "mimetype": "text/x-python",
   "name": "python",
   "nbconvert_exporter": "python",
   "pygments_lexer": "ipython2",
   "version": "2.7.11"
  }
 },
 "nbformat": 4,
 "nbformat_minor": 0
}
