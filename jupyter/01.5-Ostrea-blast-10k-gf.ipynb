{
 "cells": [
  {
   "cell_type": "markdown",
   "metadata": {},
   "source": [
    "# Blasting Transcriptome against genome"
   ]
  },
  {
   "cell_type": "code",
   "execution_count": 1,
   "metadata": {
    "collapsed": false
   },
   "outputs": [
    {
     "data": {
      "text/plain": [
       "u'/Users/sr320/git-repos/student-fish546-2016/jupyter'"
      ]
     },
     "execution_count": 1,
     "metadata": {},
     "output_type": "execute_result"
    }
   ],
   "source": [
    "pwd"
   ]
  },
  {
   "cell_type": "code",
   "execution_count": 1,
   "metadata": {
    "collapsed": false
   },
   "outputs": [
    {
     "name": "stdout",
     "output_type": "stream",
     "text": [
      "/Users/Steven/Documents/git-repos/student-fish546-2016\n"
     ]
    }
   ],
   "source": [
    "cd ..\n"
   ]
  },
  {
   "cell_type": "code",
   "execution_count": 2,
   "metadata": {
    "collapsed": false
   },
   "outputs": [
    {
     "name": "stdout",
     "output_type": "stream",
     "text": [
      "/Users/Steven/Documents/git-repos/student-fish546-2016/data\n"
     ]
    }
   ],
   "source": [
    "cd data\n"
   ]
  },
  {
   "cell_type": "code",
   "execution_count": 3,
   "metadata": {
    "collapsed": false
   },
   "outputs": [
    {
     "name": "stdout",
     "output_type": "stream",
     "text": [
      "Geoduck-transcriptome-v3.fa.zip    Panopea_generosa-Scaff-70k.nog\r\n",
      "Ostrea_lurida-Scaff-30k.fa         Panopea_generosa-Scaff-70k.nsd\r\n",
      "Ostrea_lurida-Scaff-30k.fa.fai     Panopea_generosa-Scaff-70k.nsi\r\n",
      "Ostrea_lurida-Scaff-30k.nhr        Panopea_generosa-Scaff-70k.nsq\r\n",
      "Ostrea_lurida-Scaff-30k.nin        Pg-70k-index.1.bt2\r\n",
      "Ostrea_lurida-Scaff-30k.nsq        Pg-70k-index.2.bt2\r\n",
      "Ostrea_lurida-Scaff-40k.fa         Pg-70k-index.3.bt2\r\n",
      "Panopea_generosa-Scaff-70k.fa      Pg-70k-index.4.bt2\r\n",
      "Panopea_generosa-Scaff-70k.fa.fai  Pg-70k-index.rev.1.bt2\r\n",
      "Panopea_generosa-Scaff-70k.nhr     Pg-70k-index.rev.2.bt2\r\n",
      "Panopea_generosa-Scaff-70k.nin     readme.md\r\n"
     ]
    }
   ],
   "source": [
    "ls"
   ]
  },
  {
   "cell_type": "code",
   "execution_count": 4,
   "metadata": {
    "collapsed": false
   },
   "outputs": [
    {
     "name": "stdout",
     "output_type": "stream",
     "text": [
      "--2016-11-05 19:26:52--  http://owl.fish.washington.edu/halfshell/working-directory/16-10-24/Ostrea_lurida-Scaff-10k.fa\n",
      "Resolving owl.fish.washington.edu... 128.95.149.83\n",
      "Connecting to owl.fish.washington.edu|128.95.149.83|:80... connected.\n",
      "HTTP request sent, awaiting response... 200 OK\n",
      "Length: 131408209 (125M) [text/plain]\n",
      "Saving to: 'Ostrea_lurida-Scaff-10k.fa'\n",
      "\n",
      "Ostrea_lurida-Scaff 100%[===================>] 125.32M  67.7MB/s    in 1.9s    \n",
      "\n",
      "2016-11-05 19:26:55 (67.7 MB/s) - 'Ostrea_lurida-Scaff-10k.fa' saved [131408209/131408209]\n",
      "\n"
     ]
    }
   ],
   "source": [
    "!wget http://owl.fish.washington.edu/halfshell/working-directory/16-10-24/Ostrea_lurida-Scaff-10k.fa"
   ]
  },
  {
   "cell_type": "code",
   "execution_count": 9,
   "metadata": {
    "collapsed": false
   },
   "outputs": [
    {
     "name": "stdout",
     "output_type": "stream",
     "text": [
      "--2016-11-05 19:31:05--  http://owl.fish.washington.edu/halfshell/bu-data-genomic/tentacle/OlyO_v6_transcriptome.fa\n",
      "Resolving owl.fish.washington.edu... 128.95.149.83\n",
      "Connecting to owl.fish.washington.edu|128.95.149.83|:80... connected.\n",
      "HTTP request sent, awaiting response... 200 OK\n",
      "Length: 228039864 (217M) [text/plain]\n",
      "Saving to: 'OlyO_v6_transcriptome.fa'\n",
      "\n",
      "OlyO_v6_transcripto 100%[===================>] 217.48M  73.9MB/s    in 2.9s    \n",
      "\n",
      "2016-11-05 19:31:10 (73.9 MB/s) - 'OlyO_v6_transcriptome.fa' saved [228039864/228039864]\n",
      "\n"
     ]
    }
   ],
   "source": [
    "!wget http://owl.fish.washington.edu/halfshell/bu-data-genomic/tentacle/OlyO_v6_transcriptome.fa"
   ]
  },
  {
   "cell_type": "code",
   "execution_count": 7,
   "metadata": {
    "collapsed": false
   },
   "outputs": [
    {
     "name": "stdout",
     "output_type": "stream",
     "text": [
      "\n",
      "\n",
      "Building a new DB, current time: 11/05/2016 19:27:49\n",
      "New DB name:   Ostrea_lurida-Scaff-10k\n",
      "New DB title:  Ostrea_lurida-Scaff-10k.fa\n",
      "Sequence type: Nucleotide\n",
      "Keep Linkouts: T\n",
      "Keep MBits: T\n",
      "Maximum file size: 1000000000B\n",
      "Error: (1431.1) FASTA-Reader: Warning: FASTA-Reader: First data line in seq is about 43% ambiguous nucleotides (shouldn't be over 40%)\n",
      "Error: (1431.1) FASTA-Reader: Warning: FASTA-Reader: First data line in seq is about 41% ambiguous nucleotides (shouldn't be over 40%)\n",
      "Error: (1431.1) FASTA-Reader: Warning: FASTA-Reader: First data line in seq is about 49% ambiguous nucleotides (shouldn't be over 40%)\n",
      "Adding sequences from FASTA; added 8733 sequences in 3.41549 seconds.\n"
     ]
    }
   ],
   "source": [
    "!/Users/Shared/Apps/ncbi-blast-2.2.29+/bin/makeblastdb \\\n",
    "-in Ostrea_lurida-Scaff-10k.fa \\\n",
    "-dbtype nucl \\\n",
    "-out Ostrea_lurida-Scaff-10k"
   ]
  },
  {
   "cell_type": "code",
   "execution_count": 5,
   "metadata": {
    "collapsed": false
   },
   "outputs": [
    {
     "name": "stdout",
     "output_type": "stream",
     "text": [
      "Geoduck-transcriptome-v3.fa.zip   Panopea_generosa-Scaff-70k.nog\r\n",
      "Ostrea_lurida-Scaff-10k.fa        Panopea_generosa-Scaff-70k.nsd\r\n",
      "Ostrea_lurida-Scaff-30k.fa        Panopea_generosa-Scaff-70k.nsi\r\n",
      "Ostrea_lurida-Scaff-30k.fa.fai    Panopea_generosa-Scaff-70k.nsq\r\n",
      "Ostrea_lurida-Scaff-30k.nhr       Pg-70k-index.1.bt2\r\n",
      "Ostrea_lurida-Scaff-30k.nin       Pg-70k-index.2.bt2\r\n",
      "Ostrea_lurida-Scaff-30k.nsq       Pg-70k-index.3.bt2\r\n",
      "Ostrea_lurida-Scaff-40k.fa        Pg-70k-index.4.bt2\r\n",
      "Panopea_generosa-Scaff-70k.fa     Pg-70k-index.rev.1.bt2\r\n",
      "Panopea_generosa-Scaff-70k.fa.fai Pg-70k-index.rev.2.bt2\r\n",
      "Panopea_generosa-Scaff-70k.nhr    readme.md\r\n",
      "Panopea_generosa-Scaff-70k.nin\r\n"
     ]
    }
   ],
   "source": [
    "!ls"
   ]
  },
  {
   "cell_type": "code",
   "execution_count": null,
   "metadata": {
    "collapsed": false
   },
   "outputs": [],
   "source": [
    "!/Users/Shared/Apps/ncbi-blast-2.2.29+/bin/blastn \\\n",
    "-query OlyO_v6_transcriptome.fa \\\n",
    "-db Ostrea_lurida-Scaff-10k \\\n",
    "-task blastn \\\n",
    "-evalue 1e-40 \\\n",
    "-outfmt 6 \\\n",
    "-out ../analyses/trans-v6-blastn-Scaff-10k-01.tab \\\n",
    "-max_target_seqs 1 \\\n",
    "-num_threads 6\n",
    "!wc -l ../analyses/trans-v6-blastn-Scaff-10k-01.tab \n",
    "\n",
    "\n",
    "!/Users/Shared/Apps/ncbi-blast-2.2.29+/bin/blastn \\\n",
    "-query OlyO_v6_transcriptome.fa \\\n",
    "-db Ostrea_lurida-Scaff-10k \\\n",
    "-task blastn \\\n",
    "-evalue 1e-20 \\\n",
    "-outfmt 6 \\\n",
    "-out ../analyses/trans-v6-blastn-Scaff-10k-02.tab \\\n",
    "-max_target_seqs 1 \\\n",
    "-num_threads 6\n",
    "!wc -l ../analyses/trans-v6-blastn-Scaff-10k-02.tab \n",
    "\n"
   ]
  },
  {
   "cell_type": "code",
   "execution_count": 10,
   "metadata": {
    "collapsed": false
   },
   "outputs": [
    {
     "name": "stdout",
     "output_type": "stream",
     "text": [
      "TR2|c0_g1_i1\tscaffold70795\t87.33\t150\t17\t1\t210\t359\t47164\t47017\t2e-46\t  183\r\n",
      "TR2|c0_g1_i1\tscaffold70795\t86.00\t150\t18\t2\t210\t359\t46514\t46660\t1e-42\t  170\r\n",
      "TR5|c0_g1_i1\tscaffold25028\t85.25\t122\t18\t0\t8\t129\t6458\t6337\t1e-33\t  140\r\n",
      "TR7|c0_g1_i1\tscaffold86430\t89.33\t75\t8\t0\t237\t311\t12966\t12892\t2e-21\t  100\r\n",
      "TR16|c0_g1_i1\tscaffold3873\t77.05\t244\t42\t3\t18\t253\t29329\t29092\t1e-47\t  187\r\n",
      "TR28|c0_g1_i1\tscaffold52557\t82.35\t136\t13\t3\t139\t272\t16379\t16253\t7e-32\t  134\r\n",
      "TR43|c0_g1_i1\tscaffold40838\t71.75\t223\t50\t3\t18\t228\t2748\t2527\t2e-26\t  116\r\n",
      "TR66|c0_g1_i1\tscaffold12565\t83.53\t249\t32\t3\t7\t251\t38995\t39238\t2e-69\t  259\r\n",
      "TR66|c0_g2_i1\tscaffold12565\t82.99\t288\t40\t3\t1\t284\t38956\t39238\t1e-79\t  293\r\n",
      "TR74|c0_g1_i1\tscaffold26204\t80.33\t122\t22\t2\t13\t134\t27355\t27474\t6e-23\t  105\r\n"
     ]
    }
   ],
   "source": [
    "!head ../analyses/trans-v6-blastn-Scaff-30k-02.tab"
   ]
  },
  {
   "cell_type": "code",
   "execution_count": 13,
   "metadata": {
    "collapsed": false
   },
   "outputs": [
    {
     "name": "stdout",
     "output_type": "stream",
     "text": [
      "\n",
      "\n",
      "Building a new DB, current time: 10/21/2016 13:18:56\n",
      "New DB name:   /Users/sr320/data-genomic/blast/db/uniprot_sprot_2016_09\n",
      "New DB title:  /Users/sr320/data-genomic/blast/db/uniprot_sprot_2016_09.fasta\n",
      "Sequence type: Protein\n",
      "Keep Linkouts: T\n",
      "Keep MBits: T\n",
      "Maximum file size: 1000000000B\n",
      "Adding sequences from FASTA; added 552259 sequences in 16.6128 seconds.\n"
     ]
    }
   ],
   "source": [
    "!makeblastdb \\\n",
    "-in /Users/sr320/data-genomic/blast/db/uniprot_sprot_2016_09.fasta \\\n",
    "-dbtype prot \\\n",
    "-out /Users/sr320/data-genomic/blast/db/uniprot_sprot_2016_09"
   ]
  },
  {
   "cell_type": "code",
   "execution_count": 14,
   "metadata": {
    "collapsed": true
   },
   "outputs": [],
   "source": [
    "\n",
    "!blastx \\\n",
    "-query OlyO_v6_transcriptome.fa \\\n",
    "-db /Users/sr320/data-genomic/blast/db/uniprot_sprot_2016_09 \\\n",
    "-evalue 1e-20 \\\n",
    "-outfmt 6 \\\n",
    "-out ../analyses/Olyv6_blastx_sprot_2016_09.tab \\\n",
    "-max_target_seqs 1 \\\n",
    "-max_hsps 1 \\\n",
    "-num_threads 6\n"
   ]
  },
  {
   "cell_type": "code",
   "execution_count": 4,
   "metadata": {
    "collapsed": false
   },
   "outputs": [
    {
     "name": "stdout",
     "output_type": "stream",
     "text": [
      "TR31|c0_g1_i1\tsp|Q6V0I7|FAT4_HUMAN\t39.84\t128\t73\t4\t6\t380\t3848\t3974\t4e-25\t  105\r\n",
      "TR49|c0_g1_i1\tsp|Q3U9G9|LBR_MOUSE\t46.25\t160\t85\t1\t478\t2\t455\t614\t7e-48\t  168\r\n",
      "TR51|c0_g1_i1\tsp|Q9W0K0|JIP1_DROME\t46.56\t189\t94\t3\t5\t559\t305\t490\t2e-49\t  181\r\n",
      "TR56|c0_g1_i1\tsp|P20825|POL2_DROME\t44.93\t138\t72\t2\t24\t437\t485\t618\t2e-28\t  115\r\n",
      "TR60|c0_g1_i1\tsp|O95834|EMAL2_HUMAN\t31.01\t474\t293\t14\t1478\t72\t204\t648\t3e-54\t  198\r\n",
      "TR78|c0_g1_i1\tsp|O44857|NEPL2_CAEEL\t48.95\t143\t70\t2\t1\t429\t597\t736\t5e-39\t  147\r\n",
      "TR79|c0_g1_i1\tsp|P06867|PLMN_PIG\t38.12\t223\t112\t9\t4\t618\t48\t262\t4e-34\t  133\r\n",
      "TR91|c0_g1_i1\tsp|Q5R9C2|S6A15_PONAB\t34.52\t310\t160\t2\t1071\t262\t340\t646\t2e-34\t  138\r\n",
      "TR115|c0_g1_i1\tsp|Q6IQ20|NAPEP_HUMAN\t48.02\t227\t107\t6\t659\t3\t51\t274\t6e-66\t  215\r\n",
      "TR129|c0_g1_i1\tsp|Q6P9T8|TBB4B_RAT\t97.11\t173\t5\t0\t144\t662\t1\t173\t3e-105\t  318\r\n"
     ]
    }
   ],
   "source": [
    "!head ../analyses/Olyv6_blastx_sprot_2016_09.tab"
   ]
  },
  {
   "cell_type": "code",
   "execution_count": 5,
   "metadata": {
    "collapsed": false
   },
   "outputs": [
    {
     "name": "stdout",
     "output_type": "stream",
     "text": [
      "TR60625|c0_g1_i1\tsp|P00687|AMY1_MOUSE\t50.00\t118\t54\t2\t340\t2\t242\t359\t1e-26\t  107\r\n",
      "TR60634|c0_g1_i1\tsp|Q28178|TSP1_BOVIN\t43.86\t114\t58\t2\t7\t333\t436\t548\t9e-23\t  100\r\n",
      "TR60726|c0_g1_i1\tsp|Q5AXT5|PIF1_EMENI\t34.78\t184\t112\t2\t567\t37\t368\t550\t8e-22\t97.4\r\n",
      "TR60766|c0_g1_i1\tsp|Q9VUL9|FUCTA_DROME\t38.27\t162\t87\t7\t546\t94\t333\t492\t7e-22\t96.3\r\n",
      "TR60892|c0_g1_i1\tsp|P98092|HMCT_BOMMO\t35.14\t148\t81\t5\t423\t10\t269\t411\t4e-22\t97.4\r\n",
      "TR61007|c0_g1_i1\tsp|Q55BZ5|DCD1A_DICDI\t35.04\t137\t89\t0\t429\t19\t35\t171\t3e-23\t98.2\r\n",
      "TR61196|c0_g1_i1\tsp|P91778|AMY_PECMA\t70.15\t67\t19\t1\t125\t322\t17\t83\t1e-28\t  112\r\n",
      "TR61312|c0_g1_i1\tsp|Q5DRD8|PCDBB_PANTR\t43.14\t102\t57\t1\t318\t13\t209\t309\t5e-21\t92.0\r\n",
      "TR61313|c0_g1_i1\tsp|Q6L6Q6|LYS_CRAGI\t68.06\t72\t22\t1\t66\t281\t19\t89\t1e-27\t  103\r\n",
      "TR61350|c0_g1_i1\tsp|Q2PC93|SSPO_CHICK\t57.33\t75\t32\t0\t28\t252\t1212\t1286\t4e-24\t  100\r\n"
     ]
    }
   ],
   "source": [
    "!tail ../analyses/Olyv6_blastx_sprot_2016_09.tab"
   ]
  },
  {
   "cell_type": "code",
   "execution_count": 16,
   "metadata": {
    "collapsed": true
   },
   "outputs": [],
   "source": [
    "# change pipes to tabs\n",
    "!tr '|' \"\\t\" <../analyses/Olyv6_blastx_sprot_2016_09.tab> ../analyses/Olyv6_blastx_sprot_2016_09.sql"
   ]
  },
  {
   "cell_type": "code",
   "execution_count": 17,
   "metadata": {
    "collapsed": false
   },
   "outputs": [
    {
     "name": "stdout",
     "output_type": "stream",
     "text": [
      "TR31\tc0_g1_i1\tsp\tQ6V0I7\tFAT4_HUMAN\t39.84\t128\t73\t4\t6\t380\t3848\t3974\t4e-25\t  105\r\n",
      "TR49\tc0_g1_i1\tsp\tQ3U9G9\tLBR_MOUSE\t46.25\t160\t85\t1\t478\t2\t455\t614\t7e-48\t  168\r\n",
      "TR51\tc0_g1_i1\tsp\tQ9W0K0\tJIP1_DROME\t46.56\t189\t94\t3\t5\t559\t305\t490\t2e-49\t  181\r\n",
      "TR56\tc0_g1_i1\tsp\tP20825\tPOL2_DROME\t44.93\t138\t72\t2\t24\t437\t485\t618\t2e-28\t  115\r\n",
      "TR60\tc0_g1_i1\tsp\tO95834\tEMAL2_HUMAN\t31.01\t474\t293\t14\t1478\t72\t204\t648\t3e-54\t  198\r\n",
      "TR78\tc0_g1_i1\tsp\tO44857\tNEPL2_CAEEL\t48.95\t143\t70\t2\t1\t429\t597\t736\t5e-39\t  147\r\n",
      "TR79\tc0_g1_i1\tsp\tP06867\tPLMN_PIG\t38.12\t223\t112\t9\t4\t618\t48\t262\t4e-34\t  133\r\n",
      "TR91\tc0_g1_i1\tsp\tQ5R9C2\tS6A15_PONAB\t34.52\t310\t160\t2\t1071\t262\t340\t646\t2e-34\t  138\r\n",
      "TR115\tc0_g1_i1\tsp\tQ6IQ20\tNAPEP_HUMAN\t48.02\t227\t107\t6\t659\t3\t51\t274\t6e-66\t  215\r\n",
      "TR129\tc0_g1_i1\tsp\tQ6P9T8\tTBB4B_RAT\t97.11\t173\t5\t0\t144\t662\t1\t173\t3e-105\t  318\r\n"
     ]
    }
   ],
   "source": [
    "!head ../analyses/Olyv6_blastx_sprot_2016_09.sql"
   ]
  },
  {
   "cell_type": "markdown",
   "metadata": {},
   "source": [
    "# joining in SQLShare to get protein name"
   ]
  },
  {
   "cell_type": "markdown",
   "metadata": {},
   "source": [
    "with \n",
    "<img src=\"http://eagle.fish.washington.edu/cnidarian/skitch/SQLShare_-_View_Query_and_01-Ostrea-blast_1DBCFA32.png\" alt=\"SQLShare_-_View_Query_and_01-Ostrea-blast_1DBCFA32.png\"/>"
   ]
  },
  {
   "cell_type": "markdown",
   "metadata": {},
   "source": [
    "## First Step - upload"
   ]
  },
  {
   "cell_type": "code",
   "execution_count": null,
   "metadata": {
    "collapsed": true
   },
   "outputs": [],
   "source": []
  }
 ],
 "metadata": {
  "anaconda-cloud": {},
  "kernelspec": {
   "display_name": "Python [default]",
   "language": "python",
   "name": "python2"
  },
  "language_info": {
   "codemirror_mode": {
    "name": "ipython",
    "version": 2
   },
   "file_extension": ".py",
   "mimetype": "text/x-python",
   "name": "python",
   "nbconvert_exporter": "python",
   "pygments_lexer": "ipython2",
   "version": "2.7.12"
  }
 },
 "nbformat": 4,
 "nbformat_minor": 0
}
