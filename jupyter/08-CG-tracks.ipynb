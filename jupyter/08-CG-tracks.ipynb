{
 "cells": [
  {
   "cell_type": "markdown",
   "metadata": {},
   "source": [
    "# Cyverse"
   ]
  },
  {
   "cell_type": "code",
   "execution_count": 1,
   "metadata": {
    "collapsed": false
   },
   "outputs": [
    {
     "ename": "SyntaxError",
     "evalue": "invalid syntax (<ipython-input-1-bcc43f892357>, line 1)",
     "output_type": "error",
     "traceback": [
      "\u001b[0;36m  File \u001b[0;32m\"<ipython-input-1-bcc43f892357>\"\u001b[0;36m, line \u001b[0;32m1\u001b[0m\n\u001b[0;31m    Nope not there\u001b[0m\n\u001b[0m                 ^\u001b[0m\n\u001b[0;31mSyntaxError\u001b[0m\u001b[0;31m:\u001b[0m invalid syntax\n"
     ]
    }
   ],
   "source": [
    "Nope not there"
   ]
  },
  {
   "cell_type": "markdown",
   "metadata": {},
   "source": [
    "# Web server"
   ]
  },
  {
   "cell_type": "markdown",
   "metadata": {},
   "source": [
    "<img src=\"http://eagle.fish.washington.edu/cnidarian/skitch/www_bioinformatics_nl_emboss-explorer_output_221496_outfile_1DDA5520.png\" alt=\"www_bioinformatics_nl_emboss-explorer_output_221496_outfile_1DDA5520.png\"/>"
   ]
  },
  {
   "cell_type": "code",
   "execution_count": 4,
   "metadata": {
    "collapsed": false
   },
   "outputs": [
    {
     "data": {
      "text/plain": [
       "u'/Users/sr320/git-repos/student-fish546-2016/jupyter'"
      ]
     },
     "execution_count": 4,
     "metadata": {},
     "output_type": "execute_result"
    }
   ],
   "source": [
    "pwd"
   ]
  },
  {
   "cell_type": "code",
   "execution_count": 6,
   "metadata": {
    "collapsed": false
   },
   "outputs": [
    {
     "name": "stdout",
     "output_type": "stream",
     "text": [
      "  % Total    % Received % Xferd  Average Speed   Time    Time     Time  Current\n",
      "                                 Dload  Upload   Total   Spent    Left  Speed\n",
      "100  251M  100  251M    0     0  5713k      0  0:00:45  0:00:45 --:--:-- 5903k\n",
      "curl: (6) Could not resolve host: data\n"
     ]
    }
   ],
   "source": [
    "!curl http://www.bioinformatics.nl/emboss-explorer/output/221496/outfile \\\n",
    "-O data/file.gff    "
   ]
  },
  {
   "cell_type": "code",
   "execution_count": 8,
   "metadata": {
    "collapsed": false
   },
   "outputs": [
    {
     "name": "stdout",
     "output_type": "stream",
     "text": [
      "##gff-version 3\r\n",
      "##sequence-region scaffold8 1 11846\r\n",
      "#!Date 2016-11-14\r\n",
      "#!Type DNA\r\n",
      "#!Source-version EMBOSS 6.6.0.0\r\n",
      "scaffold8\tfuzznuc\tnucleotide_motif\t12\t13\t2\t+\t.\tID=scaffold8.1;note=*pat pattern:CG\r\n",
      "scaffold8\tfuzznuc\tnucleotide_motif\t19\t20\t2\t+\t.\tID=scaffold8.2;note=*pat pattern:CG\r\n",
      "scaffold8\tfuzznuc\tnucleotide_motif\t28\t29\t2\t+\t.\tID=scaffold8.3;note=*pat pattern:CG\r\n",
      "scaffold8\tfuzznuc\tnucleotide_motif\t108\t109\t2\t+\t.\tID=scaffold8.4;note=*pat pattern:CG\r\n",
      "scaffold8\tfuzznuc\tnucleotide_motif\t156\t157\t2\t+\t.\tID=scaffold8.5;note=*pat pattern:CG\r\n"
     ]
    }
   ],
   "source": [
    "!head /Users/sr320/git-repos/student-fish546-2016/data/CG-fuzz-Ostrea_lurida-Scaff-10k.gff"
   ]
  },
  {
   "cell_type": "code",
   "execution_count": 9,
   "metadata": {
    "collapsed": false
   },
   "outputs": [
    {
     "name": "stdout",
     "output_type": "stream",
     "text": [
      "  % Total    % Received % Xferd  Average Speed   Time    Time     Time  Current\n",
      "                                 Dload  Upload   Total   Spent    Left  Speed\n",
      "100  251M  100  251M    0     0  3713k      0  0:01:09  0:01:09 --:--:-- 5530k\n",
      "curl: (6) Could not resolve host: file2\n"
     ]
    }
   ],
   "source": [
    "!curl http://www.bioinformatics.nl/emboss-explorer/output/221496/outfile \\\n",
    "-O file2"
   ]
  },
  {
   "cell_type": "code",
   "execution_count": 10,
   "metadata": {
    "collapsed": false
   },
   "outputs": [
    {
     "name": "stdout",
     "output_type": "stream",
     "text": [
      "  % Total    % Received % Xferd  Average Speed   Time    Time     Time  Current\n",
      "                                 Dload  Upload   Total   Spent    Left  Speed\n",
      "100 11.7M  100 11.7M    0     0  3361k      0  0:00:03  0:00:03 --:--:-- 3362k\n"
     ]
    }
   ],
   "source": [
    "!curl http://www.bioinformatics.nl/emboss-explorer/output/512779/outfile \\\n",
    "-o ccgg.gff    "
   ]
  },
  {
   "cell_type": "code",
   "execution_count": 11,
   "metadata": {
    "collapsed": false
   },
   "outputs": [
    {
     "name": "stdout",
     "output_type": "stream",
     "text": [
      "##gff-version 3\r\n",
      "##sequence-region scaffold8 1 11846\r\n",
      "#!Date 2016-11-14\r\n",
      "#!Type DNA\r\n",
      "#!Source-version EMBOSS 6.6.0.0\r\n",
      "scaffold8\tfuzznuc\tnucleotide_motif\t2609\t2612\t4\t+\t.\tID=scaffold8.1;note=*pat pattern:CCGG\r\n",
      "scaffold8\tfuzznuc\tnucleotide_motif\t4562\t4565\t4\t+\t.\tID=scaffold8.2;note=*pat pattern:CCGG\r\n",
      "scaffold8\tfuzznuc\tnucleotide_motif\t4688\t4691\t4\t+\t.\tID=scaffold8.3;note=*pat pattern:CCGG\r\n",
      "scaffold8\tfuzznuc\tnucleotide_motif\t6433\t6436\t4\t+\t.\tID=scaffold8.4;note=*pat pattern:CCGG\r\n",
      "scaffold8\tfuzznuc\tnucleotide_motif\t7264\t7267\t4\t+\t.\tID=scaffold8.5;note=*pat pattern:CCGG\r\n"
     ]
    }
   ],
   "source": [
    "!head ccgg.gff"
   ]
  },
  {
   "cell_type": "code",
   "execution_count": 12,
   "metadata": {
    "collapsed": false
   },
   "outputs": [
    {
     "name": "stdout",
     "output_type": "stream",
     "text": [
      "/Volumes/web/halfshell/2016-11-oly-annotation/CCGG-fuzz-Ostrea_lurida-Scaff-10k.gff\r\n",
      "/Volumes/web/halfshell/2016-11-oly-annotation/CCGG-fuzz-Ostrea_lurida-Scaff-10k.gff.idx\r\n",
      "/Volumes/web/halfshell/2016-11-oly-annotation/CG-fuzz-Ostrea_lurida-Scaff-10k.gff\r\n",
      "/Volumes/web/halfshell/2016-11-oly-annotation/CG-fuzz-Ostrea_lurida-Scaff-10k.gff.idx\r\n"
     ]
    }
   ],
   "source": [
    "!ls /Volumes/web/halfshell/2016-11-oly-annotation/C*"
   ]
  },
  {
   "cell_type": "code",
   "execution_count": 14,
   "metadata": {
    "collapsed": false
   },
   "outputs": [
    {
     "name": "stdout",
     "output_type": "stream",
     "text": [
      "\r\n",
      "*****\r\n",
      "*****ERROR: Need both a BED (-i) and a genome (-g) file. \r\n",
      "*****\r\n",
      "\r\n",
      "*****\r\n",
      "*****ERROR: Need -l and -r together or -b alone. \r\n",
      "*****\r\n",
      "\r\n",
      "Tool:    bedtools flank (aka flankBed)\r\n",
      "Version: v2.22.0\r\n",
      "Summary: Creates flanking interval(s) for each BED/GFF/VCF feature.\r\n",
      "\r\n",
      "Usage:   bedtools flank [OPTIONS] -i <bed/gff/vcf> -g <genome> [-b <int> or (-l and -r)]\r\n",
      "\r\n",
      "Options: \r\n",
      "\t-b\tCreate flanking interval(s) using -b base pairs in each direction.\r\n",
      "\t\t- (Integer) or (Float, e.g. 0.1) if used with -pct.\r\n",
      "\r\n",
      "\t-l\tThe number of base pairs that a flank should start from\r\n",
      "\t\torig. start coordinate.\r\n",
      "\t\t- (Integer) or (Float, e.g. 0.1) if used with -pct.\r\n",
      "\r\n",
      "\t-r\tThe number of base pairs that a flank should end from\r\n",
      "\t\torig. end coordinate.\r\n",
      "\t\t- (Integer) or (Float, e.g. 0.1) if used with -pct.\r\n",
      "\r\n",
      "\t-s\tDefine -l and -r based on strand.\r\n",
      "\t\tE.g. if used, -l 500 for a negative-stranded feature, \r\n",
      "\t\tit will start the flank 500 bp downstream.  Default = false.\r\n",
      "\r\n",
      "\t-pct\tDefine -l and -r as a fraction of the feature's length.\r\n",
      "\t\tE.g. if used on a 1000bp feature, -l 0.50, \r\n",
      "\t\twill add 500 bp \"upstream\".  Default = false.\r\n",
      "\r\n",
      "\t-header\tPrint the header from the input file prior to results.\r\n",
      "\r\n",
      "Notes: \r\n",
      "\t(1)  Starts will be set to 0 if options would force it below 0.\r\n",
      "\t(2)  Ends will be set to the chromosome length if requested flank would\r\n",
      "\tforce it above the max chrom length.\r\n",
      "\t(3)  In contrast to slop, which _extends_ intervals, bedtools flank\r\n",
      "\tcreates new intervals from the regions just up- and down-stream\r\n",
      "\tof your existing intervals.\r\n",
      "\t(4)  The genome file should tab delimited and structured as follows:\r\n",
      "\r\n",
      "\t<chromName><TAB><chromSize>\r\n",
      "\r\n",
      "\tFor example, Human (hg19):\r\n",
      "\tchr1\t249250621\r\n",
      "\tchr2\t243199373\r\n",
      "\t...\r\n",
      "\tchr18_gl000207_random\t4262\r\n",
      "\r\n",
      "Tips: \r\n",
      "\tOne can use the UCSC Genome Browser's MySQL database to extract\r\n",
      "\tchromosome sizes. For example, H. sapiens:\r\n",
      "\r\n",
      "\tmysql --user=genome --host=genome-mysql.cse.ucsc.edu -A -e \\\r\n",
      "\t\"select chrom, size from hg19.chromInfo\"  > hg19.genome\r\n",
      "\r\n"
     ]
    }
   ],
   "source": [
    "!bedtools flank"
   ]
  },
  {
   "cell_type": "code",
   "execution_count": null,
   "metadata": {
    "collapsed": true
   },
   "outputs": [],
   "source": []
  }
 ],
 "metadata": {
  "kernelspec": {
   "display_name": "Python 2",
   "language": "python",
   "name": "python2"
  },
  "language_info": {
   "codemirror_mode": {
    "name": "ipython",
    "version": 2
   },
   "file_extension": ".py",
   "mimetype": "text/x-python",
   "name": "python",
   "nbconvert_exporter": "python",
   "pygments_lexer": "ipython2",
   "version": "2.7.12"
  }
 },
 "nbformat": 4,
 "nbformat_minor": 0
}
